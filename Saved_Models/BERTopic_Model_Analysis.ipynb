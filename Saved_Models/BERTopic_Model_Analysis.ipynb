{
  "nbformat": 4,
  "nbformat_minor": 0,
  "metadata": {
    "colab": {
      "name": "BERTopic_Model_Analysis.ipynb",
      "provenance": [],
      "collapsed_sections": [],
      "mount_file_id": "1B2952Ra3tUJG0OwutTIVAWr7SEC8BIzr",
      "authorship_tag": "ABX9TyNLFpdc+tUJ4z59uGk6F6Fr",
      "include_colab_link": true
    },
    "kernelspec": {
      "name": "python3",
      "display_name": "Python 3"
    },
    "language_info": {
      "name": "python"
    }
  },
  "cells": [
    {
      "cell_type": "markdown",
      "metadata": {
        "id": "view-in-github",
        "colab_type": "text"
      },
      "source": [
        "<a href=\"https://colab.research.google.com/github/Colsai/scott_data606/blob/main/Saved_Models/BERTopic_Model_Analysis.ipynb\" target=\"_parent\"><img src=\"https://colab.research.google.com/assets/colab-badge.svg\" alt=\"Open In Colab\"/></a>"
      ]
    },
    {
      "cell_type": "markdown",
      "source": [
        "# BERTopic Model Analysis\n",
        "In this last step, we'll look to answer the questions from two pre-trained/created topic models.\n",
        "\n",
        "This is due to the variances between model creation that occur every time the unsupervised BERTopic runs- topics can change, so it is important here to do an analysis on a discrete and finished set of models."
      ],
      "metadata": {
        "id": "-zVX2AsnVVDI"
      }
    },
    {
      "cell_type": "code",
      "source": [
        "from IPython.display import clear_output"
      ],
      "metadata": {
        "id": "rHpn2wcqR0UO"
      },
      "execution_count": 1,
      "outputs": []
    },
    {
      "cell_type": "code",
      "execution_count": 2,
      "metadata": {
        "id": "2o63jLEDR4XL"
      },
      "outputs": [],
      "source": [
        "#Install missing packages\n",
        "!pip install pyLDAvis\n",
        "!pip install bertopic\n",
        "!pip install bertopic[visualization]\n",
        "!python -m spacy download en_core_web_md -qq\n",
        "clear_output()"
      ]
    },
    {
      "cell_type": "code",
      "source": [
        "###########################\n",
        "# Import Packages         #\n",
        "###########################\n",
        "import pandas as pd\n",
        "import sklearn\n",
        "import nltk\n",
        "import spacy\n",
        "import matplotlib.pyplot as plt\n",
        "import seaborn as sns\n",
        "import pyLDAvis.gensim_models\n",
        "import en_core_web_md\n",
        "import gensim\n",
        "import random\n",
        "import os\n",
        "import pyLDAvis\n",
        "from nltk.tokenize import RegexpTokenizer\n",
        "from gensim.models.coherencemodel import CoherenceModel\n",
        "from gensim.corpora.dictionary import Dictionary\n",
        "from gensim.models import LdaMulticore\n",
        "from gensim.models import CoherenceModel\n",
        "from gensim import corpora, models\n",
        "from gensim.test.utils import datapath\n",
        "import warnings\n",
        "import textwrap\n",
        "\n",
        "warnings.filterwarnings('ignore')\n",
        "\n",
        "# Set options for specific packages\n",
        "nltk.download(['punkt', \n",
        "               'stopwords',\n",
        "               'wordnet',\n",
        "               'omw-1.4'])\n",
        "\n",
        "# Visualise inside a notebook\n",
        "pyLDAvis.enable_notebook()\n",
        "\n",
        "sns.set()\n",
        "\n",
        "clear_output()"
      ],
      "metadata": {
        "id": "7HkTxQEcR9Ma"
      },
      "execution_count": 3,
      "outputs": []
    },
    {
      "cell_type": "code",
      "source": [
        "#Added the function used as reference for loading the model\n",
        "\n",
        "#CountVectorizer is used here for removing stopwords after processing\n",
        "from sklearn.feature_extraction.text import CountVectorizer   \n",
        "from nltk.stem import WordNetLemmatizer \n",
        "from nltk import word_tokenize\n",
        "\n",
        "#Remove Stopwords through vectorizer_model\n",
        "from bertopic import BERTopic\n",
        "\n",
        "#Lemmatizer for cleaning text\n",
        "class LemmaTokenizer:\n",
        "    def __init__(self):\n",
        "        self.wnl = WordNetLemmatizer()\n",
        "\n",
        "    def __call__(self, doc):\n",
        "        return [self.wnl.lemmatize(t) for t in word_tokenize(doc)]"
      ],
      "metadata": {
        "id": "M9XxBVvUcDd0"
      },
      "execution_count": null,
      "outputs": []
    },
    {
      "cell_type": "code",
      "source": [
        "#Change to the models folder\n",
        "os.chdir(\"/content/drive/MyDrive/DATA_606/Models\")"
      ],
      "metadata": {
        "id": "nFGhdFztSMeN"
      },
      "execution_count": 4,
      "outputs": []
    },
    {
      "cell_type": "markdown",
      "source": [
        "# 1. Load Models\n",
        "- Load reports_model, workplan_model from GDrive\n",
        "- Show the models that were used"
      ],
      "metadata": {
        "id": "Fdus7trIcHnx"
      }
    },
    {
      "cell_type": "code",
      "source": [
        "#########################\n",
        "# Load Models\n",
        "#########################\n",
        "from bertopic import BERTopic\n",
        "try:\n",
        "    reports_model = BERTopic.load(\"reports_model\")\n",
        "    workplan_model = BERTopic.load(\"workplan_model\")\n",
        "\n",
        "except Exception as e:\n",
        "    print(f\"Models did not load: {e}\")"
      ],
      "metadata": {
        "id": "6_cq9YjqR-8X"
      },
      "execution_count": 6,
      "outputs": []
    },
    {
      "cell_type": "code",
      "source": [
        "workplan_model.get_params()"
      ],
      "metadata": {
        "colab": {
          "base_uri": "https://localhost:8080/"
        },
        "id": "A0oi5i3Kc473",
        "outputId": "629f20e9-048d-4402-be41-196f55474ef3"
      },
      "execution_count": 20,
      "outputs": [
        {
          "output_type": "execute_result",
          "data": {
            "text/plain": [
              "{'calculate_probabilities': False,\n",
              " 'diversity': None,\n",
              " 'embedding_model': <bertopic.backend._sentencetransformers.SentenceTransformerBackend at 0x7ff0d90f8950>,\n",
              " 'hdbscan_model': HDBSCAN(min_cluster_size=10, prediction_data=True),\n",
              " 'language': 'english',\n",
              " 'low_memory': False,\n",
              " 'min_topic_size': 10,\n",
              " 'n_gram_range': (1, 2),\n",
              " 'nr_topics': None,\n",
              " 'seed_topic_list': None,\n",
              " 'top_n_words': 10,\n",
              " 'umap_model': UMAP(angular_rp_forest=True, low_memory=False, metric='cosine', min_dist=0.0, n_components=5, tqdm_kwds={'bar_format': '{desc}: {percentage:3.0f}%| {bar} {n_fmt}/{total_fmt} [{elapsed}]', 'desc': 'Epochs completed', 'disable': True}),\n",
              " 'vectorizer_model': CountVectorizer(ngram_range=(1, 2),\n",
              "                 stop_words=['i', 'me', 'my', 'myself', 'we', 'our', 'ours',\n",
              "                             'ourselves', 'you', \"you're\", \"you've\", \"you'll\",\n",
              "                             \"you'd\", 'your', 'yours', 'yourself', 'yourselves',\n",
              "                             'he', 'him', 'his', 'himself', 'she', \"she's\",\n",
              "                             'her', 'hers', 'herself', 'it', \"it's\", 'its',\n",
              "                             'itself', ...],\n",
              "                 tokenizer=<__main__.LemmaTokenizer object at 0x7ff0d9af9850>),\n",
              " 'verbose': False}"
            ]
          },
          "metadata": {},
          "execution_count": 20
        }
      ]
    },
    {
      "cell_type": "code",
      "source": [
        "#########################\n",
        "# Model Info\n",
        "#########################\n",
        "print(reports_model.get_params())\n",
        "print(workplan_model.get_params())"
      ],
      "metadata": {
        "colab": {
          "base_uri": "https://localhost:8080/"
        },
        "id": "VPFvzGJfT3dJ",
        "outputId": "2eaca6ad-2984-4d73-a35a-6b5fb4ea9b67"
      },
      "execution_count": 7,
      "outputs": [
        {
          "output_type": "stream",
          "name": "stdout",
          "text": [
            "{'calculate_probabilities': False, 'diversity': None, 'embedding_model': <bertopic.backend._sentencetransformers.SentenceTransformerBackend object at 0x7ff0da0af610>, 'hdbscan_model': HDBSCAN(min_cluster_size=10, prediction_data=True), 'language': 'english', 'low_memory': False, 'min_topic_size': 10, 'n_gram_range': (1, 2), 'nr_topics': None, 'seed_topic_list': None, 'top_n_words': 10, 'umap_model': UMAP(angular_rp_forest=True, low_memory=False, metric='cosine', min_dist=0.0, n_components=5, tqdm_kwds={'bar_format': '{desc}: {percentage:3.0f}%| {bar} {n_fmt}/{total_fmt} [{elapsed}]', 'desc': 'Epochs completed', 'disable': True}), 'vectorizer_model': CountVectorizer(ngram_range=(1, 2),\n",
            "                stop_words=['i', 'me', 'my', 'myself', 'we', 'our', 'ours',\n",
            "                            'ourselves', 'you', \"you're\", \"you've\", \"you'll\",\n",
            "                            \"you'd\", 'your', 'yours', 'yourself', 'yourselves',\n",
            "                            'he', 'him', 'his', 'himself', 'she', \"she's\",\n",
            "                            'her', 'hers', 'herself', 'it', \"it's\", 'its',\n",
            "                            'itself', ...],\n",
            "                tokenizer=<__main__.LemmaTokenizer object at 0x7ff0d9af9510>), 'verbose': False}\n",
            "{'calculate_probabilities': False, 'diversity': None, 'embedding_model': <bertopic.backend._sentencetransformers.SentenceTransformerBackend object at 0x7ff0d90f8950>, 'hdbscan_model': HDBSCAN(min_cluster_size=10, prediction_data=True), 'language': 'english', 'low_memory': False, 'min_topic_size': 10, 'n_gram_range': (1, 2), 'nr_topics': None, 'seed_topic_list': None, 'top_n_words': 10, 'umap_model': UMAP(angular_rp_forest=True, low_memory=False, metric='cosine', min_dist=0.0, n_components=5, tqdm_kwds={'bar_format': '{desc}: {percentage:3.0f}%| {bar} {n_fmt}/{total_fmt} [{elapsed}]', 'desc': 'Epochs completed', 'disable': True}), 'vectorizer_model': CountVectorizer(ngram_range=(1, 2),\n",
            "                stop_words=['i', 'me', 'my', 'myself', 'we', 'our', 'ours',\n",
            "                            'ourselves', 'you', \"you're\", \"you've\", \"you'll\",\n",
            "                            \"you'd\", 'your', 'yours', 'yourself', 'yourselves',\n",
            "                            'he', 'him', 'his', 'himself', 'she', \"she's\",\n",
            "                            'her', 'hers', 'herself', 'it', \"it's\", 'its',\n",
            "                            'itself', ...],\n",
            "                tokenizer=<__main__.LemmaTokenizer object at 0x7ff0d9af9850>), 'verbose': False}\n"
          ]
        }
      ]
    },
    {
      "cell_type": "code",
      "source": [
        "#########################\n",
        "# Basic Topics\n",
        "#########################\n",
        "#Show all topics as sentences:\n",
        "def show_all_topics(model):\n",
        "    for i in range(0,len(model.get_topic_info())-1):\n",
        "        print(f\"{i}.\", end = '')\n",
        "        for j in range(0,10):\n",
        "            print(model.get_topics()[i][j][0], end = ' ')\n",
        "        print(\"\")"
      ],
      "metadata": {
        "id": "3TwgfkWIScUy"
      },
      "execution_count": 8,
      "outputs": []
    },
    {
      "cell_type": "markdown",
      "source": [
        ""
      ],
      "metadata": {
        "id": "zQDCA4GobuDB"
      }
    },
    {
      "cell_type": "code",
      "source": [
        "#Show the topics from workplans\n",
        "show_all_topics(workplan_model)"
      ],
      "metadata": {
        "colab": {
          "base_uri": "https://localhost:8080/"
        },
        "id": "FUfedJXQSz8M",
        "outputId": "323ef9b3-0e99-4bc3-f41f-197ac9cdb2aa"
      },
      "execution_count": 17,
      "outputs": [
        {
          "output_type": "stream",
          "name": "stdout",
          "text": [
            "0.medicare payment hospital service claim inpatient physician beneficiary part overpayment \n",
            "1.drug part medicare manufacturer price rebate beneficiary hospice amount medicaid \n",
            "2.state medicaid care service federal managed care managed payment mcos provider \n",
            "3.financial audit agency card federal financial statement statement act improper charge \n",
            "4.preparedness emergency covid19 home nursing home nursing response disease infection emergency preparedness \n",
            "5.child state family program check foster childcare care foster care background \n",
            "6.health pepfar fund cdc provider pepfar fund relief covid19 control health center \n",
            "7.mfcus medicaid fraud state mfcu data abuse state medicaid report provides \n",
            "8.cybersecurity security information technology gda data device federal opdivs cloud \n",
            "9.nih institute research national institute grant grantee institute health national foreign health \n",
            "10.child orr unaccompanied refugee unaccompanied child facility resettlement refugee resettlement resettlement orr office refugee \n",
            "11.opioid overdose opioids death crisis beneficiary overdose death data opioid use part \n",
            "12.ihs indian health indian health health service service tribal facility service ihs program \n",
            "13.fda product food drug inspection tobacco food drug drug administration tobacco product administration \n",
            "14.nursing nursing home nursing facility home facility staffing abuse neglect neglect resident quality care \n",
            "15.telehealth telehealth service service medicare psychotherapy psychotherapy service pandemic health telecommunication use \n",
            "16.diagnosis organization advantage medicare advantage cm medicare advantage organization data payment record \n",
            "17.opioid treatment disorder mat use disorder substance samhsa use grant state \n"
          ]
        }
      ]
    },
    {
      "cell_type": "code",
      "source": [
        "#Show the topics from reports\n",
        "show_all_topics(reports_model)"
      ],
      "metadata": {
        "colab": {
          "base_uri": "https://localhost:8080/"
        },
        "id": "jB96N6S1SxU-",
        "outputId": "3c9b0f10-a9a2-40c0-ec7b-6225f3f59599"
      },
      "execution_count": 18,
      "outputs": [
        {
          "output_type": "stream",
          "name": "stdout",
          "text": [
            "0.medicaid federal state payment new million new york york service beneficiary \n",
            "1.medicare claim payment hospital service requirement beneficiary cm overpayment inpatient \n",
            "2.cost medicare pension prb cys claimed icps 2016 prb cost asset \n",
            "3.drug rebate part physicianadministered manufacturer physicianadministered drug formulary medicaid federal share federal \n",
            "4.grant nih fund head start head start federal grantee audit acf \n",
            "5.incident abuse neglect abuse neglect critical incident state critical potential abuse group home home \n",
            "6.opioid opioid use use opioids treatment otps crisis beneficiary opioid crisis overdose \n",
            "7.cm mao diagnosis data payment provider diagnosis code code risk record \n",
            "8.check background check background child child care provider criminal background criminal care state \n",
            "9.nursing home telehealth nursing home covid19 pandemic cm state staffing resident \n",
            "10.price drug quarter substitution price substitution cm previous 5 percent 5 data \n",
            "11.ihs patient policy health facility indian hospital staff care card \n",
            "12.home health home claim service health overpayment hhas medical skilled medicare \n",
            "13.hospice hospice service medicare claim service medicare requirement beneficiary requirement provided terminal \n",
            "14.orr child uac refugee unaccompanied facility custody release uac program resettlement \n",
            "15.unit case fraud mfcus mfcu medicaid conviction federal medicaid fraud patient abuse \n",
            "16.grant path program health path program health center fund opioid consumer aim \n",
            "17.ondcp fiscal year fiscal circular drug control year assertion compliance performance report \n",
            "18.test lab lab test payment medicare rate payment rate medicare payment spending payment system \n"
          ]
        }
      ]
    },
    {
      "cell_type": "code",
      "source": [
        "workplan_model.get_topic_info()[1:]"
      ],
      "metadata": {
        "colab": {
          "base_uri": "https://localhost:8080/",
          "height": 614
        },
        "id": "-BQf6m_XTLG6",
        "outputId": "af84d8c0-09ba-4ee4-9142-1eb1aa9a2a63"
      },
      "execution_count": 11,
      "outputs": [
        {
          "output_type": "execute_result",
          "data": {
            "text/plain": [
              "    Topic  Count                                               Name\n",
              "1       0     91                0_medicare_payment_hospital_service\n",
              "2       1     74                  1_drug_part_medicare_manufacturer\n",
              "3       2     71                      2_state_medicaid_care_service\n",
              "4       3     40                      3_financial_audit_agency_card\n",
              "5       4     38              4_preparedness_emergency_covid19_home\n",
              "6       5     32                       5_child_state_family_program\n",
              "7       6     25                           6_health_pepfar_fund_cdc\n",
              "8       7     23                       7_mfcus_medicaid_fraud_state\n",
              "9       8     22    8_cybersecurity_security_information_technology\n",
              "10      9     22        9_nih_institute_research_national institute\n",
              "11     10     20                 10_child_orr_unaccompanied_refugee\n",
              "12     11     19                   11_opioid_overdose_opioids_death\n",
              "13     12     17                 12_ihs_indian_health_indian health\n",
              "14     13     15                           13_fda_product_food_drug\n",
              "15     14     13      14_nursing_nursing home_nursing facility_home\n",
              "16     15     11  15_telehealth_telehealth service_service_medicare\n",
              "17     16     11  16_diagnosis_organization_advantage_medicare a...\n",
              "18     17     11                   17_opioid_treatment_disorder_mat"
            ],
            "text/html": [
              "\n",
              "  <div id=\"df-0fabbc6a-c097-4a7a-98d9-41566a91f8ed\">\n",
              "    <div class=\"colab-df-container\">\n",
              "      <div>\n",
              "<style scoped>\n",
              "    .dataframe tbody tr th:only-of-type {\n",
              "        vertical-align: middle;\n",
              "    }\n",
              "\n",
              "    .dataframe tbody tr th {\n",
              "        vertical-align: top;\n",
              "    }\n",
              "\n",
              "    .dataframe thead th {\n",
              "        text-align: right;\n",
              "    }\n",
              "</style>\n",
              "<table border=\"1\" class=\"dataframe\">\n",
              "  <thead>\n",
              "    <tr style=\"text-align: right;\">\n",
              "      <th></th>\n",
              "      <th>Topic</th>\n",
              "      <th>Count</th>\n",
              "      <th>Name</th>\n",
              "    </tr>\n",
              "  </thead>\n",
              "  <tbody>\n",
              "    <tr>\n",
              "      <th>1</th>\n",
              "      <td>0</td>\n",
              "      <td>91</td>\n",
              "      <td>0_medicare_payment_hospital_service</td>\n",
              "    </tr>\n",
              "    <tr>\n",
              "      <th>2</th>\n",
              "      <td>1</td>\n",
              "      <td>74</td>\n",
              "      <td>1_drug_part_medicare_manufacturer</td>\n",
              "    </tr>\n",
              "    <tr>\n",
              "      <th>3</th>\n",
              "      <td>2</td>\n",
              "      <td>71</td>\n",
              "      <td>2_state_medicaid_care_service</td>\n",
              "    </tr>\n",
              "    <tr>\n",
              "      <th>4</th>\n",
              "      <td>3</td>\n",
              "      <td>40</td>\n",
              "      <td>3_financial_audit_agency_card</td>\n",
              "    </tr>\n",
              "    <tr>\n",
              "      <th>5</th>\n",
              "      <td>4</td>\n",
              "      <td>38</td>\n",
              "      <td>4_preparedness_emergency_covid19_home</td>\n",
              "    </tr>\n",
              "    <tr>\n",
              "      <th>6</th>\n",
              "      <td>5</td>\n",
              "      <td>32</td>\n",
              "      <td>5_child_state_family_program</td>\n",
              "    </tr>\n",
              "    <tr>\n",
              "      <th>7</th>\n",
              "      <td>6</td>\n",
              "      <td>25</td>\n",
              "      <td>6_health_pepfar_fund_cdc</td>\n",
              "    </tr>\n",
              "    <tr>\n",
              "      <th>8</th>\n",
              "      <td>7</td>\n",
              "      <td>23</td>\n",
              "      <td>7_mfcus_medicaid_fraud_state</td>\n",
              "    </tr>\n",
              "    <tr>\n",
              "      <th>9</th>\n",
              "      <td>8</td>\n",
              "      <td>22</td>\n",
              "      <td>8_cybersecurity_security_information_technology</td>\n",
              "    </tr>\n",
              "    <tr>\n",
              "      <th>10</th>\n",
              "      <td>9</td>\n",
              "      <td>22</td>\n",
              "      <td>9_nih_institute_research_national institute</td>\n",
              "    </tr>\n",
              "    <tr>\n",
              "      <th>11</th>\n",
              "      <td>10</td>\n",
              "      <td>20</td>\n",
              "      <td>10_child_orr_unaccompanied_refugee</td>\n",
              "    </tr>\n",
              "    <tr>\n",
              "      <th>12</th>\n",
              "      <td>11</td>\n",
              "      <td>19</td>\n",
              "      <td>11_opioid_overdose_opioids_death</td>\n",
              "    </tr>\n",
              "    <tr>\n",
              "      <th>13</th>\n",
              "      <td>12</td>\n",
              "      <td>17</td>\n",
              "      <td>12_ihs_indian_health_indian health</td>\n",
              "    </tr>\n",
              "    <tr>\n",
              "      <th>14</th>\n",
              "      <td>13</td>\n",
              "      <td>15</td>\n",
              "      <td>13_fda_product_food_drug</td>\n",
              "    </tr>\n",
              "    <tr>\n",
              "      <th>15</th>\n",
              "      <td>14</td>\n",
              "      <td>13</td>\n",
              "      <td>14_nursing_nursing home_nursing facility_home</td>\n",
              "    </tr>\n",
              "    <tr>\n",
              "      <th>16</th>\n",
              "      <td>15</td>\n",
              "      <td>11</td>\n",
              "      <td>15_telehealth_telehealth service_service_medicare</td>\n",
              "    </tr>\n",
              "    <tr>\n",
              "      <th>17</th>\n",
              "      <td>16</td>\n",
              "      <td>11</td>\n",
              "      <td>16_diagnosis_organization_advantage_medicare a...</td>\n",
              "    </tr>\n",
              "    <tr>\n",
              "      <th>18</th>\n",
              "      <td>17</td>\n",
              "      <td>11</td>\n",
              "      <td>17_opioid_treatment_disorder_mat</td>\n",
              "    </tr>\n",
              "  </tbody>\n",
              "</table>\n",
              "</div>\n",
              "      <button class=\"colab-df-convert\" onclick=\"convertToInteractive('df-0fabbc6a-c097-4a7a-98d9-41566a91f8ed')\"\n",
              "              title=\"Convert this dataframe to an interactive table.\"\n",
              "              style=\"display:none;\">\n",
              "        \n",
              "  <svg xmlns=\"http://www.w3.org/2000/svg\" height=\"24px\"viewBox=\"0 0 24 24\"\n",
              "       width=\"24px\">\n",
              "    <path d=\"M0 0h24v24H0V0z\" fill=\"none\"/>\n",
              "    <path d=\"M18.56 5.44l.94 2.06.94-2.06 2.06-.94-2.06-.94-.94-2.06-.94 2.06-2.06.94zm-11 1L8.5 8.5l.94-2.06 2.06-.94-2.06-.94L8.5 2.5l-.94 2.06-2.06.94zm10 10l.94 2.06.94-2.06 2.06-.94-2.06-.94-.94-2.06-.94 2.06-2.06.94z\"/><path d=\"M17.41 7.96l-1.37-1.37c-.4-.4-.92-.59-1.43-.59-.52 0-1.04.2-1.43.59L10.3 9.45l-7.72 7.72c-.78.78-.78 2.05 0 2.83L4 21.41c.39.39.9.59 1.41.59.51 0 1.02-.2 1.41-.59l7.78-7.78 2.81-2.81c.8-.78.8-2.07 0-2.86zM5.41 20L4 18.59l7.72-7.72 1.47 1.35L5.41 20z\"/>\n",
              "  </svg>\n",
              "      </button>\n",
              "      \n",
              "  <style>\n",
              "    .colab-df-container {\n",
              "      display:flex;\n",
              "      flex-wrap:wrap;\n",
              "      gap: 12px;\n",
              "    }\n",
              "\n",
              "    .colab-df-convert {\n",
              "      background-color: #E8F0FE;\n",
              "      border: none;\n",
              "      border-radius: 50%;\n",
              "      cursor: pointer;\n",
              "      display: none;\n",
              "      fill: #1967D2;\n",
              "      height: 32px;\n",
              "      padding: 0 0 0 0;\n",
              "      width: 32px;\n",
              "    }\n",
              "\n",
              "    .colab-df-convert:hover {\n",
              "      background-color: #E2EBFA;\n",
              "      box-shadow: 0px 1px 2px rgba(60, 64, 67, 0.3), 0px 1px 3px 1px rgba(60, 64, 67, 0.15);\n",
              "      fill: #174EA6;\n",
              "    }\n",
              "\n",
              "    [theme=dark] .colab-df-convert {\n",
              "      background-color: #3B4455;\n",
              "      fill: #D2E3FC;\n",
              "    }\n",
              "\n",
              "    [theme=dark] .colab-df-convert:hover {\n",
              "      background-color: #434B5C;\n",
              "      box-shadow: 0px 1px 3px 1px rgba(0, 0, 0, 0.15);\n",
              "      filter: drop-shadow(0px 1px 2px rgba(0, 0, 0, 0.3));\n",
              "      fill: #FFFFFF;\n",
              "    }\n",
              "  </style>\n",
              "\n",
              "      <script>\n",
              "        const buttonEl =\n",
              "          document.querySelector('#df-0fabbc6a-c097-4a7a-98d9-41566a91f8ed button.colab-df-convert');\n",
              "        buttonEl.style.display =\n",
              "          google.colab.kernel.accessAllowed ? 'block' : 'none';\n",
              "\n",
              "        async function convertToInteractive(key) {\n",
              "          const element = document.querySelector('#df-0fabbc6a-c097-4a7a-98d9-41566a91f8ed');\n",
              "          const dataTable =\n",
              "            await google.colab.kernel.invokeFunction('convertToInteractive',\n",
              "                                                     [key], {});\n",
              "          if (!dataTable) return;\n",
              "\n",
              "          const docLinkHtml = 'Like what you see? Visit the ' +\n",
              "            '<a target=\"_blank\" href=https://colab.research.google.com/notebooks/data_table.ipynb>data table notebook</a>'\n",
              "            + ' to learn more about interactive tables.';\n",
              "          element.innerHTML = '';\n",
              "          dataTable['output_type'] = 'display_data';\n",
              "          await google.colab.output.renderOutput(dataTable, element);\n",
              "          const docLink = document.createElement('div');\n",
              "          docLink.innerHTML = docLinkHtml;\n",
              "          element.appendChild(docLink);\n",
              "        }\n",
              "      </script>\n",
              "    </div>\n",
              "  </div>\n",
              "  "
            ]
          },
          "metadata": {},
          "execution_count": 11
        }
      ]
    },
    {
      "cell_type": "code",
      "source": [
        "reports_model.get_topic_info()[1:]"
      ],
      "metadata": {
        "colab": {
          "base_uri": "https://localhost:8080/",
          "height": 645
        },
        "id": "gI9lRhAwS1cu",
        "outputId": "2b15c588-f538-4125-8b4f-61ffc02da2ad"
      },
      "execution_count": 12,
      "outputs": [
        {
          "output_type": "execute_result",
          "data": {
            "text/plain": [
              "    Topic  Count                                       Name\n",
              "1       0     85           0_medicaid_federal_state_payment\n",
              "2       1     59          1_medicare_claim_payment_hospital\n",
              "3       2     39                2_cost_medicare_pension_prb\n",
              "4       3     38   3_drug_rebate_part_physicianadministered\n",
              "5       4     36                4_grant_nih_fund_head start\n",
              "6       5     31     5_incident_abuse_neglect_abuse neglect\n",
              "7       6     26            6_opioid_opioid use_use_opioids\n",
              "8       7     23                    7_cm_mao_diagnosis_data\n",
              "9       8     22  8_check_background check_background_child\n",
              "10      9     21     9_nursing home_telehealth_nursing_home\n",
              "11     10     19         10_price_drug_quarter_substitution\n",
              "12     11     17               11_ihs_patient_policy_health\n",
              "13     12     16          12_home health_home_claim_service\n",
              "14     13     16  13_hospice_hospice service_medicare_claim\n",
              "15     14     16                   14_orr_child_uac_refugee\n",
              "16     15     16                   15_unit_case_fraud_mfcus\n",
              "17     16     12               16_grant_path_program_health\n",
              "18     17     12       17_ondcp_fiscal year_fiscal_circular\n",
              "19     18     11               18_test_lab_lab test_payment"
            ],
            "text/html": [
              "\n",
              "  <div id=\"df-29c47024-411d-48d2-8308-1fe5293ecaf8\">\n",
              "    <div class=\"colab-df-container\">\n",
              "      <div>\n",
              "<style scoped>\n",
              "    .dataframe tbody tr th:only-of-type {\n",
              "        vertical-align: middle;\n",
              "    }\n",
              "\n",
              "    .dataframe tbody tr th {\n",
              "        vertical-align: top;\n",
              "    }\n",
              "\n",
              "    .dataframe thead th {\n",
              "        text-align: right;\n",
              "    }\n",
              "</style>\n",
              "<table border=\"1\" class=\"dataframe\">\n",
              "  <thead>\n",
              "    <tr style=\"text-align: right;\">\n",
              "      <th></th>\n",
              "      <th>Topic</th>\n",
              "      <th>Count</th>\n",
              "      <th>Name</th>\n",
              "    </tr>\n",
              "  </thead>\n",
              "  <tbody>\n",
              "    <tr>\n",
              "      <th>1</th>\n",
              "      <td>0</td>\n",
              "      <td>85</td>\n",
              "      <td>0_medicaid_federal_state_payment</td>\n",
              "    </tr>\n",
              "    <tr>\n",
              "      <th>2</th>\n",
              "      <td>1</td>\n",
              "      <td>59</td>\n",
              "      <td>1_medicare_claim_payment_hospital</td>\n",
              "    </tr>\n",
              "    <tr>\n",
              "      <th>3</th>\n",
              "      <td>2</td>\n",
              "      <td>39</td>\n",
              "      <td>2_cost_medicare_pension_prb</td>\n",
              "    </tr>\n",
              "    <tr>\n",
              "      <th>4</th>\n",
              "      <td>3</td>\n",
              "      <td>38</td>\n",
              "      <td>3_drug_rebate_part_physicianadministered</td>\n",
              "    </tr>\n",
              "    <tr>\n",
              "      <th>5</th>\n",
              "      <td>4</td>\n",
              "      <td>36</td>\n",
              "      <td>4_grant_nih_fund_head start</td>\n",
              "    </tr>\n",
              "    <tr>\n",
              "      <th>6</th>\n",
              "      <td>5</td>\n",
              "      <td>31</td>\n",
              "      <td>5_incident_abuse_neglect_abuse neglect</td>\n",
              "    </tr>\n",
              "    <tr>\n",
              "      <th>7</th>\n",
              "      <td>6</td>\n",
              "      <td>26</td>\n",
              "      <td>6_opioid_opioid use_use_opioids</td>\n",
              "    </tr>\n",
              "    <tr>\n",
              "      <th>8</th>\n",
              "      <td>7</td>\n",
              "      <td>23</td>\n",
              "      <td>7_cm_mao_diagnosis_data</td>\n",
              "    </tr>\n",
              "    <tr>\n",
              "      <th>9</th>\n",
              "      <td>8</td>\n",
              "      <td>22</td>\n",
              "      <td>8_check_background check_background_child</td>\n",
              "    </tr>\n",
              "    <tr>\n",
              "      <th>10</th>\n",
              "      <td>9</td>\n",
              "      <td>21</td>\n",
              "      <td>9_nursing home_telehealth_nursing_home</td>\n",
              "    </tr>\n",
              "    <tr>\n",
              "      <th>11</th>\n",
              "      <td>10</td>\n",
              "      <td>19</td>\n",
              "      <td>10_price_drug_quarter_substitution</td>\n",
              "    </tr>\n",
              "    <tr>\n",
              "      <th>12</th>\n",
              "      <td>11</td>\n",
              "      <td>17</td>\n",
              "      <td>11_ihs_patient_policy_health</td>\n",
              "    </tr>\n",
              "    <tr>\n",
              "      <th>13</th>\n",
              "      <td>12</td>\n",
              "      <td>16</td>\n",
              "      <td>12_home health_home_claim_service</td>\n",
              "    </tr>\n",
              "    <tr>\n",
              "      <th>14</th>\n",
              "      <td>13</td>\n",
              "      <td>16</td>\n",
              "      <td>13_hospice_hospice service_medicare_claim</td>\n",
              "    </tr>\n",
              "    <tr>\n",
              "      <th>15</th>\n",
              "      <td>14</td>\n",
              "      <td>16</td>\n",
              "      <td>14_orr_child_uac_refugee</td>\n",
              "    </tr>\n",
              "    <tr>\n",
              "      <th>16</th>\n",
              "      <td>15</td>\n",
              "      <td>16</td>\n",
              "      <td>15_unit_case_fraud_mfcus</td>\n",
              "    </tr>\n",
              "    <tr>\n",
              "      <th>17</th>\n",
              "      <td>16</td>\n",
              "      <td>12</td>\n",
              "      <td>16_grant_path_program_health</td>\n",
              "    </tr>\n",
              "    <tr>\n",
              "      <th>18</th>\n",
              "      <td>17</td>\n",
              "      <td>12</td>\n",
              "      <td>17_ondcp_fiscal year_fiscal_circular</td>\n",
              "    </tr>\n",
              "    <tr>\n",
              "      <th>19</th>\n",
              "      <td>18</td>\n",
              "      <td>11</td>\n",
              "      <td>18_test_lab_lab test_payment</td>\n",
              "    </tr>\n",
              "  </tbody>\n",
              "</table>\n",
              "</div>\n",
              "      <button class=\"colab-df-convert\" onclick=\"convertToInteractive('df-29c47024-411d-48d2-8308-1fe5293ecaf8')\"\n",
              "              title=\"Convert this dataframe to an interactive table.\"\n",
              "              style=\"display:none;\">\n",
              "        \n",
              "  <svg xmlns=\"http://www.w3.org/2000/svg\" height=\"24px\"viewBox=\"0 0 24 24\"\n",
              "       width=\"24px\">\n",
              "    <path d=\"M0 0h24v24H0V0z\" fill=\"none\"/>\n",
              "    <path d=\"M18.56 5.44l.94 2.06.94-2.06 2.06-.94-2.06-.94-.94-2.06-.94 2.06-2.06.94zm-11 1L8.5 8.5l.94-2.06 2.06-.94-2.06-.94L8.5 2.5l-.94 2.06-2.06.94zm10 10l.94 2.06.94-2.06 2.06-.94-2.06-.94-.94-2.06-.94 2.06-2.06.94z\"/><path d=\"M17.41 7.96l-1.37-1.37c-.4-.4-.92-.59-1.43-.59-.52 0-1.04.2-1.43.59L10.3 9.45l-7.72 7.72c-.78.78-.78 2.05 0 2.83L4 21.41c.39.39.9.59 1.41.59.51 0 1.02-.2 1.41-.59l7.78-7.78 2.81-2.81c.8-.78.8-2.07 0-2.86zM5.41 20L4 18.59l7.72-7.72 1.47 1.35L5.41 20z\"/>\n",
              "  </svg>\n",
              "      </button>\n",
              "      \n",
              "  <style>\n",
              "    .colab-df-container {\n",
              "      display:flex;\n",
              "      flex-wrap:wrap;\n",
              "      gap: 12px;\n",
              "    }\n",
              "\n",
              "    .colab-df-convert {\n",
              "      background-color: #E8F0FE;\n",
              "      border: none;\n",
              "      border-radius: 50%;\n",
              "      cursor: pointer;\n",
              "      display: none;\n",
              "      fill: #1967D2;\n",
              "      height: 32px;\n",
              "      padding: 0 0 0 0;\n",
              "      width: 32px;\n",
              "    }\n",
              "\n",
              "    .colab-df-convert:hover {\n",
              "      background-color: #E2EBFA;\n",
              "      box-shadow: 0px 1px 2px rgba(60, 64, 67, 0.3), 0px 1px 3px 1px rgba(60, 64, 67, 0.15);\n",
              "      fill: #174EA6;\n",
              "    }\n",
              "\n",
              "    [theme=dark] .colab-df-convert {\n",
              "      background-color: #3B4455;\n",
              "      fill: #D2E3FC;\n",
              "    }\n",
              "\n",
              "    [theme=dark] .colab-df-convert:hover {\n",
              "      background-color: #434B5C;\n",
              "      box-shadow: 0px 1px 3px 1px rgba(0, 0, 0, 0.15);\n",
              "      filter: drop-shadow(0px 1px 2px rgba(0, 0, 0, 0.3));\n",
              "      fill: #FFFFFF;\n",
              "    }\n",
              "  </style>\n",
              "\n",
              "      <script>\n",
              "        const buttonEl =\n",
              "          document.querySelector('#df-29c47024-411d-48d2-8308-1fe5293ecaf8 button.colab-df-convert');\n",
              "        buttonEl.style.display =\n",
              "          google.colab.kernel.accessAllowed ? 'block' : 'none';\n",
              "\n",
              "        async function convertToInteractive(key) {\n",
              "          const element = document.querySelector('#df-29c47024-411d-48d2-8308-1fe5293ecaf8');\n",
              "          const dataTable =\n",
              "            await google.colab.kernel.invokeFunction('convertToInteractive',\n",
              "                                                     [key], {});\n",
              "          if (!dataTable) return;\n",
              "\n",
              "          const docLinkHtml = 'Like what you see? Visit the ' +\n",
              "            '<a target=\"_blank\" href=https://colab.research.google.com/notebooks/data_table.ipynb>data table notebook</a>'\n",
              "            + ' to learn more about interactive tables.';\n",
              "          element.innerHTML = '';\n",
              "          dataTable['output_type'] = 'display_data';\n",
              "          await google.colab.output.renderOutput(dataTable, element);\n",
              "          const docLink = document.createElement('div');\n",
              "          docLink.innerHTML = docLinkHtml;\n",
              "          element.appendChild(docLink);\n",
              "        }\n",
              "      </script>\n",
              "    </div>\n",
              "  </div>\n",
              "  "
            ]
          },
          "metadata": {},
          "execution_count": 12
        }
      ]
    },
    {
      "cell_type": "markdown",
      "source": [
        "## Visualize Top-5 \n",
        "- Compare the work plan and reports"
      ],
      "metadata": {
        "id": "pSgVF9n7wbY4"
      }
    },
    {
      "cell_type": "code",
      "source": [
        "workplan_model.visualize_barchart(n_words = 5,\n",
        "                                  width=300, \n",
        "                                  height=300,\n",
        "                                  top_n_topics = 5)"
      ],
      "metadata": {
        "colab": {
          "base_uri": "https://localhost:8080/",
          "height": 637
        },
        "id": "NC-c3xtpwpPE",
        "outputId": "ce6bc5c5-be18-4844-de80-3721b85d5dfe"
      },
      "execution_count": 93,
      "outputs": [
        {
          "output_type": "display_data",
          "data": {
            "text/html": [
              "<html>\n",
              "<head><meta charset=\"utf-8\" /></head>\n",
              "<body>\n",
              "    <div>            <script src=\"https://cdnjs.cloudflare.com/ajax/libs/mathjax/2.7.5/MathJax.js?config=TeX-AMS-MML_SVG\"></script><script type=\"text/javascript\">if (window.MathJax) {MathJax.Hub.Config({SVG: {font: \"STIX-Web\"}});}</script>                <script type=\"text/javascript\">window.PlotlyConfig = {MathJaxConfig: 'local'};</script>\n",
              "        <script src=\"https://cdn.plot.ly/plotly-2.8.3.min.js\"></script>                <div id=\"527c4a6c-02be-4b72-84f7-03bd01269223\" class=\"plotly-graph-div\" style=\"height:600px; width:1200px;\"></div>            <script type=\"text/javascript\">                                    window.PLOTLYENV=window.PLOTLYENV || {};                                    if (document.getElementById(\"527c4a6c-02be-4b72-84f7-03bd01269223\")) {                    Plotly.newPlot(                        \"527c4a6c-02be-4b72-84f7-03bd01269223\",                        [{\"marker\":{\"color\":\"#D55E00\"},\"orientation\":\"h\",\"x\":[0.021994112877829115,0.031328746663024674,0.0324235030277826,0.03432451248248872,0.04425068125468869],\"y\":[\"claim  \",\"service  \",\"hospital  \",\"payment  \",\"medicare  \"],\"type\":\"bar\",\"xaxis\":\"x\",\"yaxis\":\"y\"},{\"marker\":{\"color\":\"#0072B2\"},\"orientation\":\"h\",\"x\":[0.02651910838477237,0.027010253660618124,0.03115985793517819,0.03707335486052927,0.0652944124580166],\"y\":[\"price  \",\"manufacturer  \",\"medicare  \",\"part  \",\"drug  \"],\"type\":\"bar\",\"xaxis\":\"x2\",\"yaxis\":\"y2\"},{\"marker\":{\"color\":\"#CC79A7\"},\"orientation\":\"h\",\"x\":[0.022880381509554633,0.025996158670624315,0.028031117160466693,0.04560734380847097,0.05241392944018784],\"y\":[\"federal  \",\"service  \",\"care  \",\"medicaid  \",\"state  \"],\"type\":\"bar\",\"xaxis\":\"x3\",\"yaxis\":\"y3\"},{\"marker\":{\"color\":\"#E69F00\"},\"orientation\":\"h\",\"x\":[0.029458568293724872,0.030409228718996487,0.03186707154903818,0.032598511934526175,0.03769600947039251],\"y\":[\"federal  \",\"card  \",\"agency  \",\"audit  \",\"financial  \"],\"type\":\"bar\",\"xaxis\":\"x4\",\"yaxis\":\"y4\"},{\"marker\":{\"color\":\"#56B4E9\"},\"orientation\":\"h\",\"x\":[0.031194286185560482,0.03215634904662078,0.03533856347553249,0.035853369852492836,0.03676097201268026],\"y\":[\"nursing home  \",\"home  \",\"covid19  \",\"emergency  \",\"preparedness  \"],\"type\":\"bar\",\"xaxis\":\"x5\",\"yaxis\":\"y5\"}],                        {\"template\":{\"data\":{\"barpolar\":[{\"marker\":{\"line\":{\"color\":\"white\",\"width\":0.5},\"pattern\":{\"fillmode\":\"overlay\",\"size\":10,\"solidity\":0.2}},\"type\":\"barpolar\"}],\"bar\":[{\"error_x\":{\"color\":\"#2a3f5f\"},\"error_y\":{\"color\":\"#2a3f5f\"},\"marker\":{\"line\":{\"color\":\"white\",\"width\":0.5},\"pattern\":{\"fillmode\":\"overlay\",\"size\":10,\"solidity\":0.2}},\"type\":\"bar\"}],\"carpet\":[{\"aaxis\":{\"endlinecolor\":\"#2a3f5f\",\"gridcolor\":\"#C8D4E3\",\"linecolor\":\"#C8D4E3\",\"minorgridcolor\":\"#C8D4E3\",\"startlinecolor\":\"#2a3f5f\"},\"baxis\":{\"endlinecolor\":\"#2a3f5f\",\"gridcolor\":\"#C8D4E3\",\"linecolor\":\"#C8D4E3\",\"minorgridcolor\":\"#C8D4E3\",\"startlinecolor\":\"#2a3f5f\"},\"type\":\"carpet\"}],\"choropleth\":[{\"colorbar\":{\"outlinewidth\":0,\"ticks\":\"\"},\"type\":\"choropleth\"}],\"contourcarpet\":[{\"colorbar\":{\"outlinewidth\":0,\"ticks\":\"\"},\"type\":\"contourcarpet\"}],\"contour\":[{\"colorbar\":{\"outlinewidth\":0,\"ticks\":\"\"},\"colorscale\":[[0.0,\"#0d0887\"],[0.1111111111111111,\"#46039f\"],[0.2222222222222222,\"#7201a8\"],[0.3333333333333333,\"#9c179e\"],[0.4444444444444444,\"#bd3786\"],[0.5555555555555556,\"#d8576b\"],[0.6666666666666666,\"#ed7953\"],[0.7777777777777778,\"#fb9f3a\"],[0.8888888888888888,\"#fdca26\"],[1.0,\"#f0f921\"]],\"type\":\"contour\"}],\"heatmapgl\":[{\"colorbar\":{\"outlinewidth\":0,\"ticks\":\"\"},\"colorscale\":[[0.0,\"#0d0887\"],[0.1111111111111111,\"#46039f\"],[0.2222222222222222,\"#7201a8\"],[0.3333333333333333,\"#9c179e\"],[0.4444444444444444,\"#bd3786\"],[0.5555555555555556,\"#d8576b\"],[0.6666666666666666,\"#ed7953\"],[0.7777777777777778,\"#fb9f3a\"],[0.8888888888888888,\"#fdca26\"],[1.0,\"#f0f921\"]],\"type\":\"heatmapgl\"}],\"heatmap\":[{\"colorbar\":{\"outlinewidth\":0,\"ticks\":\"\"},\"colorscale\":[[0.0,\"#0d0887\"],[0.1111111111111111,\"#46039f\"],[0.2222222222222222,\"#7201a8\"],[0.3333333333333333,\"#9c179e\"],[0.4444444444444444,\"#bd3786\"],[0.5555555555555556,\"#d8576b\"],[0.6666666666666666,\"#ed7953\"],[0.7777777777777778,\"#fb9f3a\"],[0.8888888888888888,\"#fdca26\"],[1.0,\"#f0f921\"]],\"type\":\"heatmap\"}],\"histogram2dcontour\":[{\"colorbar\":{\"outlinewidth\":0,\"ticks\":\"\"},\"colorscale\":[[0.0,\"#0d0887\"],[0.1111111111111111,\"#46039f\"],[0.2222222222222222,\"#7201a8\"],[0.3333333333333333,\"#9c179e\"],[0.4444444444444444,\"#bd3786\"],[0.5555555555555556,\"#d8576b\"],[0.6666666666666666,\"#ed7953\"],[0.7777777777777778,\"#fb9f3a\"],[0.8888888888888888,\"#fdca26\"],[1.0,\"#f0f921\"]],\"type\":\"histogram2dcontour\"}],\"histogram2d\":[{\"colorbar\":{\"outlinewidth\":0,\"ticks\":\"\"},\"colorscale\":[[0.0,\"#0d0887\"],[0.1111111111111111,\"#46039f\"],[0.2222222222222222,\"#7201a8\"],[0.3333333333333333,\"#9c179e\"],[0.4444444444444444,\"#bd3786\"],[0.5555555555555556,\"#d8576b\"],[0.6666666666666666,\"#ed7953\"],[0.7777777777777778,\"#fb9f3a\"],[0.8888888888888888,\"#fdca26\"],[1.0,\"#f0f921\"]],\"type\":\"histogram2d\"}],\"histogram\":[{\"marker\":{\"pattern\":{\"fillmode\":\"overlay\",\"size\":10,\"solidity\":0.2}},\"type\":\"histogram\"}],\"mesh3d\":[{\"colorbar\":{\"outlinewidth\":0,\"ticks\":\"\"},\"type\":\"mesh3d\"}],\"parcoords\":[{\"line\":{\"colorbar\":{\"outlinewidth\":0,\"ticks\":\"\"}},\"type\":\"parcoords\"}],\"pie\":[{\"automargin\":true,\"type\":\"pie\"}],\"scatter3d\":[{\"line\":{\"colorbar\":{\"outlinewidth\":0,\"ticks\":\"\"}},\"marker\":{\"colorbar\":{\"outlinewidth\":0,\"ticks\":\"\"}},\"type\":\"scatter3d\"}],\"scattercarpet\":[{\"marker\":{\"colorbar\":{\"outlinewidth\":0,\"ticks\":\"\"}},\"type\":\"scattercarpet\"}],\"scattergeo\":[{\"marker\":{\"colorbar\":{\"outlinewidth\":0,\"ticks\":\"\"}},\"type\":\"scattergeo\"}],\"scattergl\":[{\"marker\":{\"colorbar\":{\"outlinewidth\":0,\"ticks\":\"\"}},\"type\":\"scattergl\"}],\"scattermapbox\":[{\"marker\":{\"colorbar\":{\"outlinewidth\":0,\"ticks\":\"\"}},\"type\":\"scattermapbox\"}],\"scatterpolargl\":[{\"marker\":{\"colorbar\":{\"outlinewidth\":0,\"ticks\":\"\"}},\"type\":\"scatterpolargl\"}],\"scatterpolar\":[{\"marker\":{\"colorbar\":{\"outlinewidth\":0,\"ticks\":\"\"}},\"type\":\"scatterpolar\"}],\"scatter\":[{\"marker\":{\"colorbar\":{\"outlinewidth\":0,\"ticks\":\"\"}},\"type\":\"scatter\"}],\"scatterternary\":[{\"marker\":{\"colorbar\":{\"outlinewidth\":0,\"ticks\":\"\"}},\"type\":\"scatterternary\"}],\"surface\":[{\"colorbar\":{\"outlinewidth\":0,\"ticks\":\"\"},\"colorscale\":[[0.0,\"#0d0887\"],[0.1111111111111111,\"#46039f\"],[0.2222222222222222,\"#7201a8\"],[0.3333333333333333,\"#9c179e\"],[0.4444444444444444,\"#bd3786\"],[0.5555555555555556,\"#d8576b\"],[0.6666666666666666,\"#ed7953\"],[0.7777777777777778,\"#fb9f3a\"],[0.8888888888888888,\"#fdca26\"],[1.0,\"#f0f921\"]],\"type\":\"surface\"}],\"table\":[{\"cells\":{\"fill\":{\"color\":\"#EBF0F8\"},\"line\":{\"color\":\"white\"}},\"header\":{\"fill\":{\"color\":\"#C8D4E3\"},\"line\":{\"color\":\"white\"}},\"type\":\"table\"}]},\"layout\":{\"annotationdefaults\":{\"arrowcolor\":\"#2a3f5f\",\"arrowhead\":0,\"arrowwidth\":1},\"autotypenumbers\":\"strict\",\"coloraxis\":{\"colorbar\":{\"outlinewidth\":0,\"ticks\":\"\"}},\"colorscale\":{\"diverging\":[[0,\"#8e0152\"],[0.1,\"#c51b7d\"],[0.2,\"#de77ae\"],[0.3,\"#f1b6da\"],[0.4,\"#fde0ef\"],[0.5,\"#f7f7f7\"],[0.6,\"#e6f5d0\"],[0.7,\"#b8e186\"],[0.8,\"#7fbc41\"],[0.9,\"#4d9221\"],[1,\"#276419\"]],\"sequential\":[[0.0,\"#0d0887\"],[0.1111111111111111,\"#46039f\"],[0.2222222222222222,\"#7201a8\"],[0.3333333333333333,\"#9c179e\"],[0.4444444444444444,\"#bd3786\"],[0.5555555555555556,\"#d8576b\"],[0.6666666666666666,\"#ed7953\"],[0.7777777777777778,\"#fb9f3a\"],[0.8888888888888888,\"#fdca26\"],[1.0,\"#f0f921\"]],\"sequentialminus\":[[0.0,\"#0d0887\"],[0.1111111111111111,\"#46039f\"],[0.2222222222222222,\"#7201a8\"],[0.3333333333333333,\"#9c179e\"],[0.4444444444444444,\"#bd3786\"],[0.5555555555555556,\"#d8576b\"],[0.6666666666666666,\"#ed7953\"],[0.7777777777777778,\"#fb9f3a\"],[0.8888888888888888,\"#fdca26\"],[1.0,\"#f0f921\"]]},\"colorway\":[\"#636efa\",\"#EF553B\",\"#00cc96\",\"#ab63fa\",\"#FFA15A\",\"#19d3f3\",\"#FF6692\",\"#B6E880\",\"#FF97FF\",\"#FECB52\"],\"font\":{\"color\":\"#2a3f5f\"},\"geo\":{\"bgcolor\":\"white\",\"lakecolor\":\"white\",\"landcolor\":\"white\",\"showlakes\":true,\"showland\":true,\"subunitcolor\":\"#C8D4E3\"},\"hoverlabel\":{\"align\":\"left\"},\"hovermode\":\"closest\",\"mapbox\":{\"style\":\"light\"},\"paper_bgcolor\":\"white\",\"plot_bgcolor\":\"white\",\"polar\":{\"angularaxis\":{\"gridcolor\":\"#EBF0F8\",\"linecolor\":\"#EBF0F8\",\"ticks\":\"\"},\"bgcolor\":\"white\",\"radialaxis\":{\"gridcolor\":\"#EBF0F8\",\"linecolor\":\"#EBF0F8\",\"ticks\":\"\"}},\"scene\":{\"xaxis\":{\"backgroundcolor\":\"white\",\"gridcolor\":\"#DFE8F3\",\"gridwidth\":2,\"linecolor\":\"#EBF0F8\",\"showbackground\":true,\"ticks\":\"\",\"zerolinecolor\":\"#EBF0F8\"},\"yaxis\":{\"backgroundcolor\":\"white\",\"gridcolor\":\"#DFE8F3\",\"gridwidth\":2,\"linecolor\":\"#EBF0F8\",\"showbackground\":true,\"ticks\":\"\",\"zerolinecolor\":\"#EBF0F8\"},\"zaxis\":{\"backgroundcolor\":\"white\",\"gridcolor\":\"#DFE8F3\",\"gridwidth\":2,\"linecolor\":\"#EBF0F8\",\"showbackground\":true,\"ticks\":\"\",\"zerolinecolor\":\"#EBF0F8\"}},\"shapedefaults\":{\"line\":{\"color\":\"#2a3f5f\"}},\"ternary\":{\"aaxis\":{\"gridcolor\":\"#DFE8F3\",\"linecolor\":\"#A2B1C6\",\"ticks\":\"\"},\"baxis\":{\"gridcolor\":\"#DFE8F3\",\"linecolor\":\"#A2B1C6\",\"ticks\":\"\"},\"bgcolor\":\"white\",\"caxis\":{\"gridcolor\":\"#DFE8F3\",\"linecolor\":\"#A2B1C6\",\"ticks\":\"\"}},\"title\":{\"x\":0.05},\"xaxis\":{\"automargin\":true,\"gridcolor\":\"#EBF0F8\",\"linecolor\":\"#EBF0F8\",\"ticks\":\"\",\"title\":{\"standoff\":15},\"zerolinecolor\":\"#EBF0F8\",\"zerolinewidth\":2},\"yaxis\":{\"automargin\":true,\"gridcolor\":\"#EBF0F8\",\"linecolor\":\"#EBF0F8\",\"ticks\":\"\",\"title\":{\"standoff\":15},\"zerolinecolor\":\"#EBF0F8\",\"zerolinewidth\":2}}},\"xaxis\":{\"anchor\":\"y\",\"domain\":[0.0,0.175],\"showgrid\":true},\"yaxis\":{\"anchor\":\"x\",\"domain\":[0.6000000000000001,1.0],\"showgrid\":true},\"xaxis2\":{\"anchor\":\"y2\",\"domain\":[0.275,0.45],\"showgrid\":true},\"yaxis2\":{\"anchor\":\"x2\",\"domain\":[0.6000000000000001,1.0],\"showgrid\":true},\"xaxis3\":{\"anchor\":\"y3\",\"domain\":[0.55,0.7250000000000001],\"showgrid\":true},\"yaxis3\":{\"anchor\":\"x3\",\"domain\":[0.6000000000000001,1.0],\"showgrid\":true},\"xaxis4\":{\"anchor\":\"y4\",\"domain\":[0.825,1.0],\"showgrid\":true},\"yaxis4\":{\"anchor\":\"x4\",\"domain\":[0.6000000000000001,1.0],\"showgrid\":true},\"xaxis5\":{\"anchor\":\"y5\",\"domain\":[0.0,0.175],\"showgrid\":true},\"yaxis5\":{\"anchor\":\"x5\",\"domain\":[0.0,0.4],\"showgrid\":true},\"xaxis6\":{\"anchor\":\"y6\",\"domain\":[0.275,0.45],\"showgrid\":true},\"yaxis6\":{\"anchor\":\"x6\",\"domain\":[0.0,0.4],\"showgrid\":true},\"xaxis7\":{\"anchor\":\"y7\",\"domain\":[0.55,0.7250000000000001],\"showgrid\":true},\"yaxis7\":{\"anchor\":\"x7\",\"domain\":[0.0,0.4],\"showgrid\":true},\"xaxis8\":{\"anchor\":\"y8\",\"domain\":[0.825,1.0],\"showgrid\":true},\"yaxis8\":{\"anchor\":\"x8\",\"domain\":[0.0,0.4],\"showgrid\":true},\"annotations\":[{\"font\":{\"size\":16},\"showarrow\":false,\"text\":\"Topic 0\",\"x\":0.0875,\"xanchor\":\"center\",\"xref\":\"paper\",\"y\":1.0,\"yanchor\":\"bottom\",\"yref\":\"paper\"},{\"font\":{\"size\":16},\"showarrow\":false,\"text\":\"Topic 1\",\"x\":0.36250000000000004,\"xanchor\":\"center\",\"xref\":\"paper\",\"y\":1.0,\"yanchor\":\"bottom\",\"yref\":\"paper\"},{\"font\":{\"size\":16},\"showarrow\":false,\"text\":\"Topic 2\",\"x\":0.6375000000000001,\"xanchor\":\"center\",\"xref\":\"paper\",\"y\":1.0,\"yanchor\":\"bottom\",\"yref\":\"paper\"},{\"font\":{\"size\":16},\"showarrow\":false,\"text\":\"Topic 3\",\"x\":0.9125,\"xanchor\":\"center\",\"xref\":\"paper\",\"y\":1.0,\"yanchor\":\"bottom\",\"yref\":\"paper\"},{\"font\":{\"size\":16},\"showarrow\":false,\"text\":\"Topic 4\",\"x\":0.0875,\"xanchor\":\"center\",\"xref\":\"paper\",\"y\":0.4,\"yanchor\":\"bottom\",\"yref\":\"paper\"}],\"title\":{\"font\":{\"size\":22,\"color\":\"Black\"},\"text\":\"<b>Topic Word Scores\",\"x\":0.5,\"xanchor\":\"center\",\"yanchor\":\"top\"},\"hoverlabel\":{\"font\":{\"size\":16,\"family\":\"Rockwell\"},\"bgcolor\":\"white\"},\"showlegend\":false,\"width\":1200,\"height\":600},                        {\"responsive\": true}                    ).then(function(){\n",
              "                            \n",
              "var gd = document.getElementById('527c4a6c-02be-4b72-84f7-03bd01269223');\n",
              "var x = new MutationObserver(function (mutations, observer) {{\n",
              "        var display = window.getComputedStyle(gd).display;\n",
              "        if (!display || display === 'none') {{\n",
              "            console.log([gd, 'removed!']);\n",
              "            Plotly.purge(gd);\n",
              "            observer.disconnect();\n",
              "        }}\n",
              "}});\n",
              "\n",
              "// Listen for the removal of the full notebook cells\n",
              "var notebookContainer = gd.closest('#notebook-container');\n",
              "if (notebookContainer) {{\n",
              "    x.observe(notebookContainer, {childList: true});\n",
              "}}\n",
              "\n",
              "// Listen for the clearing of the current output cell\n",
              "var outputEl = gd.closest('.output');\n",
              "if (outputEl) {{\n",
              "    x.observe(outputEl, {childList: true});\n",
              "}}\n",
              "\n",
              "                        })                };                            </script>        </div>\n",
              "</body>\n",
              "</html>"
            ]
          },
          "metadata": {}
        }
      ]
    },
    {
      "cell_type": "code",
      "source": [
        "reports_model.visualize_barchart(n_words = 5,\n",
        "                                 width=300, \n",
        "                                 height=300,\n",
        "                                 top_n_topics = 5)"
      ],
      "metadata": {
        "colab": {
          "base_uri": "https://localhost:8080/",
          "height": 637
        },
        "id": "nibAm9eIwjtf",
        "outputId": "45ae801a-55a4-4944-8956-aa9507fa4670"
      },
      "execution_count": 92,
      "outputs": [
        {
          "output_type": "display_data",
          "data": {
            "text/html": [
              "<html>\n",
              "<head><meta charset=\"utf-8\" /></head>\n",
              "<body>\n",
              "    <div>            <script src=\"https://cdnjs.cloudflare.com/ajax/libs/mathjax/2.7.5/MathJax.js?config=TeX-AMS-MML_SVG\"></script><script type=\"text/javascript\">if (window.MathJax) {MathJax.Hub.Config({SVG: {font: \"STIX-Web\"}});}</script>                <script type=\"text/javascript\">window.PlotlyConfig = {MathJaxConfig: 'local'};</script>\n",
              "        <script src=\"https://cdn.plot.ly/plotly-2.8.3.min.js\"></script>                <div id=\"8b7e06c4-e7ec-4020-ad60-cd92deeb6f8a\" class=\"plotly-graph-div\" style=\"height:600px; width:1200px;\"></div>            <script type=\"text/javascript\">                                    window.PLOTLYENV=window.PLOTLYENV || {};                                    if (document.getElementById(\"8b7e06c4-e7ec-4020-ad60-cd92deeb6f8a\")) {                    Plotly.newPlot(                        \"8b7e06c4-e7ec-4020-ad60-cd92deeb6f8a\",                        [{\"marker\":{\"color\":\"#D55E00\"},\"orientation\":\"h\",\"x\":[0.020742540803242785,0.025443254384279055,0.02653208867970699,0.027908666762110484,0.033172643940836924],\"y\":[\"new  \",\"payment  \",\"state  \",\"federal  \",\"medicaid  \"],\"type\":\"bar\",\"xaxis\":\"x\",\"yaxis\":\"y\"},{\"marker\":{\"color\":\"#0072B2\"},\"orientation\":\"h\",\"x\":[0.022125825404488087,0.023576755178030828,0.024831570928485484,0.031182467794271605,0.04203657302462727],\"y\":[\"service  \",\"hospital  \",\"payment  \",\"claim  \",\"medicare  \"],\"type\":\"bar\",\"xaxis\":\"x2\",\"yaxis\":\"y2\"},{\"marker\":{\"color\":\"#CC79A7\"},\"orientation\":\"h\",\"x\":[0.030643114114317895,0.035121677483260845,0.038647256796706324,0.05110609331673732,0.07931566776547433],\"y\":[\"cys  \",\"prb  \",\"pension  \",\"medicare  \",\"cost  \"],\"type\":\"bar\",\"xaxis\":\"x3\",\"yaxis\":\"y3\"},{\"marker\":{\"color\":\"#E69F00\"},\"orientation\":\"h\",\"x\":[0.024793584565855786,0.0258768426561684,0.02951079418595568,0.05262548499743036,0.08098261250405507],\"y\":[\"manufacturer  \",\"physicianadministered  \",\"part  \",\"rebate  \",\"drug  \"],\"type\":\"bar\",\"xaxis\":\"x4\",\"yaxis\":\"y4\"},{\"marker\":{\"color\":\"#56B4E9\"},\"orientation\":\"h\",\"x\":[0.01881071370058914,0.01891076071135498,0.020903197319832843,0.03535200806502944,0.03845458852486991],\"y\":[\"head  \",\"head start  \",\"fund  \",\"nih  \",\"grant  \"],\"type\":\"bar\",\"xaxis\":\"x5\",\"yaxis\":\"y5\"}],                        {\"template\":{\"data\":{\"barpolar\":[{\"marker\":{\"line\":{\"color\":\"white\",\"width\":0.5},\"pattern\":{\"fillmode\":\"overlay\",\"size\":10,\"solidity\":0.2}},\"type\":\"barpolar\"}],\"bar\":[{\"error_x\":{\"color\":\"#2a3f5f\"},\"error_y\":{\"color\":\"#2a3f5f\"},\"marker\":{\"line\":{\"color\":\"white\",\"width\":0.5},\"pattern\":{\"fillmode\":\"overlay\",\"size\":10,\"solidity\":0.2}},\"type\":\"bar\"}],\"carpet\":[{\"aaxis\":{\"endlinecolor\":\"#2a3f5f\",\"gridcolor\":\"#C8D4E3\",\"linecolor\":\"#C8D4E3\",\"minorgridcolor\":\"#C8D4E3\",\"startlinecolor\":\"#2a3f5f\"},\"baxis\":{\"endlinecolor\":\"#2a3f5f\",\"gridcolor\":\"#C8D4E3\",\"linecolor\":\"#C8D4E3\",\"minorgridcolor\":\"#C8D4E3\",\"startlinecolor\":\"#2a3f5f\"},\"type\":\"carpet\"}],\"choropleth\":[{\"colorbar\":{\"outlinewidth\":0,\"ticks\":\"\"},\"type\":\"choropleth\"}],\"contourcarpet\":[{\"colorbar\":{\"outlinewidth\":0,\"ticks\":\"\"},\"type\":\"contourcarpet\"}],\"contour\":[{\"colorbar\":{\"outlinewidth\":0,\"ticks\":\"\"},\"colorscale\":[[0.0,\"#0d0887\"],[0.1111111111111111,\"#46039f\"],[0.2222222222222222,\"#7201a8\"],[0.3333333333333333,\"#9c179e\"],[0.4444444444444444,\"#bd3786\"],[0.5555555555555556,\"#d8576b\"],[0.6666666666666666,\"#ed7953\"],[0.7777777777777778,\"#fb9f3a\"],[0.8888888888888888,\"#fdca26\"],[1.0,\"#f0f921\"]],\"type\":\"contour\"}],\"heatmapgl\":[{\"colorbar\":{\"outlinewidth\":0,\"ticks\":\"\"},\"colorscale\":[[0.0,\"#0d0887\"],[0.1111111111111111,\"#46039f\"],[0.2222222222222222,\"#7201a8\"],[0.3333333333333333,\"#9c179e\"],[0.4444444444444444,\"#bd3786\"],[0.5555555555555556,\"#d8576b\"],[0.6666666666666666,\"#ed7953\"],[0.7777777777777778,\"#fb9f3a\"],[0.8888888888888888,\"#fdca26\"],[1.0,\"#f0f921\"]],\"type\":\"heatmapgl\"}],\"heatmap\":[{\"colorbar\":{\"outlinewidth\":0,\"ticks\":\"\"},\"colorscale\":[[0.0,\"#0d0887\"],[0.1111111111111111,\"#46039f\"],[0.2222222222222222,\"#7201a8\"],[0.3333333333333333,\"#9c179e\"],[0.4444444444444444,\"#bd3786\"],[0.5555555555555556,\"#d8576b\"],[0.6666666666666666,\"#ed7953\"],[0.7777777777777778,\"#fb9f3a\"],[0.8888888888888888,\"#fdca26\"],[1.0,\"#f0f921\"]],\"type\":\"heatmap\"}],\"histogram2dcontour\":[{\"colorbar\":{\"outlinewidth\":0,\"ticks\":\"\"},\"colorscale\":[[0.0,\"#0d0887\"],[0.1111111111111111,\"#46039f\"],[0.2222222222222222,\"#7201a8\"],[0.3333333333333333,\"#9c179e\"],[0.4444444444444444,\"#bd3786\"],[0.5555555555555556,\"#d8576b\"],[0.6666666666666666,\"#ed7953\"],[0.7777777777777778,\"#fb9f3a\"],[0.8888888888888888,\"#fdca26\"],[1.0,\"#f0f921\"]],\"type\":\"histogram2dcontour\"}],\"histogram2d\":[{\"colorbar\":{\"outlinewidth\":0,\"ticks\":\"\"},\"colorscale\":[[0.0,\"#0d0887\"],[0.1111111111111111,\"#46039f\"],[0.2222222222222222,\"#7201a8\"],[0.3333333333333333,\"#9c179e\"],[0.4444444444444444,\"#bd3786\"],[0.5555555555555556,\"#d8576b\"],[0.6666666666666666,\"#ed7953\"],[0.7777777777777778,\"#fb9f3a\"],[0.8888888888888888,\"#fdca26\"],[1.0,\"#f0f921\"]],\"type\":\"histogram2d\"}],\"histogram\":[{\"marker\":{\"pattern\":{\"fillmode\":\"overlay\",\"size\":10,\"solidity\":0.2}},\"type\":\"histogram\"}],\"mesh3d\":[{\"colorbar\":{\"outlinewidth\":0,\"ticks\":\"\"},\"type\":\"mesh3d\"}],\"parcoords\":[{\"line\":{\"colorbar\":{\"outlinewidth\":0,\"ticks\":\"\"}},\"type\":\"parcoords\"}],\"pie\":[{\"automargin\":true,\"type\":\"pie\"}],\"scatter3d\":[{\"line\":{\"colorbar\":{\"outlinewidth\":0,\"ticks\":\"\"}},\"marker\":{\"colorbar\":{\"outlinewidth\":0,\"ticks\":\"\"}},\"type\":\"scatter3d\"}],\"scattercarpet\":[{\"marker\":{\"colorbar\":{\"outlinewidth\":0,\"ticks\":\"\"}},\"type\":\"scattercarpet\"}],\"scattergeo\":[{\"marker\":{\"colorbar\":{\"outlinewidth\":0,\"ticks\":\"\"}},\"type\":\"scattergeo\"}],\"scattergl\":[{\"marker\":{\"colorbar\":{\"outlinewidth\":0,\"ticks\":\"\"}},\"type\":\"scattergl\"}],\"scattermapbox\":[{\"marker\":{\"colorbar\":{\"outlinewidth\":0,\"ticks\":\"\"}},\"type\":\"scattermapbox\"}],\"scatterpolargl\":[{\"marker\":{\"colorbar\":{\"outlinewidth\":0,\"ticks\":\"\"}},\"type\":\"scatterpolargl\"}],\"scatterpolar\":[{\"marker\":{\"colorbar\":{\"outlinewidth\":0,\"ticks\":\"\"}},\"type\":\"scatterpolar\"}],\"scatter\":[{\"marker\":{\"colorbar\":{\"outlinewidth\":0,\"ticks\":\"\"}},\"type\":\"scatter\"}],\"scatterternary\":[{\"marker\":{\"colorbar\":{\"outlinewidth\":0,\"ticks\":\"\"}},\"type\":\"scatterternary\"}],\"surface\":[{\"colorbar\":{\"outlinewidth\":0,\"ticks\":\"\"},\"colorscale\":[[0.0,\"#0d0887\"],[0.1111111111111111,\"#46039f\"],[0.2222222222222222,\"#7201a8\"],[0.3333333333333333,\"#9c179e\"],[0.4444444444444444,\"#bd3786\"],[0.5555555555555556,\"#d8576b\"],[0.6666666666666666,\"#ed7953\"],[0.7777777777777778,\"#fb9f3a\"],[0.8888888888888888,\"#fdca26\"],[1.0,\"#f0f921\"]],\"type\":\"surface\"}],\"table\":[{\"cells\":{\"fill\":{\"color\":\"#EBF0F8\"},\"line\":{\"color\":\"white\"}},\"header\":{\"fill\":{\"color\":\"#C8D4E3\"},\"line\":{\"color\":\"white\"}},\"type\":\"table\"}]},\"layout\":{\"annotationdefaults\":{\"arrowcolor\":\"#2a3f5f\",\"arrowhead\":0,\"arrowwidth\":1},\"autotypenumbers\":\"strict\",\"coloraxis\":{\"colorbar\":{\"outlinewidth\":0,\"ticks\":\"\"}},\"colorscale\":{\"diverging\":[[0,\"#8e0152\"],[0.1,\"#c51b7d\"],[0.2,\"#de77ae\"],[0.3,\"#f1b6da\"],[0.4,\"#fde0ef\"],[0.5,\"#f7f7f7\"],[0.6,\"#e6f5d0\"],[0.7,\"#b8e186\"],[0.8,\"#7fbc41\"],[0.9,\"#4d9221\"],[1,\"#276419\"]],\"sequential\":[[0.0,\"#0d0887\"],[0.1111111111111111,\"#46039f\"],[0.2222222222222222,\"#7201a8\"],[0.3333333333333333,\"#9c179e\"],[0.4444444444444444,\"#bd3786\"],[0.5555555555555556,\"#d8576b\"],[0.6666666666666666,\"#ed7953\"],[0.7777777777777778,\"#fb9f3a\"],[0.8888888888888888,\"#fdca26\"],[1.0,\"#f0f921\"]],\"sequentialminus\":[[0.0,\"#0d0887\"],[0.1111111111111111,\"#46039f\"],[0.2222222222222222,\"#7201a8\"],[0.3333333333333333,\"#9c179e\"],[0.4444444444444444,\"#bd3786\"],[0.5555555555555556,\"#d8576b\"],[0.6666666666666666,\"#ed7953\"],[0.7777777777777778,\"#fb9f3a\"],[0.8888888888888888,\"#fdca26\"],[1.0,\"#f0f921\"]]},\"colorway\":[\"#636efa\",\"#EF553B\",\"#00cc96\",\"#ab63fa\",\"#FFA15A\",\"#19d3f3\",\"#FF6692\",\"#B6E880\",\"#FF97FF\",\"#FECB52\"],\"font\":{\"color\":\"#2a3f5f\"},\"geo\":{\"bgcolor\":\"white\",\"lakecolor\":\"white\",\"landcolor\":\"white\",\"showlakes\":true,\"showland\":true,\"subunitcolor\":\"#C8D4E3\"},\"hoverlabel\":{\"align\":\"left\"},\"hovermode\":\"closest\",\"mapbox\":{\"style\":\"light\"},\"paper_bgcolor\":\"white\",\"plot_bgcolor\":\"white\",\"polar\":{\"angularaxis\":{\"gridcolor\":\"#EBF0F8\",\"linecolor\":\"#EBF0F8\",\"ticks\":\"\"},\"bgcolor\":\"white\",\"radialaxis\":{\"gridcolor\":\"#EBF0F8\",\"linecolor\":\"#EBF0F8\",\"ticks\":\"\"}},\"scene\":{\"xaxis\":{\"backgroundcolor\":\"white\",\"gridcolor\":\"#DFE8F3\",\"gridwidth\":2,\"linecolor\":\"#EBF0F8\",\"showbackground\":true,\"ticks\":\"\",\"zerolinecolor\":\"#EBF0F8\"},\"yaxis\":{\"backgroundcolor\":\"white\",\"gridcolor\":\"#DFE8F3\",\"gridwidth\":2,\"linecolor\":\"#EBF0F8\",\"showbackground\":true,\"ticks\":\"\",\"zerolinecolor\":\"#EBF0F8\"},\"zaxis\":{\"backgroundcolor\":\"white\",\"gridcolor\":\"#DFE8F3\",\"gridwidth\":2,\"linecolor\":\"#EBF0F8\",\"showbackground\":true,\"ticks\":\"\",\"zerolinecolor\":\"#EBF0F8\"}},\"shapedefaults\":{\"line\":{\"color\":\"#2a3f5f\"}},\"ternary\":{\"aaxis\":{\"gridcolor\":\"#DFE8F3\",\"linecolor\":\"#A2B1C6\",\"ticks\":\"\"},\"baxis\":{\"gridcolor\":\"#DFE8F3\",\"linecolor\":\"#A2B1C6\",\"ticks\":\"\"},\"bgcolor\":\"white\",\"caxis\":{\"gridcolor\":\"#DFE8F3\",\"linecolor\":\"#A2B1C6\",\"ticks\":\"\"}},\"title\":{\"x\":0.05},\"xaxis\":{\"automargin\":true,\"gridcolor\":\"#EBF0F8\",\"linecolor\":\"#EBF0F8\",\"ticks\":\"\",\"title\":{\"standoff\":15},\"zerolinecolor\":\"#EBF0F8\",\"zerolinewidth\":2},\"yaxis\":{\"automargin\":true,\"gridcolor\":\"#EBF0F8\",\"linecolor\":\"#EBF0F8\",\"ticks\":\"\",\"title\":{\"standoff\":15},\"zerolinecolor\":\"#EBF0F8\",\"zerolinewidth\":2}}},\"xaxis\":{\"anchor\":\"y\",\"domain\":[0.0,0.175],\"showgrid\":true},\"yaxis\":{\"anchor\":\"x\",\"domain\":[0.6000000000000001,1.0],\"showgrid\":true},\"xaxis2\":{\"anchor\":\"y2\",\"domain\":[0.275,0.45],\"showgrid\":true},\"yaxis2\":{\"anchor\":\"x2\",\"domain\":[0.6000000000000001,1.0],\"showgrid\":true},\"xaxis3\":{\"anchor\":\"y3\",\"domain\":[0.55,0.7250000000000001],\"showgrid\":true},\"yaxis3\":{\"anchor\":\"x3\",\"domain\":[0.6000000000000001,1.0],\"showgrid\":true},\"xaxis4\":{\"anchor\":\"y4\",\"domain\":[0.825,1.0],\"showgrid\":true},\"yaxis4\":{\"anchor\":\"x4\",\"domain\":[0.6000000000000001,1.0],\"showgrid\":true},\"xaxis5\":{\"anchor\":\"y5\",\"domain\":[0.0,0.175],\"showgrid\":true},\"yaxis5\":{\"anchor\":\"x5\",\"domain\":[0.0,0.4],\"showgrid\":true},\"xaxis6\":{\"anchor\":\"y6\",\"domain\":[0.275,0.45],\"showgrid\":true},\"yaxis6\":{\"anchor\":\"x6\",\"domain\":[0.0,0.4],\"showgrid\":true},\"xaxis7\":{\"anchor\":\"y7\",\"domain\":[0.55,0.7250000000000001],\"showgrid\":true},\"yaxis7\":{\"anchor\":\"x7\",\"domain\":[0.0,0.4],\"showgrid\":true},\"xaxis8\":{\"anchor\":\"y8\",\"domain\":[0.825,1.0],\"showgrid\":true},\"yaxis8\":{\"anchor\":\"x8\",\"domain\":[0.0,0.4],\"showgrid\":true},\"annotations\":[{\"font\":{\"size\":16},\"showarrow\":false,\"text\":\"Topic 0\",\"x\":0.0875,\"xanchor\":\"center\",\"xref\":\"paper\",\"y\":1.0,\"yanchor\":\"bottom\",\"yref\":\"paper\"},{\"font\":{\"size\":16},\"showarrow\":false,\"text\":\"Topic 1\",\"x\":0.36250000000000004,\"xanchor\":\"center\",\"xref\":\"paper\",\"y\":1.0,\"yanchor\":\"bottom\",\"yref\":\"paper\"},{\"font\":{\"size\":16},\"showarrow\":false,\"text\":\"Topic 2\",\"x\":0.6375000000000001,\"xanchor\":\"center\",\"xref\":\"paper\",\"y\":1.0,\"yanchor\":\"bottom\",\"yref\":\"paper\"},{\"font\":{\"size\":16},\"showarrow\":false,\"text\":\"Topic 3\",\"x\":0.9125,\"xanchor\":\"center\",\"xref\":\"paper\",\"y\":1.0,\"yanchor\":\"bottom\",\"yref\":\"paper\"},{\"font\":{\"size\":16},\"showarrow\":false,\"text\":\"Topic 4\",\"x\":0.0875,\"xanchor\":\"center\",\"xref\":\"paper\",\"y\":0.4,\"yanchor\":\"bottom\",\"yref\":\"paper\"}],\"title\":{\"font\":{\"size\":22,\"color\":\"Black\"},\"text\":\"<b>Topic Word Scores\",\"x\":0.5,\"xanchor\":\"center\",\"yanchor\":\"top\"},\"hoverlabel\":{\"font\":{\"size\":16,\"family\":\"Rockwell\"},\"bgcolor\":\"white\"},\"showlegend\":false,\"width\":1200,\"height\":600},                        {\"responsive\": true}                    ).then(function(){\n",
              "                            \n",
              "var gd = document.getElementById('8b7e06c4-e7ec-4020-ad60-cd92deeb6f8a');\n",
              "var x = new MutationObserver(function (mutations, observer) {{\n",
              "        var display = window.getComputedStyle(gd).display;\n",
              "        if (!display || display === 'none') {{\n",
              "            console.log([gd, 'removed!']);\n",
              "            Plotly.purge(gd);\n",
              "            observer.disconnect();\n",
              "        }}\n",
              "}});\n",
              "\n",
              "// Listen for the removal of the full notebook cells\n",
              "var notebookContainer = gd.closest('#notebook-container');\n",
              "if (notebookContainer) {{\n",
              "    x.observe(notebookContainer, {childList: true});\n",
              "}}\n",
              "\n",
              "// Listen for the clearing of the current output cell\n",
              "var outputEl = gd.closest('.output');\n",
              "if (outputEl) {{\n",
              "    x.observe(outputEl, {childList: true});\n",
              "}}\n",
              "\n",
              "                        })                };                            </script>        </div>\n",
              "</body>\n",
              "</html>"
            ]
          },
          "metadata": {}
        }
      ]
    },
    {
      "cell_type": "markdown",
      "source": [
        "## Simple function for topic lookup to connect topic --> Document"
      ],
      "metadata": {
        "id": "Kb7wVtNqvJOH"
      }
    },
    {
      "cell_type": "code",
      "source": [
        "#############################\n",
        "# Show Representative Topics\n",
        "#############################\n",
        "\n",
        "def show_rep_topics(modl):\n",
        "    \n",
        "    show_all_topics(modl)\n",
        "    \n",
        "    topic_select = int(input(\"Select a topic for representative documents: \"))\n",
        "        \n",
        "    clear_output()\n",
        "\n",
        "    doc_cat = modl.get_topic_info()['Name'][1::]\n",
        "    \n",
        "    for idx, doc in enumerate(modl.get_representative_docs(topic_select)):    \n",
        "\n",
        "        print(f\"\"\"Document {idx+1}: {','.join(modl.get_topic_info()['Name'][topic_select + 1].split(\"_\")[1:])}\"\"\")\n",
        "        \n",
        "        print(textwrap.fill(str(doc), width = 80))\n",
        "        \n",
        "        print(\"\")"
      ],
      "metadata": {
        "id": "A8FBPFR2qruu"
      },
      "execution_count": 88,
      "outputs": []
    },
    {
      "cell_type": "markdown",
      "source": [
        "## Lookup topics: Displays topics, and returns top-3 topics to explain a specific work project"
      ],
      "metadata": {
        "id": "G_PwmaqYwKgI"
      }
    },
    {
      "cell_type": "code",
      "source": [
        "#Show for opioids\n",
        "show_rep_topics(workplan_model)"
      ],
      "metadata": {
        "colab": {
          "base_uri": "https://localhost:8080/"
        },
        "id": "Zf1iJvO8vO7Q",
        "outputId": "764df262-6112-4a07-f4b5-121dd40c9e83"
      },
      "execution_count": 90,
      "outputs": [
        {
          "output_type": "stream",
          "name": "stdout",
          "text": [
            "Document 1: opioid,overdose,opioids,death\n",
            "In 2017, there were an estimated 49,000 opioid-related overdose deaths in the\n",
            "United States.  In a recent data brief, Opioid Use in Medicare Part D Remains\n",
            "Concerning, OIG found that about 71,000 Part D beneficiaries were at serious\n",
            "risk of misuse or overdose in 2017.  Gaining a deeper understanding of the\n",
            "beneficiaries OIG identified as at serious risk of misuse or overdose is an\n",
            "important next step in addressing the crisis.  This study will provide needed\n",
            "information about: (1) the characteristics of these beneficiaries, including\n",
            "their demographics and diagnoses; (2) the opioid utilization of these\n",
            "beneficiaries; and (3) the extent to which these beneficiaries have had adverse\n",
            "health effects related to opioids and any overdose incidents.\n",
            "\n",
            "Document 2: opioid,overdose,opioids,death\n",
            "The opioid crisis remains a public health emergency.  In 2018, there were nearly\n",
            "47,000 opioid-related overdose deaths in the United States.  Identifying\n",
            "patients who are at-risk of overdose or abuse is key to addressing this crisis.\n",
            "The COVID-19 pandemic has made this need even more pressing.  The National\n",
            "Institutes of Health recently warned that individuals with opioiduse disorder\n",
            "could be particularly hard hit by COVID-19, which is a respiratory virus that\n",
            "attacks the lungs.  Respiratory disease is known to increase mortality risks\n",
            "among people taking opioids.  This data brief would provide information on\n",
            "opioid utilization among beneficiaries enrolled in Medicare Part D in 2020.  It\n",
            "would build on our series of reports, including the recent data snapshot Opioid\n",
            "Use in Medicare Part D During the Onset of the COVID-19 Pandemic\n",
            "(OEI-02-20-00400), which reviewed opioid use in Part D during the first 8 months\n",
            "of 2020.  It would provide 2020 data on Part D spending for opioids, and the\n",
            "numbers of beneficiaries who received extreme amounts of opioids through Part D\n",
            "as well as those who appeared to be doctor shopping.  It would also identify\n",
            "prescribers who ordered opioids for large numbers of these beneficiaries.\n",
            "\n",
            "Document 3: opioid,overdose,opioids,death\n",
            "The opioid crisis remains a public health emergency.  In 2017, 47,600 opioid-\n",
            "related overdose deaths occurred in the United States.  Identifying patients who\n",
            "are at risk of overdose or abuse is key to addressing this crisis.  This data\n",
            "brief will provide 2018 data on Part D spending for opioids, as well as on\n",
            "beneficiaries who received extreme amounts of opioids through Part D and those\n",
            "who appeared to be doctor shopping.  It will also provide data on prescribers\n",
            "who ordered opioids for large numbers of these beneficiaries.\n",
            "\n"
          ]
        }
      ]
    },
    {
      "cell_type": "code",
      "source": [
        "#Show for opioids\n",
        "show_rep_topics(reports_model)"
      ],
      "metadata": {
        "colab": {
          "base_uri": "https://localhost:8080/"
        },
        "id": "dc_axeASrLxo",
        "outputId": "1b6759dc-6ee9-4164-dde0-d3626399fa01"
      },
      "execution_count": 89,
      "outputs": [
        {
          "output_type": "stream",
          "name": "stdout",
          "text": [
            "Document 1: opioid,opioid use,use,opioids\n",
            "<a href=\"/newsroom/media-materials/2017/2017-takedown.asp\">Media Materials</a>,\n",
            "Opioid abuse and overdose deaths are at epidemic levels in the United States.\n",
            "This data brief is part of a larger strategy by the OIG to fight the opioid\n",
            "crisis and address one of its top priority outcomes-to protect beneficiaries\n",
            "from prescription drug abuse.  It provides baseline data on the extent to which\n",
            "beneficiaries receive extreme amounts of opioids and appear to be \"doctor\n",
            "shopping.\"  It also identifies prescribers who have questionable opioid\n",
            "prescribing patterns.  , We based this data brief on an analysis of prescription\n",
            "drug event records of opioids received in 2016.  We determined beneficiaries'\n",
            "morphine equivalent dose (MED), which is a measure that equates all of the\n",
            "various opioids and strengths into one standard value. , Ensuring the\n",
            "appropriate use and prescribing of opioids is essential to protecting the health\n",
            "and safety of beneficiaries and the integrity of Part D.  Prescribers play a key\n",
            "role in combatting opioid misuse.  They must be given the information and tools\n",
            "needed to appropriately prescribe opioids when medically necessary.  At the same\n",
            "time, we must address prescribers with questionable prescribing patterns for\n",
            "opioids to ensure that Medicare Part D is not paying for unnecessary drugs that\n",
            "are being diverted for resale or recreational use.  OIG is committed to\n",
            "continuing investigations and evaluations to address this issue.  , In addition,\n",
            "we are committed to forging expanded partnerships among Federal agencies,\n",
            "States, and private sector partners.  We specifically call on Part D sponsors to\n",
            "work with OIG and CMS to further improve efforts to combat opioid misuse in\n",
            "Medicare.  We also encourage Part D sponsors to effectively use CMS's\n",
            "Overutilization Monitoring System, which identifies beneficiaries who are\n",
            "potentially overutilizing opioids.  We further encourage sponsors to implement\n",
            "drug management programs for at-risk beneficiaries, following additional\n",
            "guidance from CMS.  By working together and expanding our efforts in Part D, we\n",
            "can help curb the opioid crisis in our Nation.\n",
            "\n",
            "Document 2: opioid,opioid use,use,opioids\n",
            "Historically, national Medicaid data—a collection of data submitted by all\n",
            "States—have not been complete, accurate, and timely.  These data have not yet\n",
            "been adequate for national analysis and oversight, even though some States' data\n",
            "have been sufficient for individual State analysis.  Because of concerns with\n",
            "the quality and completeness of the national Medicaid claims database-the\n",
            "Transformed Medicaid Statistical Information System (T-MSIS)-we assessed the\n",
            "completeness of variables needed to monitor national opioid prescribing in\n",
            "Medicaid., We assessed variables needed to identify (1) beneficiaries at risk of\n",
            "opioid misuse or overdose (i.e., variables needed to calculate beneficiaries'\n",
            "total opioid dosage, and diagnosis codes to exclude patients for whom higher\n",
            "doses of opioids may be appropriate) and (2) the National Provider Identifiers\n",
            "(NPIs) of providers that ordered and dispensed opioids (i.e., prescribers and\n",
            "pharmacies, respectively)., A national review of opioid prescribing in Medicaid\n",
            "using T MSIS is not yet possible because not all at-risk beneficiaries and\n",
            "providers can be identified.  Limitations of T-MSIS data impede identification\n",
            "of individual beneficiaries for national opioid analysis.  Further, 32 States\n",
            "were missing NPI, diagnosis code, or quantity.  For the 19 States that were\n",
            "missing pharmacy or prescriber NPI, States were most frequently missing pharmacy\n",
            "NPI., To ensure the identification of at-risk beneficiaries and providers who\n",
            "may be overprescribing, we recommend that CMS (1) work to ensure that individual\n",
            "beneficiaries can be uniquely identified at a national level using T-MSIS, (2)\n",
            "ensure the correct submission of prescriber NPIs, and (3) clarify requirements\n",
            "for diagnosis codes.  CMS concurred with all three recommendations.\n",
            "\n",
            "Document 3: opioid,opioid use,use,opioids\n",
            "<p class=\"r\" style=\"margin-bottom:0;\"><a href=\"/reports-and-\n",
            "publications/featured-topics/opioids/\"><img alt=\"Combatting the Opioid Crisis:\n",
            "Priority Area\" class=\"clean\" src=\"./opioid-crisis-button.png\"/></a>, The opioid\n",
            "crisis was recently declared a public health emergency.  In 2016, more than\n",
            "42,000 opioid-related overdose deaths occurred in the United States-115 deaths\n",
            "per day.  This data brief is part of a larger strategy by OIG to fight the\n",
            "opioid crisis and protect beneficiaries from prescription drug misuse and abuse.\n",
            "This data brief provides 2017 data on the extent to which Medicare Part D\n",
            "beneficiaries receive extreme amounts of opioids or appear to be doctor shopping\n",
            "and compares these data to OIG's previous analysis of 2016.  It also identifies\n",
            "prescribers who have questionable opioid prescribing.  , We based this data\n",
            "brief on an analysis of Part D prescription drug event records for opioids\n",
            "received in 2017.  We determined beneficiaries' morphine equivalent dose (MED),\n",
            "which is a measure that converts all of the various opioids and strengths into\n",
            "one standard value., Ensuring the appropriate use and prescribing of opioids is\n",
            "essential to protecting the health and safety of beneficiaries and the integrity\n",
            "of Part D.  Prescribers play a key role in combatting opioid misuse.  They must\n",
            "be given the information and tools needed to appropriately prescribe opioids\n",
            "when medically necessary. , At the same time, the severity of the opioid crisis\n",
            "makes it imperative that HHS, including CMS and OIG, continues to work together\n",
            "to develop new strategies to address this epidemic.  As a part of these efforts,\n",
            "CMS is implementing a number of new initiatives in 2019.  OIG is also working to\n",
            "increase its efforts to fight the opioid crisis by working with our law\n",
            "enforcement partners and identifying other approaches to support prevention and\n",
            "treatment and to improve the effectiveness of broader Department efforts.  OIG\n",
            "is also committed to continue forging relationships with States and the private\n",
            "sector.  We encourage Part D sponsors to work with OIG and CMS to further\n",
            "improve efforts to combat opioid misuse, for example, by implementing their new\n",
            "\"lock in\" authority.  Further, we support States' efforts to implement and\n",
            "enforce strong prescriptions drug monitoring programs.  By working together and\n",
            "expanding our efforts in Part D, we can help curb the opioid crisis in our\n",
            "Nation.\n",
            "\n"
          ]
        }
      ]
    }
  ]
}