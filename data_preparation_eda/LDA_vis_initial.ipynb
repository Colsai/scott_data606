{
  "nbformat": 4,
  "nbformat_minor": 0,
  "metadata": {
    "colab": {
      "name": "LDA_vis_initial.ipynb",
      "provenance": [],
      "collapsed_sections": [],
      "authorship_tag": "ABX9TyMNopTeeWFMPWH0KL6yTAKT",
      "include_colab_link": true
    },
    "kernelspec": {
      "name": "python3",
      "display_name": "Python 3"
    },
    "language_info": {
      "name": "python"
    }
  },
  "cells": [
    {
      "cell_type": "markdown",
      "metadata": {
        "id": "view-in-github",
        "colab_type": "text"
      },
      "source": [
        "<a href=\"https://colab.research.google.com/github/Colsai/scott_data606/blob/main/data_preparation_eda/LDA_vis_initial.ipynb\" target=\"_parent\"><img src=\"https://colab.research.google.com/assets/colab-badge.svg\" alt=\"Open In Colab\"/></a>"
      ]
    },
    {
      "cell_type": "markdown",
      "source": [
        "# HHS OIG Workplan Topic Modeling\n",
        "## Initial Test of LDA Modeling\n",
        "- Looking through the current OIG work projects and group them using LDA."
      ],
      "metadata": {
        "id": "gQCuWliXhpwQ"
      }
    },
    {
      "cell_type": "markdown",
      "source": [
        "## Specific Questions on Work Plan Projects\n",
        "1) What does OIG cite as major focus areas (as topics)?  \n",
        "2) Do those topics line up with major focus areas that OIG specifices on their website? "
      ],
      "metadata": {
        "id": "nwZM8Abku-aE"
      }
    },
    {
      "cell_type": "markdown",
      "source": [
        "### References\n",
        "Link: https://zbib.org/d7adbbe5aea84033ae5c3d470692299b\n",
        "\n",
        "\n",
        "### Works Cited\n",
        "Kapadia, Shashank. “Topic Modeling in Python: Latent Dirichlet Allocation (LDA).” Medium, 29 Dec. 2020, https://towardsdatascience.com/end-to-end-topic-modeling-in-python-latent-dirichlet-allocation-lda-35ce4ed6b3e0.\n",
        "\n",
        "Kelechava, Marc. “Using LDA Topic Models as a Classification Model Input.” Medium, 6 Aug. 2020, https://towardsdatascience.com/unsupervised-nlp-topic-models-as-a-supervised-learning-input-cf8ee9e5cf28.\n",
        "\n",
        "Khalid, Irfan Alghani. “Implement Your Topic Modeling Using The BERTopic Library.” Medium, 25 Jan. 2022, https://towardsdatascience.com/implement-your-topic-modeling-using-the-bertopic-library-d6708baa78fe.\n",
        "\n",
        "“PyLDAvis: Topic Modelling Exploration Tool That Every NLP Data Scientist Should Know.” Neptune.Ai, 16 Nov. 2020, https://neptune.ai/blog/pyldavis-topic-modelling-exploration-tool-that-every-nlp-data-scientist-should-know.\n",
        "\n",
        "Yadav, Kajal. “The Complete Practical Guide to Topic Modelling.” Medium, 22 Jan. 2022, https://towardsdatascience.com/topic-modelling-f51e5ebfb40a.\n"
      ],
      "metadata": {
        "id": "mCUwhPTZh91F"
      }
    },
    {
      "cell_type": "code",
      "source": [
        "#Pip Install Missing Packages\n",
        "!pip install pyLDAvis\n",
        "!python -m spacy download en_core_web_md -qq\n",
        "from IPython.display import clear_output\n",
        "clear_output()"
      ],
      "metadata": {
        "id": "3T1wTTOW2eOk"
      },
      "execution_count": 3,
      "outputs": []
    },
    {
      "cell_type": "code",
      "execution_count": 4,
      "metadata": {
        "colab": {
          "base_uri": "https://localhost:8080/"
        },
        "id": "vgbMXbvzq4_b",
        "outputId": "dd6234fb-df77-470c-8f74-2d0b5d0acdf3"
      },
      "outputs": [
        {
          "output_type": "stream",
          "name": "stderr",
          "text": [
            "[nltk_data] Downloading package punkt to /root/nltk_data...\n",
            "[nltk_data]   Package punkt is already up-to-date!\n",
            "[nltk_data] Downloading package stopwords to /root/nltk_data...\n",
            "[nltk_data]   Package stopwords is already up-to-date!\n"
          ]
        }
      ],
      "source": [
        "###########################\n",
        "# Packages                #\n",
        "###########################\n",
        "import pandas as pd\n",
        "import sklearn\n",
        "import nltk\n",
        "import spacy\n",
        "from nltk.tokenize import RegexpTokenizer\n",
        "import matplotlib.pyplot as plt\n",
        "import seaborn as sns\n",
        "import pyLDAvis.gensim_models\n",
        "import en_core_web_md\n",
        "import gensim\n",
        "import random\n",
        "import pyLDAvis\n",
        "from gensim.models.coherencemodel import CoherenceModel\n",
        "from gensim.corpora.dictionary import Dictionary\n",
        "from gensim.models import LdaMulticore\n",
        "from gensim.models import CoherenceModel\n",
        "from gensim import corpora, models\n",
        "from gensim.test.utils import datapath\n",
        "import warnings\n",
        "\n",
        "warnings.filterwarnings('ignore')\n",
        "\n",
        "# Set options for specific packages\n",
        "nltk.download(['punkt', \n",
        "               'stopwords'])\n",
        "\n",
        "# Visualise inside a notebook\n",
        "pyLDAvis.enable_notebook()\n",
        "\n",
        "sns.set()"
      ]
    },
    {
      "cell_type": "code",
      "source": [
        "###########################\n",
        "# Load CSVs (Github)      #\n",
        "###########################\n",
        "workplan_df = pd.read_csv(\"https://github.com/Colsai/scott_data606/blob/main/Data_Sources/HHS_OIG_workplans.csv?raw=true\")\n",
        "\n",
        "#Drop typo column\n",
        "workplan_df.drop(columns = 'Office of Evaluation and Inspections', \n",
        "                 inplace = True)\n",
        "\n",
        "reports_df = pd.read_csv(\"https://github.com/Colsai/scott_data606/blob/main/Data_Sources/HHS_OIG_Reports.csv?raw=true\")"
      ],
      "metadata": {
        "id": "S7soBUSEq7en"
      },
      "execution_count": 5,
      "outputs": []
    },
    {
      "cell_type": "code",
      "source": [
        "'''\n",
        "# Save model to disk.\n",
        "def save_model(path = '/content/drive/MyDrive/DATA_606/lda_model', \n",
        "               model = Lda_model):\n",
        "    temp_file = datapath([path])\n",
        "    model.save(temp_file)\n",
        "\n",
        "# Load a potentially pretrained model from disk.\n",
        "def load_model(path = ''):\n",
        "    saved_model = LdaModel.load(path)\n",
        "    return saved_model\n",
        "'''"
      ],
      "metadata": {
        "id": "HCOeF7mQcHz2",
        "colab": {
          "base_uri": "https://localhost:8080/",
          "height": 72
        },
        "outputId": "6486c05c-7629-4d8e-9a14-1d58f3b5ae4a"
      },
      "execution_count": 8,
      "outputs": [
        {
          "output_type": "execute_result",
          "data": {
            "text/plain": [
              "\"\\n# Save model to disk.\\ndef save_model(path = '/content/drive/MyDrive/DATA_606/lda_model', \\n               model = Lda_model):\\n    temp_file = datapath([path])\\n    model.save(temp_file)\\n\\n# Load a potentially pretrained model from disk.\\ndef load_model(path = ''):\\n    saved_model = LdaModel.load(path)\\n    return saved_model\\n\""
            ],
            "application/vnd.google.colaboratory.intrinsic+json": {
              "type": "string"
            }
          },
          "metadata": {},
          "execution_count": 8
        }
      ]
    },
    {
      "cell_type": "markdown",
      "source": [
        "## EDA for workplan_df"
      ],
      "metadata": {
        "id": "66W83_f-jjGJ"
      }
    },
    {
      "cell_type": "code",
      "source": [
        "workplan_df.columns"
      ],
      "metadata": {
        "colab": {
          "base_uri": "https://localhost:8080/"
        },
        "id": "WL-NbNbKjxXC",
        "outputId": "763d6681-157b-4591-c8f3-2bfb8796bd1a"
      },
      "execution_count": 9,
      "outputs": [
        {
          "output_type": "execute_result",
          "data": {
            "text/plain": [
              "Index(['Announced or Revised', 'Agency', 'Title', 'Component',\n",
              "       'Report Number(s)', 'Expected Issue Date (FY)', 'Website_Link',\n",
              "       'Summary'],\n",
              "      dtype='object')"
            ]
          },
          "metadata": {},
          "execution_count": 9
        }
      ]
    },
    {
      "cell_type": "code",
      "source": [
        "#Are all titles unique?\n",
        "workplan_df.Title.nunique() / len(workplan_df)"
      ],
      "metadata": {
        "colab": {
          "base_uri": "https://localhost:8080/"
        },
        "id": "OmxkyLkLlTGZ",
        "outputId": "fa43b1a5-c77f-4895-cb65-71ccf7ac0303"
      },
      "execution_count": 10,
      "outputs": [
        {
          "output_type": "execute_result",
          "data": {
            "text/plain": [
              "0.9648318042813455"
            ]
          },
          "metadata": {},
          "execution_count": 10
        }
      ]
    },
    {
      "cell_type": "code",
      "source": [
        "#What are the statuses of all items?\n",
        "workplan_df['Announced or Revised'].value_counts()"
      ],
      "metadata": {
        "colab": {
          "base_uri": "https://localhost:8080/"
        },
        "id": "YbdeHjePnGjS",
        "outputId": "945b8a7c-cef8-4b68-8cf3-7fcbe96f6fe7"
      },
      "execution_count": 11,
      "outputs": [
        {
          "output_type": "execute_result",
          "data": {
            "text/plain": [
              "Completed              262\n",
              "Revised                107\n",
              "Completed (partial)     70\n",
              "Nov-16                  29\n",
              "Removed                 27\n",
              "November 2021           13\n",
              "February 2022           11\n",
              "June 2021                8\n",
              "December 2021            8\n",
              "February 2020            6\n",
              "January 2021             6\n",
              "April 2021               6\n",
              "May 2021                 6\n",
              "January 2022             6\n",
              "March 2022               6\n",
              "August 2021              5\n",
              "October 2017             5\n",
              "July 2021                4\n",
              "April 2022               4\n",
              "May 2022                 4\n",
              "December 2020            4\n",
              "October 2020             4\n",
              "June 2020                4\n",
              "April 2020               3\n",
              "August 2018              3\n",
              "October 2021             3\n",
              "August 2020              3\n",
              "May 2020                 3\n",
              "September 2021           2\n",
              "November 2020            2\n",
              "February 2021            2\n",
              "June 2019                2\n",
              "Complete                 2\n",
              "December 2017            2\n",
              "Jun-17                   2\n",
              "February 2019            2\n",
              "August 2019              2\n",
              "December 2019            1\n",
              "November 2016            1\n",
              "Completed7               1\n",
              "August 2017              1\n",
              "September 2017           1\n",
              "September 2019           1\n",
              "Completed 2019           1\n",
              "June 2018                1\n",
              "September 2018           1\n",
              "October 2018             1\n",
              "January 22               1\n",
              "March 2021               1\n",
              "January 2019             1\n",
              "March 2019               1\n",
              "July 2019                1\n",
              "June 2022                1\n",
              "Name: Announced or Revised, dtype: int64"
            ]
          },
          "metadata": {},
          "execution_count": 11
        }
      ]
    },
    {
      "cell_type": "code",
      "source": [
        "workplan_df['Agency'].value_counts()"
      ],
      "metadata": {
        "id": "yLdC7grPnbE-",
        "outputId": "dfd60648-c57d-4c91-da7c-d247de83a4f0",
        "colab": {
          "base_uri": "https://localhost:8080/"
        }
      },
      "execution_count": 12,
      "outputs": [
        {
          "output_type": "execute_result",
          "data": {
            "text/plain": [
              "Centers for Medicare & Medicaid Services                                                                                                293\n",
              "Centers for Medicare and Medicaid Services                                                                                              119\n",
              "Administration for Children and Families                                                                                                 45\n",
              "National Institutes of Health                                                                                                            26\n",
              "Food and Drug Administration                                                                                                             20\n",
              "Centers for Disease Control and Prevention                                                                                               18\n",
              "Other                                                                                                                                    14\n",
              "OS                                                                                                                                       14\n",
              "Indian Health Service                                                                                                                    14\n",
              "Health Resources and Services Administration                                                                                             13\n",
              "Substance Abuse and Mental Health Services Administration                                                                                13\n",
              "Assistant Secretary for Preparedness and Response                                                                                         6\n",
              "Administration for Community Living                                                                                                       6\n",
              "Indian Health Services                                                                                                                    5\n",
              "Office of the Secretary                                                                                                                   5\n",
              "Other Public Health Reviews                                                                                                               4\n",
              "HHS                                                                                                                                       4\n",
              "ACF                                                                                                                                       3\n",
              "Office of the Assistant Secretary for Administration                                                                                      3\n",
              "Office of the Assistant Secretary for Preparedness and Response                                                                           2\n",
              "Health Resources & Services Administration                                                                                                2\n",
              "Administration for Children and Families, CDC, & HRSA                                                                                     1\n",
              "ASA                                                                                                                                       1\n",
              "CMS, FDA                                                                                                                                  1\n",
              "OS, ACF, CMS, CDC, FDA                                                                                                                    1\n",
              "CDC, NIH, AHRQ                                                                                                                            1\n",
              "OS, OIG, CMS, FDA, CDC                                                                                                                    1\n",
              "CMS, AHRQ, OMHA                                                                                                                           1\n",
              "CMS, AHRQ                                                                                                                                 1\n",
              "HHS, OCR, CMS                                                                                                                             1\n",
              "Office of Evaluation and Inspections                                                                                                      1\n",
              "FDA, NIH, CMS                                                                                                                             1\n",
              "OS, CDC, ASPR                                                                                                                             1\n",
              "CDC, ACF                                                                                                                                  1\n",
              "ACF, CDC, CMS, HRSA, IHS, NIH, SAMHSA                                                                                                     1\n",
              "All STAFFDIV/OPDIVs                                                                                                                       1\n",
              "ASPR, CDC, FDA, NIH, CMS                                                                                                                  1\n",
              "OS, HRSA, CDC                                                                                                                             1\n",
              "ASFR                                                                                                                                      1\n",
              "Office of Inspector General                                                                                                               1\n",
              "Food & Drug Administration                                                                                                                1\n",
              "OS, ACF, ACL, AHRQ, CDC, FDA, HRSA, NIH, SAMHSA                                                                                           1\n",
              "Office of the Assistant Secretary for Financial Resources                                                                                 1\n",
              "IHS  NIH  HRSA  CDC                                                                                                                       1\n",
              "Administration for Children and Families;  Centers for Disease Control and Prevention;  Health Resources and Services Administration      1\n",
              "CMS, ASPR                                                                                                                                 1\n",
              "Name: Agency, dtype: int64"
            ]
          },
          "metadata": {},
          "execution_count": 12
        }
      ]
    },
    {
      "cell_type": "code",
      "source": [
        "#Are any products listed multiple times?\n",
        "workplan_titles = workplan_df.Title.value_counts().reset_index()\n",
        "workplan_titles.columns = ['Summary', 'Count']\n",
        "workplan_titles[workplan_titles['Count'] > 1]"
      ],
      "metadata": {
        "colab": {
          "base_uri": "https://localhost:8080/",
          "height": 645
        },
        "id": "LRxMH4wHlavv",
        "outputId": "069bdc41-b1bd-4732-8376-300655084bc0"
      },
      "execution_count": 13,
      "outputs": [
        {
          "output_type": "execute_result",
          "data": {
            "text/plain": [
              "                                              Summary  Count\n",
              "0   Ensuring Dual-Eligible Beneficiaries' Access t...      5\n",
              "1   Superfund Financial Activities at the National...      3\n",
              "2   Audit of the Food and Drug Administration's Pr...      2\n",
              "3   Audit of Administration for Community Living's...      2\n",
              "4   Office of Refugee Resettlement Influx Care Fac...      2\n",
              "5   States' Oversight of Medicaid Managed Care Med...      2\n",
              "6              Skilled Nursing Facility Reimbursement      2\n",
              "7   NIH Oversight of Foreign Grant Recipients' Com...      2\n",
              "8   Review of the Food and Drug Administration's C...      2\n",
              "9   State Medicaid Fraud Control Units FY 2017 Ann...      2\n",
              "10  Comparison of Average Sales Prices and Average...      2\n",
              "11  OIG Oversight of State Medicaid Fraud Control ...      2\n",
              "12  Mandatory Review of HHS Agencies' Annual Accou...      2\n",
              "13  Meeting the Challenges Presented by COVID-19: ...      2\n",
              "14  Audit of the Department of Health and Human Se...      2\n",
              "15  HHS Compliance with the Improper Payment Elimi...      2\n",
              "16  Emergency Preparedness and Response at Care Pr...      2\n",
              "17  HHS Agencies' Annual Accounting of Drug-Contro...      2\n",
              "18  Grantees' Use of President's Emergency Plan fo...      2"
            ],
            "text/html": [
              "\n",
              "  <div id=\"df-93ff9a9d-f240-4865-a86e-322126a910b5\">\n",
              "    <div class=\"colab-df-container\">\n",
              "      <div>\n",
              "<style scoped>\n",
              "    .dataframe tbody tr th:only-of-type {\n",
              "        vertical-align: middle;\n",
              "    }\n",
              "\n",
              "    .dataframe tbody tr th {\n",
              "        vertical-align: top;\n",
              "    }\n",
              "\n",
              "    .dataframe thead th {\n",
              "        text-align: right;\n",
              "    }\n",
              "</style>\n",
              "<table border=\"1\" class=\"dataframe\">\n",
              "  <thead>\n",
              "    <tr style=\"text-align: right;\">\n",
              "      <th></th>\n",
              "      <th>Summary</th>\n",
              "      <th>Count</th>\n",
              "    </tr>\n",
              "  </thead>\n",
              "  <tbody>\n",
              "    <tr>\n",
              "      <th>0</th>\n",
              "      <td>Ensuring Dual-Eligible Beneficiaries' Access t...</td>\n",
              "      <td>5</td>\n",
              "    </tr>\n",
              "    <tr>\n",
              "      <th>1</th>\n",
              "      <td>Superfund Financial Activities at the National...</td>\n",
              "      <td>3</td>\n",
              "    </tr>\n",
              "    <tr>\n",
              "      <th>2</th>\n",
              "      <td>Audit of the Food and Drug Administration's Pr...</td>\n",
              "      <td>2</td>\n",
              "    </tr>\n",
              "    <tr>\n",
              "      <th>3</th>\n",
              "      <td>Audit of Administration for Community Living's...</td>\n",
              "      <td>2</td>\n",
              "    </tr>\n",
              "    <tr>\n",
              "      <th>4</th>\n",
              "      <td>Office of Refugee Resettlement Influx Care Fac...</td>\n",
              "      <td>2</td>\n",
              "    </tr>\n",
              "    <tr>\n",
              "      <th>5</th>\n",
              "      <td>States' Oversight of Medicaid Managed Care Med...</td>\n",
              "      <td>2</td>\n",
              "    </tr>\n",
              "    <tr>\n",
              "      <th>6</th>\n",
              "      <td>Skilled Nursing Facility Reimbursement</td>\n",
              "      <td>2</td>\n",
              "    </tr>\n",
              "    <tr>\n",
              "      <th>7</th>\n",
              "      <td>NIH Oversight of Foreign Grant Recipients' Com...</td>\n",
              "      <td>2</td>\n",
              "    </tr>\n",
              "    <tr>\n",
              "      <th>8</th>\n",
              "      <td>Review of the Food and Drug Administration's C...</td>\n",
              "      <td>2</td>\n",
              "    </tr>\n",
              "    <tr>\n",
              "      <th>9</th>\n",
              "      <td>State Medicaid Fraud Control Units FY 2017 Ann...</td>\n",
              "      <td>2</td>\n",
              "    </tr>\n",
              "    <tr>\n",
              "      <th>10</th>\n",
              "      <td>Comparison of Average Sales Prices and Average...</td>\n",
              "      <td>2</td>\n",
              "    </tr>\n",
              "    <tr>\n",
              "      <th>11</th>\n",
              "      <td>OIG Oversight of State Medicaid Fraud Control ...</td>\n",
              "      <td>2</td>\n",
              "    </tr>\n",
              "    <tr>\n",
              "      <th>12</th>\n",
              "      <td>Mandatory Review of HHS Agencies' Annual Accou...</td>\n",
              "      <td>2</td>\n",
              "    </tr>\n",
              "    <tr>\n",
              "      <th>13</th>\n",
              "      <td>Meeting the Challenges Presented by COVID-19: ...</td>\n",
              "      <td>2</td>\n",
              "    </tr>\n",
              "    <tr>\n",
              "      <th>14</th>\n",
              "      <td>Audit of the Department of Health and Human Se...</td>\n",
              "      <td>2</td>\n",
              "    </tr>\n",
              "    <tr>\n",
              "      <th>15</th>\n",
              "      <td>HHS Compliance with the Improper Payment Elimi...</td>\n",
              "      <td>2</td>\n",
              "    </tr>\n",
              "    <tr>\n",
              "      <th>16</th>\n",
              "      <td>Emergency Preparedness and Response at Care Pr...</td>\n",
              "      <td>2</td>\n",
              "    </tr>\n",
              "    <tr>\n",
              "      <th>17</th>\n",
              "      <td>HHS Agencies' Annual Accounting of Drug-Contro...</td>\n",
              "      <td>2</td>\n",
              "    </tr>\n",
              "    <tr>\n",
              "      <th>18</th>\n",
              "      <td>Grantees' Use of President's Emergency Plan fo...</td>\n",
              "      <td>2</td>\n",
              "    </tr>\n",
              "  </tbody>\n",
              "</table>\n",
              "</div>\n",
              "      <button class=\"colab-df-convert\" onclick=\"convertToInteractive('df-93ff9a9d-f240-4865-a86e-322126a910b5')\"\n",
              "              title=\"Convert this dataframe to an interactive table.\"\n",
              "              style=\"display:none;\">\n",
              "        \n",
              "  <svg xmlns=\"http://www.w3.org/2000/svg\" height=\"24px\"viewBox=\"0 0 24 24\"\n",
              "       width=\"24px\">\n",
              "    <path d=\"M0 0h24v24H0V0z\" fill=\"none\"/>\n",
              "    <path d=\"M18.56 5.44l.94 2.06.94-2.06 2.06-.94-2.06-.94-.94-2.06-.94 2.06-2.06.94zm-11 1L8.5 8.5l.94-2.06 2.06-.94-2.06-.94L8.5 2.5l-.94 2.06-2.06.94zm10 10l.94 2.06.94-2.06 2.06-.94-2.06-.94-.94-2.06-.94 2.06-2.06.94z\"/><path d=\"M17.41 7.96l-1.37-1.37c-.4-.4-.92-.59-1.43-.59-.52 0-1.04.2-1.43.59L10.3 9.45l-7.72 7.72c-.78.78-.78 2.05 0 2.83L4 21.41c.39.39.9.59 1.41.59.51 0 1.02-.2 1.41-.59l7.78-7.78 2.81-2.81c.8-.78.8-2.07 0-2.86zM5.41 20L4 18.59l7.72-7.72 1.47 1.35L5.41 20z\"/>\n",
              "  </svg>\n",
              "      </button>\n",
              "      \n",
              "  <style>\n",
              "    .colab-df-container {\n",
              "      display:flex;\n",
              "      flex-wrap:wrap;\n",
              "      gap: 12px;\n",
              "    }\n",
              "\n",
              "    .colab-df-convert {\n",
              "      background-color: #E8F0FE;\n",
              "      border: none;\n",
              "      border-radius: 50%;\n",
              "      cursor: pointer;\n",
              "      display: none;\n",
              "      fill: #1967D2;\n",
              "      height: 32px;\n",
              "      padding: 0 0 0 0;\n",
              "      width: 32px;\n",
              "    }\n",
              "\n",
              "    .colab-df-convert:hover {\n",
              "      background-color: #E2EBFA;\n",
              "      box-shadow: 0px 1px 2px rgba(60, 64, 67, 0.3), 0px 1px 3px 1px rgba(60, 64, 67, 0.15);\n",
              "      fill: #174EA6;\n",
              "    }\n",
              "\n",
              "    [theme=dark] .colab-df-convert {\n",
              "      background-color: #3B4455;\n",
              "      fill: #D2E3FC;\n",
              "    }\n",
              "\n",
              "    [theme=dark] .colab-df-convert:hover {\n",
              "      background-color: #434B5C;\n",
              "      box-shadow: 0px 1px 3px 1px rgba(0, 0, 0, 0.15);\n",
              "      filter: drop-shadow(0px 1px 2px rgba(0, 0, 0, 0.3));\n",
              "      fill: #FFFFFF;\n",
              "    }\n",
              "  </style>\n",
              "\n",
              "      <script>\n",
              "        const buttonEl =\n",
              "          document.querySelector('#df-93ff9a9d-f240-4865-a86e-322126a910b5 button.colab-df-convert');\n",
              "        buttonEl.style.display =\n",
              "          google.colab.kernel.accessAllowed ? 'block' : 'none';\n",
              "\n",
              "        async function convertToInteractive(key) {\n",
              "          const element = document.querySelector('#df-93ff9a9d-f240-4865-a86e-322126a910b5');\n",
              "          const dataTable =\n",
              "            await google.colab.kernel.invokeFunction('convertToInteractive',\n",
              "                                                     [key], {});\n",
              "          if (!dataTable) return;\n",
              "\n",
              "          const docLinkHtml = 'Like what you see? Visit the ' +\n",
              "            '<a target=\"_blank\" href=https://colab.research.google.com/notebooks/data_table.ipynb>data table notebook</a>'\n",
              "            + ' to learn more about interactive tables.';\n",
              "          element.innerHTML = '';\n",
              "          dataTable['output_type'] = 'display_data';\n",
              "          await google.colab.output.renderOutput(dataTable, element);\n",
              "          const docLink = document.createElement('div');\n",
              "          docLink.innerHTML = docLinkHtml;\n",
              "          element.appendChild(docLink);\n",
              "        }\n",
              "      </script>\n",
              "    </div>\n",
              "  </div>\n",
              "  "
            ]
          },
          "metadata": {},
          "execution_count": 13
        }
      ]
    },
    {
      "cell_type": "code",
      "source": [
        "#Check through EID (expected issue date)\n",
        "workplan_df['Expected Issue Date (FY)'].value_counts()"
      ],
      "metadata": {
        "colab": {
          "base_uri": "https://localhost:8080/"
        },
        "id": "5XEUMe4ZlLsJ",
        "outputId": "dd64f29b-fbc8-4590-eb0d-a1f11d787ade"
      },
      "execution_count": 14,
      "outputs": [
        {
          "output_type": "execute_result",
          "data": {
            "text/plain": [
              "2022                        229\n",
              "2020                         90\n",
              "2021                         74\n",
              "2023                         66\n",
              "2019                         62\n",
              "2018                         62\n",
              "2017                         27\n",
              "Not Applicable               18\n",
              "Annual                        3\n",
              "2017, 2018                    2\n",
              "2024                          2\n",
              "FY 2021                       2\n",
              "11-12-2021                    1\n",
              "7/8/2021                      1\n",
              "Every 6 months                1\n",
              "Triennially                   1\n",
              "2018, 2019                    1\n",
              "11-18-2021                    1\n",
              "Completed 2017                1\n",
              "2019, 2020                    1\n",
              "7/7/2021                      1\n",
              "8/6/2021                      1\n",
              "Completed (partial) 2017      1\n",
              "10/18/2021                    1\n",
              "Name: Expected Issue Date (FY), dtype: int64"
            ]
          },
          "metadata": {},
          "execution_count": 14
        }
      ]
    },
    {
      "cell_type": "code",
      "source": [
        "#Check workplans by year (ignore all non-standardized years)\n",
        "mask = [True if len(str(workplan)) == 4 else False \n",
        "        for workplan in workplan_df['Expected Issue Date (FY)']]\n",
        "\n",
        "print(\"Expected Issue Date (FY) Year Values:\")\n",
        "workplan_df[mask]['Expected Issue Date (FY)'].value_counts()"
      ],
      "metadata": {
        "colab": {
          "base_uri": "https://localhost:8080/"
        },
        "id": "3O2JLnsql9jx",
        "outputId": "e3e7f0f1-b683-4af9-a7b2-a49e194504be"
      },
      "execution_count": 15,
      "outputs": [
        {
          "output_type": "stream",
          "name": "stdout",
          "text": [
            "Expected Issue Date (FY) Year Values:\n"
          ]
        },
        {
          "output_type": "execute_result",
          "data": {
            "text/plain": [
              "2022    229\n",
              "2020     90\n",
              "2021     74\n",
              "2023     66\n",
              "2018     62\n",
              "2019     62\n",
              "2017     27\n",
              "2024      2\n",
              "Name: Expected Issue Date (FY), dtype: int64"
            ]
          },
          "metadata": {},
          "execution_count": 15
        }
      ]
    },
    {
      "cell_type": "code",
      "source": [
        "workplan_df.Component.value_counts()[0:2]"
      ],
      "metadata": {
        "colab": {
          "base_uri": "https://localhost:8080/"
        },
        "id": "PVqRsK7vjzLF",
        "outputId": "6418c5b9-371d-4a20-9907-68f281e762aa"
      },
      "execution_count": 16,
      "outputs": [
        {
          "output_type": "execute_result",
          "data": {
            "text/plain": [
              "Office of Audit Services                418\n",
              "Office of Evaluation and Inspections    230\n",
              "Name: Component, dtype: int64"
            ]
          },
          "metadata": {},
          "execution_count": 16
        }
      ]
    },
    {
      "cell_type": "code",
      "source": [
        "workplan_df[workplan_df.Component == 'Office of Audit Services and Office of Evaluation and Inspections']"
      ],
      "metadata": {
        "colab": {
          "base_uri": "https://localhost:8080/",
          "height": 211
        },
        "id": "O_Mf9jtuj9SW",
        "outputId": "03ae34e2-1684-4071-8f28-ad72ceb9a6da"
      },
      "execution_count": 17,
      "outputs": [
        {
          "output_type": "execute_result",
          "data": {
            "text/plain": [
              "   Announced or Revised                                    Agency  \\\n",
              "35               Nov-16  Centers for Medicare & Medicaid Services   \n",
              "\n",
              "                                                Title  \\\n",
              "35  Medicaid Payment Suspensions for Credible Alle...   \n",
              "\n",
              "                                            Component Report Number(s)  \\\n",
              "35  Office of Audit Services and Office of Evaluat...  OEI-09-14-00020   \n",
              "\n",
              "   Expected Issue Date (FY)  \\\n",
              "35                     2017   \n",
              "\n",
              "                                         Website_Link  \\\n",
              "35  https://oig.hhs.gov/reports-and-publications/w...   \n",
              "\n",
              "                                              Summary  \n",
              "35  Federal financial participation in Medicaid is...  "
            ],
            "text/html": [
              "\n",
              "  <div id=\"df-492d4a2a-8155-46cd-802a-1744143272d1\">\n",
              "    <div class=\"colab-df-container\">\n",
              "      <div>\n",
              "<style scoped>\n",
              "    .dataframe tbody tr th:only-of-type {\n",
              "        vertical-align: middle;\n",
              "    }\n",
              "\n",
              "    .dataframe tbody tr th {\n",
              "        vertical-align: top;\n",
              "    }\n",
              "\n",
              "    .dataframe thead th {\n",
              "        text-align: right;\n",
              "    }\n",
              "</style>\n",
              "<table border=\"1\" class=\"dataframe\">\n",
              "  <thead>\n",
              "    <tr style=\"text-align: right;\">\n",
              "      <th></th>\n",
              "      <th>Announced or Revised</th>\n",
              "      <th>Agency</th>\n",
              "      <th>Title</th>\n",
              "      <th>Component</th>\n",
              "      <th>Report Number(s)</th>\n",
              "      <th>Expected Issue Date (FY)</th>\n",
              "      <th>Website_Link</th>\n",
              "      <th>Summary</th>\n",
              "    </tr>\n",
              "  </thead>\n",
              "  <tbody>\n",
              "    <tr>\n",
              "      <th>35</th>\n",
              "      <td>Nov-16</td>\n",
              "      <td>Centers for Medicare &amp; Medicaid Services</td>\n",
              "      <td>Medicaid Payment Suspensions for Credible Alle...</td>\n",
              "      <td>Office of Audit Services and Office of Evaluat...</td>\n",
              "      <td>OEI-09-14-00020</td>\n",
              "      <td>2017</td>\n",
              "      <td>https://oig.hhs.gov/reports-and-publications/w...</td>\n",
              "      <td>Federal financial participation in Medicaid is...</td>\n",
              "    </tr>\n",
              "  </tbody>\n",
              "</table>\n",
              "</div>\n",
              "      <button class=\"colab-df-convert\" onclick=\"convertToInteractive('df-492d4a2a-8155-46cd-802a-1744143272d1')\"\n",
              "              title=\"Convert this dataframe to an interactive table.\"\n",
              "              style=\"display:none;\">\n",
              "        \n",
              "  <svg xmlns=\"http://www.w3.org/2000/svg\" height=\"24px\"viewBox=\"0 0 24 24\"\n",
              "       width=\"24px\">\n",
              "    <path d=\"M0 0h24v24H0V0z\" fill=\"none\"/>\n",
              "    <path d=\"M18.56 5.44l.94 2.06.94-2.06 2.06-.94-2.06-.94-.94-2.06-.94 2.06-2.06.94zm-11 1L8.5 8.5l.94-2.06 2.06-.94-2.06-.94L8.5 2.5l-.94 2.06-2.06.94zm10 10l.94 2.06.94-2.06 2.06-.94-2.06-.94-.94-2.06-.94 2.06-2.06.94z\"/><path d=\"M17.41 7.96l-1.37-1.37c-.4-.4-.92-.59-1.43-.59-.52 0-1.04.2-1.43.59L10.3 9.45l-7.72 7.72c-.78.78-.78 2.05 0 2.83L4 21.41c.39.39.9.59 1.41.59.51 0 1.02-.2 1.41-.59l7.78-7.78 2.81-2.81c.8-.78.8-2.07 0-2.86zM5.41 20L4 18.59l7.72-7.72 1.47 1.35L5.41 20z\"/>\n",
              "  </svg>\n",
              "      </button>\n",
              "      \n",
              "  <style>\n",
              "    .colab-df-container {\n",
              "      display:flex;\n",
              "      flex-wrap:wrap;\n",
              "      gap: 12px;\n",
              "    }\n",
              "\n",
              "    .colab-df-convert {\n",
              "      background-color: #E8F0FE;\n",
              "      border: none;\n",
              "      border-radius: 50%;\n",
              "      cursor: pointer;\n",
              "      display: none;\n",
              "      fill: #1967D2;\n",
              "      height: 32px;\n",
              "      padding: 0 0 0 0;\n",
              "      width: 32px;\n",
              "    }\n",
              "\n",
              "    .colab-df-convert:hover {\n",
              "      background-color: #E2EBFA;\n",
              "      box-shadow: 0px 1px 2px rgba(60, 64, 67, 0.3), 0px 1px 3px 1px rgba(60, 64, 67, 0.15);\n",
              "      fill: #174EA6;\n",
              "    }\n",
              "\n",
              "    [theme=dark] .colab-df-convert {\n",
              "      background-color: #3B4455;\n",
              "      fill: #D2E3FC;\n",
              "    }\n",
              "\n",
              "    [theme=dark] .colab-df-convert:hover {\n",
              "      background-color: #434B5C;\n",
              "      box-shadow: 0px 1px 3px 1px rgba(0, 0, 0, 0.15);\n",
              "      filter: drop-shadow(0px 1px 2px rgba(0, 0, 0, 0.3));\n",
              "      fill: #FFFFFF;\n",
              "    }\n",
              "  </style>\n",
              "\n",
              "      <script>\n",
              "        const buttonEl =\n",
              "          document.querySelector('#df-492d4a2a-8155-46cd-802a-1744143272d1 button.colab-df-convert');\n",
              "        buttonEl.style.display =\n",
              "          google.colab.kernel.accessAllowed ? 'block' : 'none';\n",
              "\n",
              "        async function convertToInteractive(key) {\n",
              "          const element = document.querySelector('#df-492d4a2a-8155-46cd-802a-1744143272d1');\n",
              "          const dataTable =\n",
              "            await google.colab.kernel.invokeFunction('convertToInteractive',\n",
              "                                                     [key], {});\n",
              "          if (!dataTable) return;\n",
              "\n",
              "          const docLinkHtml = 'Like what you see? Visit the ' +\n",
              "            '<a target=\"_blank\" href=https://colab.research.google.com/notebooks/data_table.ipynb>data table notebook</a>'\n",
              "            + ' to learn more about interactive tables.';\n",
              "          element.innerHTML = '';\n",
              "          dataTable['output_type'] = 'display_data';\n",
              "          await google.colab.output.renderOutput(dataTable, element);\n",
              "          const docLink = document.createElement('div');\n",
              "          docLink.innerHTML = docLinkHtml;\n",
              "          element.appendChild(docLink);\n",
              "        }\n",
              "      </script>\n",
              "    </div>\n",
              "  </div>\n",
              "  "
            ]
          },
          "metadata": {},
          "execution_count": 17
        }
      ]
    },
    {
      "cell_type": "code",
      "source": [
        "workplan_df.Agency.value_counts()[0:5]"
      ],
      "metadata": {
        "colab": {
          "base_uri": "https://localhost:8080/"
        },
        "id": "un_iNEx8jlJU",
        "outputId": "912bf2ff-e4fb-436f-d820-7a95dd4bba5e"
      },
      "execution_count": 18,
      "outputs": [
        {
          "output_type": "execute_result",
          "data": {
            "text/plain": [
              "Centers for Medicare & Medicaid Services      293\n",
              "Centers for Medicare and Medicaid Services    119\n",
              "Administration for Children and Families       45\n",
              "National Institutes of Health                  26\n",
              "Food and Drug Administration                   20\n",
              "Name: Agency, dtype: int64"
            ]
          },
          "metadata": {},
          "execution_count": 18
        }
      ]
    },
    {
      "cell_type": "markdown",
      "source": [
        "## Topic Modeling for Workplan df\n",
        "Look at topics of previous projects decided on"
      ],
      "metadata": {
        "id": "b9mHl9gxhOUJ"
      }
    },
    {
      "cell_type": "code",
      "source": [
        "workplan_df.head()"
      ],
      "metadata": {
        "colab": {
          "base_uri": "https://localhost:8080/",
          "height": 545
        },
        "id": "6vLY89o3hand",
        "outputId": "b355da63-65ac-406b-950c-cf0f7941059e"
      },
      "execution_count": 19,
      "outputs": [
        {
          "output_type": "execute_result",
          "data": {
            "text/plain": [
              "  Announced or Revised                                    Agency  \\\n",
              "0            Completed  Administration for Children and Families   \n",
              "1            Completed  Administration for Children and Families   \n",
              "2            Completed  Administration for Children and Families   \n",
              "3               Nov-16  Administration for Children and Families   \n",
              "4         October 2020  Administration for Children and Families   \n",
              "\n",
              "                                               Title  \\\n",
              "0  States' Accuracy of Reporting TANF Spending In...   \n",
              "1  Head Start: Review of Single Audit Findings an...   \n",
              "2     Unaccompanied Children Program Grantee Reviews   \n",
              "3  Recommendation Follow-Up: Office of Refugee Re...   \n",
              "4  ACF Oversight of Guardian Ad Litem Requirement...   \n",
              "\n",
              "                              Component  \\\n",
              "0              Office of Audit Services   \n",
              "1              Office of Audit Services   \n",
              "2              Office of Audit Services   \n",
              "3  Office of Evaluation and Inspections   \n",
              "4  Office of Evaluation and Inspections   \n",
              "\n",
              "                                    Report Number(s) Expected Issue Date (FY)  \\\n",
              "0                      A-02-17-02005;  W-00-17-25100                     2021   \n",
              "1  A-02-16-02009,  A-09-16-01004,  A-06-17-07003;...                     2018   \n",
              "2  A-02-16-02013;  A-04-16-03566;  A-02-16-02007;...                     2020   \n",
              "3                                    OEI-09-16-00260                     2017   \n",
              "4                                    OEI-12-16-00120                     2022   \n",
              "\n",
              "                                        Website_Link  \\\n",
              "0  https://oig.hhs.gov/reports-and-publications/w...   \n",
              "1  https://oig.hhs.gov/reports-and-publications/w...   \n",
              "2  https://oig.hhs.gov/reports-and-publications/w...   \n",
              "3  https://oig.hhs.gov/reports-and-publications/w...   \n",
              "4  https://oig.hhs.gov/reports-and-publications/w...   \n",
              "\n",
              "                                             Summary  \n",
              "0  The Temporary Assistance for Needy Families (T...  \n",
              "1  Effective for awards made on or after December...  \n",
              "2  Under the Homeland Security Act of 2002, § 462...  \n",
              "3  Under the Homeland Security Act of 2002, § 462...  \n",
              "4  As a condition of receiving Child Abuse Preven...  "
            ],
            "text/html": [
              "\n",
              "  <div id=\"df-54c7bfac-80b3-47bf-b29e-ed183313965d\">\n",
              "    <div class=\"colab-df-container\">\n",
              "      <div>\n",
              "<style scoped>\n",
              "    .dataframe tbody tr th:only-of-type {\n",
              "        vertical-align: middle;\n",
              "    }\n",
              "\n",
              "    .dataframe tbody tr th {\n",
              "        vertical-align: top;\n",
              "    }\n",
              "\n",
              "    .dataframe thead th {\n",
              "        text-align: right;\n",
              "    }\n",
              "</style>\n",
              "<table border=\"1\" class=\"dataframe\">\n",
              "  <thead>\n",
              "    <tr style=\"text-align: right;\">\n",
              "      <th></th>\n",
              "      <th>Announced or Revised</th>\n",
              "      <th>Agency</th>\n",
              "      <th>Title</th>\n",
              "      <th>Component</th>\n",
              "      <th>Report Number(s)</th>\n",
              "      <th>Expected Issue Date (FY)</th>\n",
              "      <th>Website_Link</th>\n",
              "      <th>Summary</th>\n",
              "    </tr>\n",
              "  </thead>\n",
              "  <tbody>\n",
              "    <tr>\n",
              "      <th>0</th>\n",
              "      <td>Completed</td>\n",
              "      <td>Administration for Children and Families</td>\n",
              "      <td>States' Accuracy of Reporting TANF Spending In...</td>\n",
              "      <td>Office of Audit Services</td>\n",
              "      <td>A-02-17-02005;  W-00-17-25100</td>\n",
              "      <td>2021</td>\n",
              "      <td>https://oig.hhs.gov/reports-and-publications/w...</td>\n",
              "      <td>The Temporary Assistance for Needy Families (T...</td>\n",
              "    </tr>\n",
              "    <tr>\n",
              "      <th>1</th>\n",
              "      <td>Completed</td>\n",
              "      <td>Administration for Children and Families</td>\n",
              "      <td>Head Start: Review of Single Audit Findings an...</td>\n",
              "      <td>Office of Audit Services</td>\n",
              "      <td>A-02-16-02009,  A-09-16-01004,  A-06-17-07003;...</td>\n",
              "      <td>2018</td>\n",
              "      <td>https://oig.hhs.gov/reports-and-publications/w...</td>\n",
              "      <td>Effective for awards made on or after December...</td>\n",
              "    </tr>\n",
              "    <tr>\n",
              "      <th>2</th>\n",
              "      <td>Completed</td>\n",
              "      <td>Administration for Children and Families</td>\n",
              "      <td>Unaccompanied Children Program Grantee Reviews</td>\n",
              "      <td>Office of Audit Services</td>\n",
              "      <td>A-02-16-02013;  A-04-16-03566;  A-02-16-02007;...</td>\n",
              "      <td>2020</td>\n",
              "      <td>https://oig.hhs.gov/reports-and-publications/w...</td>\n",
              "      <td>Under the Homeland Security Act of 2002, § 462...</td>\n",
              "    </tr>\n",
              "    <tr>\n",
              "      <th>3</th>\n",
              "      <td>Nov-16</td>\n",
              "      <td>Administration for Children and Families</td>\n",
              "      <td>Recommendation Follow-Up: Office of Refugee Re...</td>\n",
              "      <td>Office of Evaluation and Inspections</td>\n",
              "      <td>OEI-09-16-00260</td>\n",
              "      <td>2017</td>\n",
              "      <td>https://oig.hhs.gov/reports-and-publications/w...</td>\n",
              "      <td>Under the Homeland Security Act of 2002, § 462...</td>\n",
              "    </tr>\n",
              "    <tr>\n",
              "      <th>4</th>\n",
              "      <td>October 2020</td>\n",
              "      <td>Administration for Children and Families</td>\n",
              "      <td>ACF Oversight of Guardian Ad Litem Requirement...</td>\n",
              "      <td>Office of Evaluation and Inspections</td>\n",
              "      <td>OEI-12-16-00120</td>\n",
              "      <td>2022</td>\n",
              "      <td>https://oig.hhs.gov/reports-and-publications/w...</td>\n",
              "      <td>As a condition of receiving Child Abuse Preven...</td>\n",
              "    </tr>\n",
              "  </tbody>\n",
              "</table>\n",
              "</div>\n",
              "      <button class=\"colab-df-convert\" onclick=\"convertToInteractive('df-54c7bfac-80b3-47bf-b29e-ed183313965d')\"\n",
              "              title=\"Convert this dataframe to an interactive table.\"\n",
              "              style=\"display:none;\">\n",
              "        \n",
              "  <svg xmlns=\"http://www.w3.org/2000/svg\" height=\"24px\"viewBox=\"0 0 24 24\"\n",
              "       width=\"24px\">\n",
              "    <path d=\"M0 0h24v24H0V0z\" fill=\"none\"/>\n",
              "    <path d=\"M18.56 5.44l.94 2.06.94-2.06 2.06-.94-2.06-.94-.94-2.06-.94 2.06-2.06.94zm-11 1L8.5 8.5l.94-2.06 2.06-.94-2.06-.94L8.5 2.5l-.94 2.06-2.06.94zm10 10l.94 2.06.94-2.06 2.06-.94-2.06-.94-.94-2.06-.94 2.06-2.06.94z\"/><path d=\"M17.41 7.96l-1.37-1.37c-.4-.4-.92-.59-1.43-.59-.52 0-1.04.2-1.43.59L10.3 9.45l-7.72 7.72c-.78.78-.78 2.05 0 2.83L4 21.41c.39.39.9.59 1.41.59.51 0 1.02-.2 1.41-.59l7.78-7.78 2.81-2.81c.8-.78.8-2.07 0-2.86zM5.41 20L4 18.59l7.72-7.72 1.47 1.35L5.41 20z\"/>\n",
              "  </svg>\n",
              "      </button>\n",
              "      \n",
              "  <style>\n",
              "    .colab-df-container {\n",
              "      display:flex;\n",
              "      flex-wrap:wrap;\n",
              "      gap: 12px;\n",
              "    }\n",
              "\n",
              "    .colab-df-convert {\n",
              "      background-color: #E8F0FE;\n",
              "      border: none;\n",
              "      border-radius: 50%;\n",
              "      cursor: pointer;\n",
              "      display: none;\n",
              "      fill: #1967D2;\n",
              "      height: 32px;\n",
              "      padding: 0 0 0 0;\n",
              "      width: 32px;\n",
              "    }\n",
              "\n",
              "    .colab-df-convert:hover {\n",
              "      background-color: #E2EBFA;\n",
              "      box-shadow: 0px 1px 2px rgba(60, 64, 67, 0.3), 0px 1px 3px 1px rgba(60, 64, 67, 0.15);\n",
              "      fill: #174EA6;\n",
              "    }\n",
              "\n",
              "    [theme=dark] .colab-df-convert {\n",
              "      background-color: #3B4455;\n",
              "      fill: #D2E3FC;\n",
              "    }\n",
              "\n",
              "    [theme=dark] .colab-df-convert:hover {\n",
              "      background-color: #434B5C;\n",
              "      box-shadow: 0px 1px 3px 1px rgba(0, 0, 0, 0.15);\n",
              "      filter: drop-shadow(0px 1px 2px rgba(0, 0, 0, 0.3));\n",
              "      fill: #FFFFFF;\n",
              "    }\n",
              "  </style>\n",
              "\n",
              "      <script>\n",
              "        const buttonEl =\n",
              "          document.querySelector('#df-54c7bfac-80b3-47bf-b29e-ed183313965d button.colab-df-convert');\n",
              "        buttonEl.style.display =\n",
              "          google.colab.kernel.accessAllowed ? 'block' : 'none';\n",
              "\n",
              "        async function convertToInteractive(key) {\n",
              "          const element = document.querySelector('#df-54c7bfac-80b3-47bf-b29e-ed183313965d');\n",
              "          const dataTable =\n",
              "            await google.colab.kernel.invokeFunction('convertToInteractive',\n",
              "                                                     [key], {});\n",
              "          if (!dataTable) return;\n",
              "\n",
              "          const docLinkHtml = 'Like what you see? Visit the ' +\n",
              "            '<a target=\"_blank\" href=https://colab.research.google.com/notebooks/data_table.ipynb>data table notebook</a>'\n",
              "            + ' to learn more about interactive tables.';\n",
              "          element.innerHTML = '';\n",
              "          dataTable['output_type'] = 'display_data';\n",
              "          await google.colab.output.renderOutput(dataTable, element);\n",
              "          const docLink = document.createElement('div');\n",
              "          docLink.innerHTML = docLinkHtml;\n",
              "          element.appendChild(docLink);\n",
              "        }\n",
              "      </script>\n",
              "    </div>\n",
              "  </div>\n",
              "  "
            ]
          },
          "metadata": {},
          "execution_count": 19
        }
      ]
    },
    {
      "cell_type": "code",
      "source": [
        "###########################\n",
        "# Clean Data              #\n",
        "###########################\n",
        "\n",
        "from nltk.stem import RegexpStemmer\n",
        "\n",
        "stopwords = nltk.corpus.stopwords.words('english')\n",
        "\n",
        "#Add Stopwords (asp and amp were relics of links within the page)\n",
        "stopwords.extend(['on',\n",
        "                  'or', \n",
        "                  'to', \n",
        "                  'a', \n",
        "                  'as', \n",
        "                  'of', \n",
        "                  'for',\n",
        "                  'this', \n",
        "                  'by', \n",
        "                  's',\n",
        "                  'oig',\n",
        "                  'hhs',\n",
        "                  'amp',\n",
        "                  'asp'])\n",
        "\n",
        "#Set tokenizer to additionally remove punctuation\n",
        "tokenizer = RegexpTokenizer(r'\\w+')\n",
        "\n",
        "wp_init_srs = [paragraph.lower() for paragraph in workplan_df[\"Summary\"]]\n",
        "\n",
        "tokenized_sums = [[i for i in tokenizer.tokenize(sent) if i not in stopwords] \n",
        "                  for sent in wp_init_srs]\n",
        "\n",
        "# Regex Stemmer (Other Stemmers didn't seem to work well)\n",
        "Reg_stemmer = RegexpStemmer(\"ing$|s$|ies$\")\n",
        "\n",
        "tokenized_stemmed_sums = [[Reg_stemmer.stem(word) for word in sent] for sent in tokenized_sums]\n",
        "\n",
        "# Set new column of tokenized summaries\n",
        "workplan_df[\"summary_tokenized\"] = tokenized_stemmed_sums\n",
        "\n",
        "workplan_df[\"summary_token_num\"] = [len(sent) for sent in tokenized_stemmed_sums]"
      ],
      "metadata": {
        "id": "UyJmuTKXuphI"
      },
      "execution_count": 43,
      "outputs": []
    },
    {
      "cell_type": "code",
      "source": [
        "###############################\n",
        "# LDA Data: Normal LDA        #\n",
        "###############################\n",
        "\n",
        "dictionary = Dictionary(workplan_df[\"summary_tokenized\"])\n",
        "\n",
        "#Filter extreme token values (no tokens below 5, no tokens in over 60% of documents)\n",
        "dictionary.filter_extremes(no_below=5, \n",
        "                           no_above=0.5, \n",
        "                           keep_n=1000)\n",
        "\n",
        "corpus = [dictionary.doc2bow(doc) for doc in workplan_df[\"summary_tokenized\"]]\n",
        "\n",
        "#lda model parameters\n",
        "lda_model = LdaMulticore(corpus=corpus, \n",
        "                         id2word=dictionary, \n",
        "                         iterations=200, \n",
        "                         num_topics=14,\n",
        "                         workers = 8, \n",
        "                         passes=20)\n",
        "\n",
        "#Visualize the model with pyLDAvis\n",
        "lda_model_visualize = pyLDAvis.gensim_models.prepare(lda_model,\n",
        "                                                     corpus = corpus, \n",
        "                                                     dictionary = dictionary)\n",
        "lda_model_visualize"
      ],
      "metadata": {
        "colab": {
          "base_uri": "https://localhost:8080/",
          "height": 881
        },
        "id": "d74W0WTa3dXK",
        "outputId": "ec964ab7-699e-4f3a-89e8-d5c01cf0d248"
      },
      "execution_count": 46,
      "outputs": [
        {
          "output_type": "execute_result",
          "data": {
            "text/plain": [
              "PreparedData(topic_coordinates=              x         y  topics  cluster       Freq\n",
              "topic                                                \n",
              "0      0.110464  0.083938       1        1  14.368228\n",
              "4     -0.157215  0.125774       2        1  13.131548\n",
              "12     0.088336  0.090542       3        1  10.874670\n",
              "3      0.241229 -0.050262       4        1   9.221977\n",
              "7     -0.135444  0.030336       5        1   9.220426\n",
              "13     0.097166  0.038213       6        1   7.816846\n",
              "11    -0.073606  0.045930       7        1   7.788901\n",
              "2      0.114212 -0.079678       8        1   6.264844\n",
              "6      0.063333 -0.069024       9        1   5.636911\n",
              "8      0.067004 -0.069319      10        1   4.100276\n",
              "5     -0.135316  0.136998      11        1   3.453777\n",
              "9     -0.210025 -0.257560      12        1   3.385222\n",
              "10    -0.043102 -0.016503      13        1   2.378012\n",
              "1     -0.027035 -0.009385      14        1   2.358362, topic_info=         Term        Freq       Total Category  logprob  loglift\n",
              "235  medicare  939.000000  939.000000  Default  30.0000  30.0000\n",
              "611    opioid  170.000000  170.000000  Default  29.0000  29.0000\n",
              "161      drug  435.000000  435.000000  Default  28.0000  28.0000\n",
              "168  medicaid  541.000000  541.000000  Default  27.0000  27.0000\n",
              "41      state  729.000000  729.000000  Default  26.0000  26.0000\n",
              "..        ...         ...         ...      ...      ...      ...\n",
              "71     review   12.585350  426.683386  Topic14  -4.4668   0.2237\n",
              "235  medicare   14.418923  939.566162  Topic14  -4.3308  -0.4297\n",
              "59    federal   12.475424  493.443110  Topic14  -4.4756   0.0696\n",
              "300      part   10.212880  354.863560  Topic14  -4.6757   0.1991\n",
              "41      state    9.813440  729.746764  Topic14  -4.7156  -0.5617\n",
              "\n",
              "[795 rows x 6 columns], token_table=      Topic      Freq Term\n",
              "term                      \n",
              "46        3  0.287333  000\n",
              "46        5  0.143667  000\n",
              "46        6  0.023944  000\n",
              "46        8  0.047889  000\n",
              "46       10  0.502833  000\n",
              "...     ...       ...  ...\n",
              "649       2  0.049287    ½\n",
              "649       9  0.246433    ½\n",
              "649      10  0.147860    ½\n",
              "649      12  0.147860    ½\n",
              "649      13  0.345006    ½\n",
              "\n",
              "[2704 rows x 3 columns], R=30, lambda_step=0.01, plot_opts={'xlab': 'PC1', 'ylab': 'PC2'}, topic_order=[1, 5, 13, 4, 8, 14, 12, 3, 7, 9, 6, 10, 11, 2])"
            ],
            "text/html": [
              "\n",
              "<link rel=\"stylesheet\" type=\"text/css\" href=\"https://cdn.jsdelivr.net/gh/bmabey/pyLDAvis@3.3.1/pyLDAvis/js/ldavis.v1.0.0.css\">\n",
              "\n",
              "\n",
              "<div id=\"ldavis_el611398047463651368283132491\"></div>\n",
              "<script type=\"text/javascript\">\n",
              "\n",
              "var ldavis_el611398047463651368283132491_data = {\"mdsDat\": {\"x\": [0.11046359601809538, -0.15721503939549064, 0.08833578311941218, 0.24122884138538492, -0.13544433065051223, 0.09716607104446531, -0.07360631231453742, 0.11421209501261681, 0.06333299858880669, 0.06700371037239986, -0.13531617114034378, -0.2100245159641015, -0.04310202018121061, -0.02703470589498566], \"y\": [0.08393752634596569, 0.12577418367981344, 0.09054152960709447, -0.05026160236973134, 0.030336068900992143, 0.03821340566824248, 0.045929527063935646, -0.07967819376486913, -0.06902410176698111, -0.06931877876264722, 0.13699795555088276, -0.2575599260196817, -0.016502898584437826, -0.009384695548578266], \"topics\": [1, 2, 3, 4, 5, 6, 7, 8, 9, 10, 11, 12, 13, 14], \"cluster\": [1, 1, 1, 1, 1, 1, 1, 1, 1, 1, 1, 1, 1, 1], \"Freq\": [14.368227642128428, 13.131547955334685, 10.874669514200654, 9.221976998013993, 9.220426042617465, 7.8168463840069355, 7.788901086484763, 6.264843500162574, 5.636910905771109, 4.100276466875519, 3.4537771106228896, 3.385222446022081, 2.378011572141763, 2.358362375617141]}, \"tinfo\": {\"Term\": [\"medicare\", \"opioid\", \"drug\", \"medicaid\", \"state\", \"payment\", \"home\", \"covid\", \"nurs\", \"hospital\", \"19\", \"report\", \"claim\", \"abuse\", \"data\", \"care\", \"part\", \"test\", \"price\", \"health\", \"fund\", \"ih\", \"facilit\", \"nih\", \"audit\", \"federal\", \"treatment\", \"amount\", \"mfcu\", \"b\", \"fmap\", \"expand\", \"hurricane\", \"appropriated\", \"hrsa\", \"marketplace\", \"technical\", \"supplemental\", \"assistance\", \"option\", \"guide\", \"tribe\", \"indian\", \"district\", \"columbia\", \"federally\", \"screen\", \"waiver\", \"enhance\", \"seek\", \"native\", \"expansion\", \"adult\", \"mental\", \"allocated\", \"alaska\", \"tribal\", \"served\", \"acquisition\", \"delivered\", \"community\", \"people\", \"health\", \"fund\", \"state\", \"billion\", \"ih\", \"program\", \"million\", \"american\", \"federal\", \"provider\", \"medicaid\", \"center\", \"provide\", \"care\", \"grant\", \"requirement\", \"1\", \"2\", \"expenditure\", \"act\", \"provided\", \"receive\", \"oversight\", \"year\", \"treatment\", \"facilit\", \"children\", \"payment\", \"home\", \"hospice\", \"acute\", \"412\", \"42\", \"inpatient\", \"post\", \"snf\", \"compensation\", \"advantage\", \"423\", \"outlined\", \"discretion\", \"adjusted\", \"diagnose\", \"reduced\", \"hospital\", \"formular\", \"practitioner\", \"stay\", \"prosthetic\", \"dual\", \"cfr\", \"dmepo\", \"full\", \"determined\", \"beneficiary\", \"sponsor\", \"discharge\", \"become\", \"physician\", \"transfer\", \"medicare\", \"payment\", \"paid\", \"prospective\", \"organization\", \"review\", \"claim\", \"part\", \"cost\", \"outpatient\", \"beneficiar\", \"made\", \"cm\", \"care\", \"bill\", \"provided\", \"medical\", \"center\", \"certain\", \"risk\", \"patient\", \"drug\", \"requirement\", \"medicaid\", \"b\", \"related\", \"background\", \"iv\", \"foster\", \"audited\", \"reform\", \"entity\", \"child\", \"material\", \"statement\", \"principle\", \"500\", \"position\", \"check\", \"universit\", \"parent\", \"retain\", \"fulfill\", \"accepted\", \"1990\", \"omb\", \"auditor\", \"criminal\", \"financial\", \"employee\", \"external\", \"completion\", \"title\", \"45\", \"nature\", \"paper\", \"75\", \"children\", \"audit\", \"famil\", \"federal\", \"state\", \"term\", \"requirement\", \"program\", \"care\", \"management\", \"grant\", \"cost\", \"act\", \"work\", \"review\", \"accordance\", \"agency\", \"support\", \"procedure\", \"agenc\", \"provider\", \"fund\", \"conduct\", \"required\", \"based\", \"provide\", \"aspr\", \"nih\", \"disaster\", \"preparednes\", \"defense\", \"shelter\", \"respond\", \"emergenc\", \"foreign\", \"institute\", \"prepar\", \"emerg\", \"research\", \"assistant\", \"infectiou\", \"weaknesse\", \"continu\", \"115\", \"cooperative\", \"application\", \"appropriation\", \"lesson\", \"response\", \"accompany\", \"faced\", \"cdc\", \"grantee\", \"strategic\", \"emergency\", \"obligation\", \"award\", \"unaccompanied\", \"public\", \"department\", \"acf\", \"human\", \"aid\", \"effort\", \"awarded\", \"contract\", \"disease\", \"control\", \"fund\", \"grant\", \"national\", \"health\", \"support\", \"2019\", \"covid\", \"pandemic\", \"19\", \"program\", \"review\", \"federal\", \"office\", \"children\", \"medically\", \"calendar\", \"cy\", \"17\", \"top\", \"pub\", \"les\", \"methodology\", \"1862\", \"supplier\", \"schedule\", \"questionable\", \"orthotic\", \"saving\", \"analysi\", \"therapy\", \"appropriatenes\", \"rather\", \"current\", \"25\", \"cod\", \"show\", \"payer\", \"outside\", \"laboratory\", \"diagnosed\", \"ch\", \"publicly\", \"estimated\", \"investment\", \"necessary\", \"reasonable\", \"cover\", \"trend\", \"performed\", \"private\", \"2014\", \"b\", \"part\", \"medicare\", \"test\", \"documentation\", \"pay\", \"high\", \"beneficiar\", \"payment\", \"rate\", \"1\", \"clinical\", \"drug\", \"cost\", \"use\", \"percent\", \"treatment\", \"accordance\", \"2\", \"cm\", \"requirement\", \"claim\", \"related\", \"provider\", \"act\", \"review\", \"also\", \"system\", \"adverse\", \"harm\", \"daily\", \"orr\", \"critical\", \"event\", \"cannot\", \"best\", \"custody\", \"face\", \"challenge\", \"interview\", \"encounter\", \"strateg\", \"experience\", \"possible\", \"progres\", \"document\", \"technology\", \"delivery\", \"efficient\", \"resettlement\", \"operated\", \"quality\", \"acros\", \"temporary\", \"timely\", \"location\", \"complete\", \"particular\", \"outcome\", \"study\", \"facilit\", \"clinical\", \"care\", \"patient\", \"data\", \"information\", \"extent\", \"identify\", \"staff\", \"children\", \"provider\", \"covid\", \"19\", \"health\", \"system\", \"hospital\", \"also\", \"provide\", \"includ\", \"order\", \"medical\", \"use\", \"medicare\", \"state\", \"cm\", \"beneficiar\", \"rebate\", \"mco\", \"capitation\", \"managed\", \"reduction\", \"calculate\", \"enrollee\", \"manufacturer\", \"administered\", \"pharmac\", \"final\", \"improper\", \"evidence\", \"single\", \"verify\", \"2002\", \"denied\", \"accuracy\", \"source\", \"covered\", \"drug\", \"percentage\", \"calculat\", \"fee\", \"collect\", \"profit\", \"accurate\", \"los\", \"food\", \"medicaid\", \"prescription\", \"error\", \"contract\", \"device\", \"payment\", \"state\", \"action\", \"required\", \"plan\", \"outpatient\", \"program\", \"report\", \"data\", \"cm\", \"federal\", \"amount\", \"care\", \"center\", \"identify\", \"act\", \"medicare\", \"provide\", \"may\", \"review\", \"must\", \"requirement\", \"start\", \"viru\", \"signed\", \"senior\", \"head\", \"cybersecurity\", \"collected\", \"telehealth\", \"laborator\", \"improv\", \"december\", \"test\", \"respiratory\", \"infrastructure\", \"project\", \"involv\", \"covid\", \"president\", \"world\", \"19\", \"coronaviru\", \"network\", \"citizen\", \"october\", \"important\", \"pandemic\", \"february\", \"infection\", \"ser\", \"assess\", \"school\", \"threat\", \"2020\", \"data\", \"audit\", \"security\", \"use\", \"report\", \"control\", \"health\", \"disease\", \"implemented\", \"may\", \"act\", \"related\", \"risk\", \"protect\", \"medicare\", \"cm\", \"federal\", \"program\", \"care\", \"resident\", \"inspection\", \"nurs\", \"hha\", \"purchase\", \"fda\", \"travel\", \"charge\", \"product\", \"home\", \"enable\", \"circular\", \"recently\", \"resid\", \"greater\", \"infection\", \"registered\", \"characteristic\", \"highlighted\", \"experienced\", \"account\", \"interest\", \"assessment\", \"updated\", \"particularly\", \"institution\", \"life\", \"property\", \"entit\", \"congressional\", \"staff\", \"submit\", \"high\", \"describe\", \"end\", \"agency\", \"agenc\", \"report\", \"risk\", \"facility\", \"require\", \"control\", \"drug\", \"prevention\", \"food\", \"annual\", \"cm\", \"facilit\", \"office\", \"program\", \"safety\", \"review\", \"requirement\", \"act\", \"use\", \"opioid\", \"overdose\", \"crisi\", \"prescrib\", \"extreme\", \"misuse\", \"medication\", \"samhsa\", \"assisted\", \"prescriber\", \"disorder\", \"death\", \"doctor\", \"epidemic\", \"pain\", \"000\", \"28\", \"brief\", \"key\", \"address\", \"manag\", \"seriou\", \"practice\", \"nearly\", \"model\", \"occurred\", \"united\", \"substance\", \"complication\", \"opportunit\", \"abuse\", \"level\", \"treatment\", \"ih\", \"number\", \"risk\", \"use\", \"beneficiar\", \"data\", \"patient\", \"provide\", \"state\", \"identify\", \"drug\", \"health\", \"part\", \"information\", \"administration\", \"also\", \"necessity\", \"surgical\", \"injury\", \"positive\", \"modifier\", \"process\", \"waste\", \"supply\", \"billed\", \"affect\", \"separately\", \"severe\", \"diagnosi\", \"body\", \"suppl\", \"partner\", \"manual\", \"complication\", \"respiratory\", \"age\", \"e\", \"unallowable\", \"claim\", \"rule\", \"code\", \"two\", \"function\", \"bill\", \"allowed\", \"assist\", \"integrity\", \"device\", \"procedure\", \"generally\", \"day\", \"treatment\", \"medicare\", \"information\", \"requirement\", \"medicaid\", \"provider\", \"payment\", \"result\", \"must\", \"contractor\", \"inpatient\", \"review\", \"provided\", \"patient\", \"price\", \"average\", \"sale\", \"asp\", \"mechanism\", \"amp\", \"comparison\", \"substitution\", \"substitute\", \"quarter\", \"find\", \"quarterly\", \"mandate\", \"excessive\", \"four\", \"summarize\", \"calculated\", \"lower\", \"survey\", \"limit\", \"calculation\", \"produced\", \"compare\", \"reimbursement\", \"achieve\", \"exceed\", \"authorized\", \"modernization\", \"complaint\", \"offer\", \"basi\", \"amount\", \"congres\", \"manufacturer\", \"previou\", \"secretary\", \"drug\", \"result\", \"report\", \"medicare\", \"cm\", \"b\", \"may\", \"part\", \"security\", \"rate\", \"5\", \"based\", \"act\", \"bidd\", \"competitive\", \"market\", \"component\", \"second\", \"order\", \"share\", \"section\", \"\\u00bd\", \"overpayment\", \"recognized\", \"april\", \"official\", \"assess\", \"june\", \"october\", \"brief\", \"24\", \"non\", \"protocol\", \"alaska\", \"detail\", \"pain\", \"occurred\", \"factor\", \"month\", \"ser\", \"2010\", \"ih\", \"native\", \"implementation\", \"50\", \"period\", \"polic\", \"device\", \"3\", \"rule\", \"procedure\", \"2\", \"act\", \"data\", \"report\", \"medicare\", \"2016\", \"1\", \"center\", \"patient\", \"b\", \"review\", \"million\", \"program\", \"conduct\", \"cm\", \"compliance\", \"mfcu\", \"neglect\", \"adherence\", \"fraud\", \"describ\", \"unit\", \"civil\", \"assesse\", \"performance\", \"incident\", \"case\", \"investigation\", \"abuse\", \"analyze\", \"completed\", \"method\", \"incentive\", \"person\", \"statistical\", \"professional\", \"trend\", \"furnished\", \"potential\", \"occurred\", \"pharmac\", \"evaluate\", \"consolidated\", \"highlighted\", \"vary\", \"standard\", \"criminal\", \"report\", \"guidance\", \"facilit\", \"also\", \"medicaid\", \"identify\", \"policy\", \"regulation\", \"provide\", \"home\", \"result\", \"review\", \"medicare\", \"federal\", \"part\", \"state\"], \"Freq\": [939.0, 170.0, 435.0, 541.0, 729.0, 626.0, 245.0, 248.0, 156.0, 299.0, 257.0, 294.0, 194.0, 127.0, 322.0, 617.0, 354.0, 145.0, 72.0, 667.0, 268.0, 105.0, 178.0, 103.0, 251.0, 493.0, 136.0, 125.0, 53.0, 164.0, 28.33792912722207, 15.662767026459045, 13.719239818344368, 12.735095965917164, 31.686825565526835, 16.611599148934207, 9.523401315724913, 18.306607270728826, 43.02434718608175, 8.680243983582814, 7.686020726332855, 13.758242225715895, 43.83672218534917, 8.24139694257231, 8.241316102123358, 11.690043499076335, 21.545523387481804, 21.494054450107395, 7.842685629842685, 7.828582858060526, 11.264327589836542, 10.527927066344255, 16.01034520060222, 28.23723923880374, 7.567830435340335, 10.24462559955039, 19.41772503985204, 7.78177546080504, 15.632560681783154, 7.571655587737403, 26.669425790315728, 17.20222568747698, 296.11973359013683, 131.32253587402883, 282.8076249282053, 43.17280756133491, 53.23571782325633, 197.31902427886484, 51.60251377930989, 25.041578980736404, 155.2934452933506, 109.089944847028, 149.83872978178704, 82.22714870281797, 75.02289663201732, 135.95194502374065, 55.34099588735676, 81.90466371495445, 53.24738372188978, 43.776959328837044, 25.072738309935524, 58.23888967945181, 38.84481202554238, 32.621683172701346, 31.404990886494254, 31.98351001318238, 32.2153479837859, 32.90702819276729, 33.73948582510332, 33.22085392484879, 29.978188054963635, 57.95929057558029, 31.02395350384255, 7.906707205930782, 73.50291318106282, 85.08458801769622, 23.575794332393894, 43.54842272369345, 7.851166765099439, 25.842558420858325, 6.9267847473603394, 6.8940114756335475, 6.833275818012965, 9.847332023217584, 30.093062724142143, 7.5091384991579435, 227.05101004893652, 11.825888387782479, 13.982652125793914, 31.637698072577955, 7.781705160832852, 14.034989335050978, 68.66519664278414, 17.986435846607822, 17.638649720406953, 13.371156710122191, 75.77067894540211, 24.642775211841, 25.065647245784515, 5.806710428891073, 73.37241399559635, 30.984736117320843, 417.21261355834645, 276.85318652681497, 46.08207446890824, 21.488479411297455, 45.490011565208746, 129.60403675529284, 71.94353827868976, 110.23760981610513, 75.41042230976349, 32.78764186834956, 87.71046782587374, 42.450560390147025, 74.31683095164944, 108.03405928983682, 33.24602579848624, 43.84382759531509, 44.12960217036967, 49.21527113932182, 36.9925606840179, 42.90556561782922, 43.7998646805352, 48.73791646268715, 47.36975509114848, 49.41589616092934, 38.18823773235674, 38.14153832433575, 38.22967183763566, 17.367238839061994, 43.22308672426127, 11.606202917187336, 10.629149610316137, 13.233047632776431, 55.489698918291936, 9.651999231844723, 40.36949701353656, 10.447299792660784, 7.756138519795504, 7.744344026212909, 45.6042942594481, 11.562251249860493, 17.753857961652763, 8.684647201867827, 7.752442150921828, 6.798847225790076, 6.798790747768131, 15.077402153751096, 17.873278385801996, 16.054340151327494, 98.55569202451655, 17.187041003548497, 9.990109028400333, 5.837451862190065, 19.821724254469984, 13.154141952993667, 8.186344555821394, 6.798790747768131, 12.361429379870634, 89.94528812405747, 106.33475826797032, 36.45496295409589, 173.50880450656157, 220.34956739392328, 26.638821529413377, 108.55315849190052, 111.52725347544596, 115.47985842817857, 32.5115286201764, 48.60051921459186, 53.123345102876314, 68.80072152011451, 45.43264813775726, 67.57794410602045, 38.77191967956892, 30.83479498520362, 32.80792763258833, 31.49106018718682, 30.265908342920202, 39.16430309027432, 37.47581261373358, 28.15384211480468, 27.324815350197245, 28.27642766143368, 29.688157004442527, 23.487759777310142, 97.72222776838855, 30.758111172195605, 60.18399538052491, 10.569125704906165, 17.370329568234496, 28.631592539144435, 20.88695989969071, 30.025964870116535, 48.8833330331412, 9.673117669471557, 13.587162245393866, 49.52285897048841, 12.228613153396632, 19.957661057472148, 6.716555970308615, 8.657154367859032, 7.8668110178938, 8.51682290082585, 23.876908195034893, 33.04254461352042, 6.952214850353382, 87.18102766621175, 7.991494887756801, 8.55846933691111, 59.59909334698362, 51.07508624136085, 8.01285093432187, 71.75776926448845, 5.999467063019539, 52.292581454620326, 24.654746039622378, 63.29821644956872, 39.844282303177415, 22.69346411690038, 30.69158543577612, 19.824178532345364, 32.241162533323475, 22.230384244977984, 45.841033836564336, 47.71128589767202, 65.20690799756481, 81.44641978341468, 60.33917819536328, 45.81452811208859, 116.3902482315406, 41.630730615329014, 32.8227378809213, 46.69671653135134, 33.47789944176403, 45.51646742873901, 48.49875456791226, 43.741286344443914, 44.50430876225019, 32.856864849319116, 33.92908745913508, 21.34657082615889, 10.697801379376283, 13.176544747845222, 6.780175604448542, 12.656188524648522, 17.83029049435681, 17.279129192324195, 8.515323696724607, 7.787130461130488, 17.58441253173294, 11.754653619972917, 6.916360230935179, 14.663204556596641, 20.62325304947633, 22.18926202447466, 25.35038308217913, 5.5155028124882595, 8.549877900706756, 18.69370064717949, 10.720557511517201, 6.508084193772561, 6.485247751739608, 8.886426230258607, 6.369046321432219, 31.621172994210788, 6.887238168097585, 11.42082285745096, 7.907576344054866, 7.917119753088624, 6.805096611939998, 34.12717483696672, 20.782747497421646, 26.75690758561625, 15.76337525461067, 18.774307835461904, 13.476694239994119, 23.812323944886185, 70.08338002999972, 135.1872833772198, 251.52381387814347, 53.20738055709817, 22.518233290299627, 32.95037054445884, 27.315766665623407, 72.19695282292282, 118.91166669024254, 36.826612781666135, 45.656442984903514, 21.299767617774013, 59.075230301005156, 41.633657641594546, 41.1774495681857, 29.748258519748415, 30.322602943161595, 28.354437943829158, 28.303670120401407, 33.437124310716904, 34.23612892304185, 28.11584274160111, 26.859823964031726, 27.078548204401695, 26.67088322076544, 26.178720259046262, 24.778889909342837, 23.878443428172965, 24.76079073409434, 20.526866968565866, 7.629561442062615, 52.84956577281604, 29.69462199773814, 30.78235018786663, 7.35617381942046, 7.63513931414319, 12.59366376251246, 13.512203547637432, 43.85316432719562, 14.505398858263582, 13.083953220871331, 12.54614147646798, 7.451529635925741, 6.695844262777534, 10.013464466650486, 7.709205335953668, 18.60700653284839, 13.690368985887837, 6.021386493220286, 11.721785266649855, 9.390590807348023, 43.86418305615176, 11.241678913651123, 13.987673373760394, 9.017456115457243, 9.458190049791089, 13.997670409089036, 4.38295571148358, 13.513583848961996, 32.70877043796726, 70.39965731275194, 21.984943874749895, 159.95616486761057, 65.75240603698347, 83.23072867422502, 47.703998654148194, 37.396659408614795, 48.13490639927323, 21.229406511854013, 44.5704744478932, 51.120440651749504, 42.87783596845759, 42.68215119096882, 68.2804752762028, 32.54776234816667, 42.462564872161316, 32.35676653547164, 32.081961397498624, 27.146589135684874, 20.67509543029405, 24.158522639234487, 25.42320850395439, 30.392770288282946, 29.22998144744834, 22.584508879515806, 22.206993084156128, 63.48577559132515, 56.70412538641784, 12.825890624478848, 62.62814004434663, 9.584721772092006, 9.884356202429457, 15.711267609192872, 56.265353059086735, 14.282568332590834, 12.334336913206414, 12.80332854223588, 40.35298694440373, 7.583229444457422, 11.103282555771795, 6.903008621508023, 4.990412010339713, 8.669435436151995, 15.347978644417353, 14.848417130012068, 33.11776573578004, 201.58332226410144, 8.470040126844928, 5.32626106035985, 17.6971421081958, 18.860134352747306, 6.009723518201959, 10.563950862704925, 5.730091740712143, 25.96916734896368, 216.89759936702407, 29.188737381471352, 15.124936634615164, 37.03896326429306, 21.64918257283343, 121.08383541932666, 127.67285337745491, 18.172351541004907, 27.568039605507213, 34.83885517038423, 20.462660769929027, 58.718848876879804, 39.5302715542988, 36.82139912445125, 34.13482246809167, 40.53156550511213, 24.726853861887417, 43.49601343583117, 31.833995728843618, 27.324505305557853, 33.09552389824245, 36.99779327916929, 27.14196919449039, 25.407480047213884, 29.786452212575956, 23.74255310644041, 25.404756281719738, 20.940607596801904, 8.089707281697953, 6.947540646281499, 14.436433852555487, 17.45525352704166, 23.963474024598295, 14.30782301628053, 33.0257747432038, 12.684101548973391, 9.649288047962148, 7.246147658295778, 81.23656762793394, 6.171628232276332, 7.215332004654913, 9.58726087737503, 7.773824632352972, 128.5045605344239, 8.034011212604547, 5.433328593992138, 126.90017536274947, 23.01224974985234, 16.166999097126222, 6.728035799139845, 5.649142558089545, 11.37881415135624, 43.684608440796005, 4.732054714952089, 16.07141166583742, 13.929209589993988, 4.146520691976869, 6.619672964226631, 8.99602547381484, 27.302797916950237, 85.10697196978204, 66.62197224111736, 34.64300106977081, 42.49108057504978, 43.61568484337837, 30.359250363677088, 57.526253609916566, 22.791252281137975, 12.763240317644803, 24.32955810613004, 30.257879532180112, 21.687384742669728, 21.368434152707987, 13.784901146824875, 29.63259717296401, 18.823795000353385, 20.180257220065755, 18.175441402332144, 15.079643938999181, 56.62165644417573, 31.27125150049055, 127.62337878211184, 30.62268168546625, 15.514257993321257, 65.54326794251926, 12.556023059852807, 28.668870240921112, 29.326254426343844, 149.5494727949861, 5.845317551336867, 10.610660041737166, 7.903888995682487, 5.963572954805086, 5.8915252962943905, 19.678106310767774, 6.780191559244085, 7.381293562244492, 4.701259602373492, 5.5582168204148985, 12.64184667907409, 6.598558929702489, 16.170606557311903, 4.167146997373165, 4.998278939620158, 9.113688778665178, 6.615279519549781, 4.395070014218603, 8.02260243901849, 2.969954898980234, 18.753296371912903, 22.180549492234075, 20.4269618506657, 15.583776369099992, 10.038661562586224, 23.019829786856036, 27.295599627575108, 46.79050828842747, 33.610870352605325, 16.766085221322996, 26.331183572962317, 28.216146319191875, 46.2754982635589, 16.42688687726348, 15.576441632149288, 15.258837641696676, 30.04000618111499, 23.86622403223411, 20.567768551219586, 33.79761155995327, 16.452355357688184, 26.967804097587635, 20.53371868472334, 20.20357135482884, 16.60701547709275, 168.64111150558915, 51.37396232928509, 29.074309725182026, 12.656029394705286, 10.705907413239057, 13.617252219445145, 28.11958274637937, 22.25746554073327, 12.296486407211264, 10.684537047251142, 34.88052947114339, 39.69326543587934, 7.432134154303627, 14.234923674137534, 7.671492900841484, 20.58049383656196, 3.986508016163812, 13.916699093658638, 10.901440272824821, 10.675542594271299, 5.036989495970577, 9.473013422688686, 18.91273397128152, 7.3709435695077925, 6.855640027606555, 4.275176541992907, 23.536173833854544, 16.100083255970258, 2.7643018704756956, 2.735498459087228, 39.311418653914146, 16.147343840316548, 37.79978623722136, 29.135387180575183, 20.394372455989433, 32.840626221134364, 34.6390731723865, 35.967597443420395, 29.54767686297822, 23.130082755428734, 23.365968651126785, 32.18171444089693, 20.425424036978146, 21.936401634069558, 23.73962930078538, 21.01475103074116, 17.64678135104554, 16.758794508795887, 16.899346478680958, 8.967063920531801, 12.904749577407484, 7.031624878674586, 8.869117895669898, 14.927156252819424, 11.759947535928445, 11.237014672574672, 11.703761849706911, 20.584853658313854, 10.637116477447364, 8.075515257283223, 9.244850329918773, 15.23389500221983, 6.927402284257396, 18.349260360719263, 10.106248589210463, 11.509183709161269, 3.2623852932547717, 4.0822235140538465, 4.301057030887008, 41.70302589212012, 4.719809153585806, 64.78985709676591, 12.10365511558401, 18.132100620680465, 15.8058924331094, 5.917061433008534, 25.59708832201055, 4.053768561161044, 7.096037071337545, 16.59798385172461, 17.077882078856238, 33.050322590043834, 11.138983445411116, 13.271185244723963, 25.798246471887552, 55.508390704016385, 18.797249578492288, 26.789029657963418, 30.541120785397837, 23.13395555134741, 29.021709634752277, 15.582257318144785, 14.79036619967733, 11.890969243770739, 12.693340245341822, 13.329562274352988, 12.154296673089048, 12.101042244999908, 71.31417652341837, 35.70899114621551, 26.088860509512408, 20.33379231406807, 15.452278117245333, 14.506488477634061, 13.580158390668108, 12.615215405797668, 10.685670073460047, 29.958938012411355, 13.405517623063682, 19.26067314567353, 13.397301302386454, 11.650552256385389, 17.135401956746758, 8.755181212143084, 13.07408841799963, 23.169614079792908, 31.37656979236917, 15.838059865904931, 6.532125844428942, 4.89463716121395, 17.529534815937776, 37.24451423494898, 6.488956463409945, 13.309758222303403, 11.657749595067072, 3.6521647967777735, 8.662418687977896, 6.432168179242736, 14.132056913761641, 43.0520230092093, 18.79380650907518, 26.371986598241307, 25.02956169649381, 13.256267161688994, 52.710351918504536, 23.18299783324984, 37.438807949337345, 54.586011343861394, 30.459277951169593, 22.324002603988014, 21.57493436124766, 20.425705808662563, 17.213500956393748, 16.13652709119076, 14.982772822740477, 14.9736525309759, 15.47020223763856, 14.248239308367122, 13.271940158943115, 25.492462550109693, 11.705963766378865, 6.439638964309133, 32.40780919488433, 20.957468772014995, 21.794135472418272, 7.235262028216141, 17.356538188667486, 3.908915837941973, 4.8451925659880875, 5.445364473338078, 2.9423950355471695, 3.598260603684261, 3.329099534436875, 8.692558387055923, 3.8486144874748653, 11.698665770506421, 2.950300511614748, 3.3442569500639223, 1.9817302032926445, 2.8653788456405804, 2.6002383124072534, 4.126745731242804, 8.580788720894693, 7.154489032579277, 3.9768326898134148, 22.611025231813958, 3.3200238678028087, 6.283435505340277, 6.2239117089391165, 8.569292138904409, 12.252442760928783, 8.98509367838172, 10.88132213772479, 6.370436652439852, 13.437388843821175, 13.863162218301742, 20.685010945571385, 20.06442091100191, 18.621803393810797, 30.08246043078609, 8.232033852001255, 13.21059726682844, 14.068149347324718, 12.348333548325668, 10.875840664587486, 13.098282643846668, 9.422051275277438, 11.868245629468811, 8.978127082124413, 9.595342398252804, 8.686607602662402, 52.29409209279323, 35.25419973891077, 7.5950182476772365, 39.873283274029006, 5.626476872379359, 10.32584001368734, 4.931021388148757, 4.4488237108417525, 24.98354420363486, 8.96010021420672, 17.595029875157916, 9.523349137286187, 56.28263177185852, 14.813237538166588, 3.7575140031655025, 5.180497262470557, 11.196187201065268, 3.683555002949245, 4.819935908856234, 6.581030760251921, 8.014188485523105, 5.132048809755059, 15.752093255692392, 2.8395476714860397, 4.756770166268831, 9.543906799766946, 4.192385728591784, 2.4185521896139957, 1.9357969618809894, 11.33801884325476, 4.2257940990834815, 39.641950626430145, 8.898801818995741, 19.463981771983526, 19.70818120341797, 30.733434926602797, 15.803548142787369, 9.029267087649375, 10.385737005264634, 15.059253792957156, 13.53920955274105, 9.800200354766975, 12.58534973221802, 14.41892256658854, 12.475423753674127, 10.212879531863804, 9.813439689459289], \"Total\": [939.0, 170.0, 435.0, 541.0, 729.0, 626.0, 245.0, 248.0, 156.0, 299.0, 257.0, 294.0, 194.0, 127.0, 322.0, 617.0, 354.0, 145.0, 72.0, 667.0, 268.0, 105.0, 178.0, 103.0, 251.0, 493.0, 136.0, 125.0, 53.0, 164.0, 29.265047967847416, 16.5847004819684, 14.633978185835952, 13.658218711396295, 35.235302269410454, 18.58206789704574, 10.72919410431505, 21.464880032708557, 50.73760833013494, 10.749480697053421, 9.740234947134411, 17.51641235116415, 56.43697498522979, 10.709440053002995, 10.709438102420135, 15.564644990746444, 29.334685611272185, 29.28216323486563, 10.713934861082471, 10.741069763357135, 15.558612174583637, 14.655660905095361, 22.398521114126073, 39.95062286316134, 10.732848493520885, 14.582689808063016, 28.414873214106944, 11.696332771462597, 23.581326049439816, 11.75294612447458, 42.03747538707839, 27.476082263787706, 667.5608519479, 268.74236138371793, 729.7467643803648, 80.17054532158849, 105.80305567367688, 544.3775941528579, 111.4818966580788, 44.84036768801997, 493.4431103162233, 310.3848018525164, 541.1512380514338, 259.2545123361151, 249.0579768645277, 617.0859840303619, 177.9995092156327, 380.39179086438463, 188.4795490479801, 146.42776288946104, 48.829407143627876, 337.9385895931875, 145.63804755163696, 107.91820901076916, 102.51681381724134, 119.40409087916666, 136.2373808596171, 178.09147513969037, 205.22287576251364, 626.5325797273139, 245.23973627803093, 59.761364838993025, 34.28858534921142, 8.816356542117658, 84.1339392823008, 101.08866481034131, 28.40039139369425, 53.008350515132605, 9.766201566829144, 32.39828068373078, 8.81326706279276, 8.82793185033929, 8.799125347644571, 12.724248656741112, 39.069542714546614, 9.771977311399992, 299.3927049306267, 15.709836111499044, 18.651090211310386, 42.25736718836195, 10.800664227491172, 19.632177907495354, 96.57997605808738, 25.551185171094495, 25.5192032932805, 19.52415938133666, 110.86597245220224, 36.294730720568204, 37.231107219266725, 8.803824731372236, 113.84271850146911, 48.76517093773394, 939.5661622665737, 626.5325797273139, 80.50038408499908, 34.13062538592769, 103.89641152865788, 426.68338583105754, 194.17473880379217, 354.8635596480421, 212.75398671160022, 68.86697461882125, 295.03883231154816, 109.6697012580404, 285.0098838799258, 617.0859840303619, 81.00789946579037, 145.63804755163696, 180.47960806771516, 259.2545123361151, 112.42376148077666, 194.6884270680698, 216.07374280420805, 435.8075049050289, 380.39179086438463, 541.1512380514338, 164.0914294115406, 189.3600908537373, 39.441387731816064, 18.284557655515886, 46.29330850339865, 12.51554205012977, 11.55435670930763, 14.444930220509246, 60.62098651874014, 10.592254693745273, 44.42789534022627, 11.555954759962201, 8.669695170411837, 8.669708336410263, 52.06690791819015, 13.491126102653752, 21.232157549149605, 10.60840646249593, 9.66750733999114, 8.683561166583257, 8.68798975980596, 19.284946791146034, 23.303478692310396, 21.121640955066063, 131.92097507383076, 25.138806892542974, 14.645832967872005, 8.7294573594328, 29.961279850997055, 20.301738467074756, 12.657835200965339, 10.70137655773067, 20.394078388951204, 205.22287576251364, 251.31620594829656, 72.67962363112208, 493.4431103162233, 729.7467643803648, 55.336270951597854, 380.39179086438463, 544.3775941528579, 617.0859840303619, 90.59570694481089, 177.9995092156327, 212.75398671160022, 337.9385895931875, 177.06559150635684, 426.68338583105754, 146.1024355476012, 96.44250774261718, 133.42943206000737, 125.10985061960696, 133.60673474451855, 310.3848018525164, 268.74236138371793, 118.04156784076919, 110.3723881046267, 130.61077213158376, 249.0579768645277, 24.419699210345104, 103.46162306836099, 33.206572020684455, 65.43896715519611, 11.72719245625059, 19.515552139205575, 33.22418722538528, 24.394478713026036, 36.086387117800314, 58.75781558686425, 11.705047907368323, 16.689466715469813, 62.422322928582346, 15.629923509732285, 25.53714277708859, 8.774124108421118, 11.70228214955278, 10.782494628591527, 11.715177206581162, 33.22531363082749, 46.023825440269974, 9.797369255444739, 127.61421634486926, 11.731020788350843, 12.743775447644788, 91.53167386078601, 78.98032762592283, 12.670876060918228, 114.60477707496017, 9.747081196984235, 88.54890058520726, 41.252279204941885, 121.5074150664548, 72.75759097908791, 39.820609558929355, 57.81139380390301, 34.44359270886127, 66.45613491731204, 41.00032199139073, 109.06328956787165, 115.3238186295546, 179.61997921856545, 268.74236138371793, 177.9995092156327, 120.2232127574649, 667.5608519479, 133.42943206000737, 86.43539282097065, 248.25651566654932, 99.66418712597466, 257.80900598143444, 544.3775941528579, 426.68338583105754, 493.4431103162233, 125.9208487815662, 205.22287576251364, 24.493836805131213, 12.735921888809834, 15.740286527107084, 8.816055068335702, 16.63193732329807, 23.5439427803594, 23.565245309177733, 11.75312826049606, 10.803057171405765, 24.55583593599906, 16.65629608189683, 9.81970688336427, 22.55897436145244, 32.193450079614436, 35.16235568221682, 40.33922936208844, 8.839141389180371, 13.710239743118274, 30.362439461534997, 17.631785651573058, 10.776410400559607, 10.763304007559391, 14.75355758892235, 10.710770121646108, 53.478629112220595, 11.718173848028881, 19.58687390751665, 13.752402935029115, 13.772551162647837, 11.838320035149305, 61.91949804696281, 37.38675952755671, 49.088117698801184, 28.239000230567413, 35.204067355638784, 24.47322919823431, 46.48658888943432, 164.0914294115406, 354.8635596480421, 939.5661622665737, 145.26105633461748, 48.00472699655883, 89.2330340095167, 68.61965913504716, 295.03883231154816, 626.5325797273139, 126.93479718054385, 188.4795490479801, 52.152237718459375, 435.8075049050289, 212.75398671160022, 241.22810361037463, 114.01632603988226, 136.2373808596171, 146.1024355476012, 146.42776288946104, 285.0098838799258, 380.39179086438463, 194.17473880379217, 189.3600908537373, 310.3848018525164, 337.9385895931875, 426.68338583105754, 218.9946763303022, 157.1427199145891, 26.73867999305046, 24.698754624195594, 9.885740160128769, 71.10336560613274, 42.364288128840265, 44.41967941646373, 10.850818156131163, 11.847281022812199, 19.62496237281817, 21.652533506014205, 70.90350047821175, 23.662839601380032, 21.698156861296212, 21.634057510420075, 12.849704344169195, 11.875476185647937, 17.905801331027654, 13.841288849177017, 33.43240982105351, 24.620551730534633, 10.927403701533596, 21.660216090935652, 17.69477008766016, 82.8486992662222, 21.622750848522966, 27.48170881173081, 17.761837404454756, 18.671738734252926, 27.636000901445858, 8.866540277055588, 29.26203856137018, 75.73685548509152, 178.09147513969037, 52.152237718459375, 617.0859840303619, 216.07374280420805, 322.1402903492574, 158.52518431954113, 119.5929893489188, 177.6476781119754, 55.78912213130452, 205.22287576251364, 310.3848018525164, 248.25651566654932, 257.80900598143444, 667.5608519479, 157.1427199145891, 299.3927049306267, 218.9946763303022, 249.0579768645277, 158.69733889191932, 81.07775225344842, 180.47960806771516, 241.22810361037463, 939.5661622665737, 729.7467643803648, 285.0098838799258, 295.03883231154816, 64.42681578552181, 58.45957841529825, 13.862649505384342, 80.07834660095274, 12.84675669652548, 13.830293329231473, 22.72376536677558, 84.51740233064625, 22.598868062305844, 19.59395845244879, 20.65197146353216, 67.0150809311085, 12.785593874555275, 18.76742373944188, 11.835564114144592, 8.82200849486646, 15.7757041901009, 29.742890906059046, 31.370502376873752, 70.10507110867056, 435.8075049050289, 18.666941172979353, 11.81723016769797, 39.396873567944496, 42.275896374798684, 13.727688318027798, 24.635458250183596, 13.840256186221163, 64.70025164980879, 541.1512380514338, 76.5693967044174, 38.35115629401582, 109.06328956787165, 59.16787888578928, 626.5325797273139, 729.7467643803648, 53.96081830468979, 110.3723881046267, 168.48656567619815, 68.86697461882125, 544.3775941528579, 294.1212235640023, 322.1402903492574, 285.0098838799258, 493.4431103162233, 125.8876009362478, 617.0859840303619, 259.2545123361151, 177.6476781119754, 337.9385895931875, 939.5661622665737, 249.0579768645277, 184.99861460232307, 426.68338583105754, 136.89250927838705, 380.39179086438463, 24.307988034939367, 10.115733718663213, 9.070137950906519, 19.19221515922004, 23.250705143613974, 35.24489596548666, 23.074818716075093, 57.34631760555805, 22.062403871366875, 17.01388602582215, 12.94817264779521, 145.26105633461748, 11.093847801197242, 13.013359801100398, 17.916453113819475, 14.990727605865047, 248.25651566654932, 15.973043467605157, 10.883397292662682, 257.80900598143444, 46.89712950721919, 33.11074024948721, 14.023282482001225, 11.928558435736498, 25.917235810012894, 99.66418712597466, 10.946079063721008, 37.61755560189506, 32.73178624885808, 9.881456193830347, 15.799797754347157, 21.900287403305295, 76.13048689241988, 322.1402903492574, 251.31620594829656, 128.99471229331274, 241.22810361037463, 294.1212235640023, 179.61997921856545, 667.5608519479, 115.3238186295546, 42.45143599499267, 184.99861460232307, 337.9385895931875, 189.3600908537373, 194.6884270680698, 51.282803515414074, 939.5661622665737, 285.0098838799258, 493.4431103162233, 544.3775941528579, 617.0859840303619, 58.05269275901674, 32.898266998654485, 156.04418445239244, 40.7342065081924, 21.38754007582075, 90.37146433743887, 17.519936335371558, 45.62842295945067, 47.78021172280016, 245.23973627803093, 9.7562539270418, 18.441200678517756, 13.754249556536102, 10.713206578752636, 10.652788554782578, 37.61755560189506, 13.583660896849505, 16.622723734206488, 10.648643072046944, 12.74175805215532, 30.163623185658636, 16.49026674005602, 41.083399696285106, 10.727640650367675, 13.787441968248078, 25.15601681820983, 18.453199655238045, 12.657549396758865, 23.427018820315766, 8.785677372884626, 55.78912213130452, 67.6445315143138, 68.61965913504716, 50.88554407441016, 31.402839879110495, 96.44250774261718, 133.60673474451855, 294.1212235640023, 194.6884270680698, 69.30786283597533, 148.9306590125145, 179.61997921856545, 435.8075049050289, 69.31449051923181, 64.70025164980879, 62.35469259807926, 285.0098838799258, 178.09147513969037, 125.9208487815662, 544.3775941528579, 74.43820307158718, 426.68338583105754, 380.39179086438463, 337.9385895931875, 241.22810361037463, 170.6704091846955, 52.3660705445124, 31.027934812006986, 13.582268535489192, 11.643701521289927, 15.52733171498989, 32.97657077896116, 28.155799855576177, 16.526891400985228, 14.526034666372237, 49.54811423968892, 61.41836998459324, 11.678475713508057, 23.338157352189913, 12.619780896194857, 41.763370202713716, 8.762584317907383, 31.169689274838476, 24.424526187339243, 24.518235993448254, 11.686234021791583, 22.406641970122703, 45.76721362487583, 19.499740017713517, 18.570345321691782, 11.621644353875645, 64.46454770862732, 45.76965938169667, 8.836364199817034, 8.753672777607356, 127.0791120229663, 53.797635656602985, 136.2373808596171, 105.80305567367688, 87.08867642515578, 194.6884270680698, 241.22810361037463, 295.03883231154816, 322.1402903492574, 216.07374280420805, 249.0579768645277, 729.7467643803648, 177.6476781119754, 435.8075049050289, 667.5608519479, 354.8635596480421, 158.52518431954113, 116.43771491672774, 218.9946763303022, 9.956451093130106, 15.90568320561594, 8.923287590848844, 11.883435529440503, 21.821225732513152, 18.827972163197792, 19.756866910819674, 20.7321141576203, 38.552198596249546, 19.922291734599867, 15.818447547578431, 20.88662381398052, 36.766822150692676, 16.786917029711283, 47.37835728143229, 26.554913968565284, 30.57675014263488, 8.836364199817034, 11.093847801197242, 11.759903038491528, 114.84901926236509, 13.730987052251516, 194.17473880379217, 36.64600904060195, 55.29307977848584, 49.165324563942114, 18.65773384740817, 81.00789946579037, 12.965350984453421, 23.553388259149877, 56.449197293054134, 59.16787888578928, 125.10985061960696, 42.20103390050328, 53.99514734632687, 136.2373808596171, 939.5661622665737, 158.52518431954113, 380.39179086438463, 541.1512380514338, 310.3848018525164, 626.5325797273139, 107.3672731651346, 136.89250927838705, 60.51921245635499, 101.08866481034131, 426.68338583105754, 145.63804755163696, 216.07374280420805, 72.4163523331519, 36.696497291362796, 27.041778329564746, 21.249696784386373, 16.42361775192334, 15.458767168843913, 14.492396830784003, 13.527034797488328, 12.547054770966371, 35.73648196419309, 17.415660322214496, 25.244076248664125, 18.395424344601775, 16.448700556013705, 24.225750547573934, 12.607155031228483, 20.365984776184064, 36.895402473380734, 51.15663152368541, 30.123218616098345, 12.62360292031677, 9.701580460371204, 36.026275791267366, 77.82259080675041, 14.559777967356336, 31.169719773456208, 28.120552457009747, 9.721230884657137, 23.185863319544048, 17.531166120497343, 38.987911173044324, 125.8876009362478, 56.913614099464894, 84.51740233064625, 85.70514939511362, 39.874964244927725, 435.8075049050289, 107.3672731651346, 294.1212235640023, 939.5661622665737, 285.0098838799258, 164.0914294115406, 184.99861460232307, 354.8635596480421, 128.99471229331274, 126.93479718054385, 74.51771141483998, 130.61077213158376, 337.9385895931875, 15.38950975035481, 16.382392679931403, 51.19112561027493, 26.127669431154967, 15.520376342200734, 81.07775225344842, 52.49306888631102, 61.00415451607574, 20.289476371448455, 50.67791251704433, 11.648261092402258, 14.536400100044172, 17.711799201284776, 9.881456193830347, 12.702440748384339, 11.928558435736498, 31.169689274838476, 15.630264597824699, 48.89179557671462, 12.568411497365895, 14.582689808063016, 8.714157732281944, 12.619780896194857, 11.621644353875645, 18.62106338861992, 39.10293021065655, 32.73178624885808, 18.543952692510143, 105.80305567367688, 15.558612174583637, 30.29339071360178, 32.88185657261726, 49.61182679036569, 81.5377575083443, 59.16787888578928, 78.1343552076374, 36.64600904060195, 125.10985061960696, 146.42776288946104, 337.9385895931875, 322.1402903492574, 294.1212235640023, 939.5661622665737, 63.16048404949914, 188.4795490479801, 259.2545123361151, 216.07374280420805, 164.0914294115406, 426.68338583105754, 111.4818966580788, 544.3775941528579, 118.04156784076919, 285.0098838799258, 97.20233698026686, 53.26678069885333, 39.12292258993172, 9.560653362485525, 53.91844959670127, 8.62681703862341, 17.29959210281804, 9.652787102696497, 8.720194104043612, 49.466103845716574, 19.479497478949774, 38.803469129430745, 21.3054253150024, 127.0791120229663, 38.72324620376318, 10.610836690990853, 15.606718329025302, 34.88933716615609, 11.72879010522797, 15.56919821584819, 21.642240091796097, 28.239000230567413, 20.456156878181982, 63.40117693002811, 11.621644353875645, 19.59395845244879, 39.56242116654374, 17.399910720774955, 10.648643072046944, 8.725696088085515, 54.81796516061687, 21.121640955066063, 294.1212235640023, 52.91167677793732, 178.09147513969037, 218.9946763303022, 541.1512380514338, 177.6476781119754, 62.229502746778074, 101.14909563385595, 249.0579768645277, 245.23973627803093, 107.3672731651346, 426.68338583105754, 939.5661622665737, 493.4431103162233, 354.8635596480421, 729.7467643803648], \"Category\": [\"Default\", \"Default\", \"Default\", \"Default\", \"Default\", \"Default\", \"Default\", \"Default\", \"Default\", \"Default\", \"Default\", \"Default\", \"Default\", \"Default\", \"Default\", \"Default\", \"Default\", \"Default\", \"Default\", \"Default\", \"Default\", \"Default\", \"Default\", \"Default\", \"Default\", \"Default\", \"Default\", \"Default\", \"Default\", \"Default\", \"Topic1\", \"Topic1\", \"Topic1\", \"Topic1\", \"Topic1\", \"Topic1\", \"Topic1\", \"Topic1\", \"Topic1\", \"Topic1\", \"Topic1\", \"Topic1\", \"Topic1\", \"Topic1\", \"Topic1\", \"Topic1\", \"Topic1\", \"Topic1\", \"Topic1\", \"Topic1\", \"Topic1\", \"Topic1\", \"Topic1\", \"Topic1\", \"Topic1\", \"Topic1\", \"Topic1\", \"Topic1\", \"Topic1\", \"Topic1\", \"Topic1\", \"Topic1\", \"Topic1\", \"Topic1\", \"Topic1\", \"Topic1\", \"Topic1\", \"Topic1\", \"Topic1\", \"Topic1\", \"Topic1\", \"Topic1\", \"Topic1\", \"Topic1\", \"Topic1\", \"Topic1\", \"Topic1\", \"Topic1\", \"Topic1\", \"Topic1\", \"Topic1\", \"Topic1\", \"Topic1\", \"Topic1\", \"Topic1\", \"Topic1\", \"Topic1\", \"Topic1\", \"Topic1\", \"Topic1\", \"Topic1\", \"Topic2\", \"Topic2\", \"Topic2\", \"Topic2\", \"Topic2\", \"Topic2\", \"Topic2\", \"Topic2\", \"Topic2\", \"Topic2\", \"Topic2\", \"Topic2\", \"Topic2\", \"Topic2\", \"Topic2\", \"Topic2\", \"Topic2\", \"Topic2\", \"Topic2\", \"Topic2\", \"Topic2\", \"Topic2\", \"Topic2\", \"Topic2\", \"Topic2\", \"Topic2\", \"Topic2\", \"Topic2\", \"Topic2\", \"Topic2\", \"Topic2\", \"Topic2\", \"Topic2\", \"Topic2\", \"Topic2\", \"Topic2\", \"Topic2\", \"Topic2\", \"Topic2\", \"Topic2\", \"Topic2\", \"Topic2\", \"Topic2\", \"Topic2\", \"Topic2\", \"Topic2\", \"Topic2\", \"Topic2\", \"Topic2\", \"Topic2\", \"Topic2\", \"Topic2\", \"Topic2\", \"Topic2\", \"Topic2\", \"Topic2\", \"Topic2\", \"Topic3\", \"Topic3\", \"Topic3\", \"Topic3\", \"Topic3\", \"Topic3\", \"Topic3\", \"Topic3\", \"Topic3\", \"Topic3\", \"Topic3\", \"Topic3\", \"Topic3\", \"Topic3\", \"Topic3\", \"Topic3\", \"Topic3\", \"Topic3\", \"Topic3\", \"Topic3\", \"Topic3\", \"Topic3\", \"Topic3\", \"Topic3\", \"Topic3\", \"Topic3\", \"Topic3\", \"Topic3\", \"Topic3\", \"Topic3\", \"Topic3\", \"Topic3\", \"Topic3\", \"Topic3\", \"Topic3\", \"Topic3\", \"Topic3\", \"Topic3\", \"Topic3\", \"Topic3\", \"Topic3\", \"Topic3\", \"Topic3\", \"Topic3\", \"Topic3\", \"Topic3\", \"Topic3\", \"Topic3\", \"Topic3\", \"Topic3\", \"Topic3\", \"Topic3\", \"Topic3\", \"Topic3\", \"Topic3\", \"Topic3\", \"Topic3\", \"Topic4\", \"Topic4\", \"Topic4\", \"Topic4\", \"Topic4\", \"Topic4\", \"Topic4\", \"Topic4\", \"Topic4\", \"Topic4\", \"Topic4\", \"Topic4\", \"Topic4\", \"Topic4\", \"Topic4\", \"Topic4\", \"Topic4\", \"Topic4\", \"Topic4\", \"Topic4\", \"Topic4\", \"Topic4\", \"Topic4\", \"Topic4\", \"Topic4\", \"Topic4\", \"Topic4\", \"Topic4\", \"Topic4\", \"Topic4\", \"Topic4\", \"Topic4\", \"Topic4\", \"Topic4\", \"Topic4\", \"Topic4\", \"Topic4\", \"Topic4\", \"Topic4\", \"Topic4\", \"Topic4\", \"Topic4\", \"Topic4\", \"Topic4\", \"Topic4\", \"Topic4\", \"Topic4\", \"Topic4\", \"Topic4\", \"Topic4\", \"Topic4\", \"Topic4\", \"Topic4\", \"Topic4\", \"Topic4\", \"Topic4\", \"Topic5\", \"Topic5\", \"Topic5\", \"Topic5\", \"Topic5\", \"Topic5\", \"Topic5\", \"Topic5\", \"Topic5\", \"Topic5\", \"Topic5\", \"Topic5\", \"Topic5\", \"Topic5\", \"Topic5\", \"Topic5\", \"Topic5\", \"Topic5\", \"Topic5\", \"Topic5\", \"Topic5\", \"Topic5\", \"Topic5\", \"Topic5\", \"Topic5\", \"Topic5\", \"Topic5\", \"Topic5\", \"Topic5\", \"Topic5\", \"Topic5\", \"Topic5\", \"Topic5\", \"Topic5\", \"Topic5\", \"Topic5\", \"Topic5\", \"Topic5\", \"Topic5\", \"Topic5\", \"Topic5\", \"Topic5\", \"Topic5\", \"Topic5\", \"Topic5\", \"Topic5\", \"Topic5\", \"Topic5\", \"Topic5\", \"Topic5\", \"Topic5\", \"Topic5\", \"Topic5\", \"Topic5\", \"Topic5\", \"Topic5\", \"Topic5\", \"Topic5\", \"Topic5\", \"Topic5\", \"Topic5\", \"Topic5\", \"Topic5\", \"Topic5\", \"Topic5\", \"Topic6\", \"Topic6\", \"Topic6\", \"Topic6\", \"Topic6\", \"Topic6\", \"Topic6\", \"Topic6\", \"Topic6\", \"Topic6\", \"Topic6\", \"Topic6\", \"Topic6\", \"Topic6\", \"Topic6\", \"Topic6\", \"Topic6\", \"Topic6\", \"Topic6\", \"Topic6\", \"Topic6\", \"Topic6\", \"Topic6\", \"Topic6\", \"Topic6\", \"Topic6\", \"Topic6\", \"Topic6\", \"Topic6\", \"Topic6\", \"Topic6\", \"Topic6\", \"Topic6\", \"Topic6\", \"Topic6\", \"Topic6\", \"Topic6\", \"Topic6\", \"Topic6\", \"Topic6\", \"Topic6\", \"Topic6\", \"Topic6\", \"Topic6\", \"Topic6\", \"Topic6\", \"Topic6\", \"Topic6\", \"Topic6\", \"Topic6\", \"Topic6\", \"Topic6\", \"Topic6\", \"Topic6\", \"Topic6\", \"Topic6\", \"Topic6\", \"Topic6\", \"Topic7\", \"Topic7\", \"Topic7\", \"Topic7\", \"Topic7\", \"Topic7\", \"Topic7\", \"Topic7\", \"Topic7\", \"Topic7\", \"Topic7\", \"Topic7\", \"Topic7\", \"Topic7\", \"Topic7\", \"Topic7\", \"Topic7\", \"Topic7\", \"Topic7\", \"Topic7\", \"Topic7\", \"Topic7\", \"Topic7\", \"Topic7\", \"Topic7\", \"Topic7\", \"Topic7\", \"Topic7\", \"Topic7\", \"Topic7\", \"Topic7\", \"Topic7\", \"Topic7\", \"Topic7\", \"Topic7\", \"Topic7\", \"Topic7\", \"Topic7\", \"Topic7\", \"Topic7\", \"Topic7\", \"Topic7\", \"Topic7\", \"Topic7\", \"Topic7\", \"Topic7\", \"Topic7\", \"Topic7\", \"Topic7\", \"Topic7\", \"Topic7\", \"Topic7\", \"Topic7\", \"Topic7\", \"Topic7\", \"Topic7\", \"Topic8\", \"Topic8\", \"Topic8\", \"Topic8\", \"Topic8\", \"Topic8\", \"Topic8\", \"Topic8\", \"Topic8\", \"Topic8\", \"Topic8\", \"Topic8\", \"Topic8\", \"Topic8\", \"Topic8\", \"Topic8\", \"Topic8\", \"Topic8\", \"Topic8\", \"Topic8\", \"Topic8\", \"Topic8\", \"Topic8\", \"Topic8\", \"Topic8\", \"Topic8\", \"Topic8\", \"Topic8\", \"Topic8\", \"Topic8\", \"Topic8\", \"Topic8\", \"Topic8\", \"Topic8\", \"Topic8\", \"Topic8\", \"Topic8\", \"Topic8\", \"Topic8\", \"Topic8\", \"Topic8\", \"Topic8\", \"Topic8\", \"Topic8\", \"Topic8\", \"Topic8\", \"Topic8\", \"Topic8\", \"Topic8\", \"Topic8\", \"Topic8\", \"Topic8\", \"Topic9\", \"Topic9\", \"Topic9\", \"Topic9\", \"Topic9\", \"Topic9\", \"Topic9\", \"Topic9\", \"Topic9\", \"Topic9\", \"Topic9\", \"Topic9\", \"Topic9\", \"Topic9\", \"Topic9\", \"Topic9\", \"Topic9\", \"Topic9\", \"Topic9\", \"Topic9\", \"Topic9\", \"Topic9\", \"Topic9\", \"Topic9\", \"Topic9\", \"Topic9\", \"Topic9\", \"Topic9\", \"Topic9\", \"Topic9\", \"Topic9\", \"Topic9\", \"Topic9\", \"Topic9\", \"Topic9\", \"Topic9\", \"Topic9\", \"Topic9\", \"Topic9\", \"Topic9\", \"Topic9\", \"Topic9\", \"Topic9\", \"Topic9\", \"Topic9\", \"Topic9\", \"Topic9\", \"Topic9\", \"Topic9\", \"Topic9\", \"Topic9\", \"Topic9\", \"Topic9\", \"Topic9\", \"Topic9\", \"Topic10\", \"Topic10\", \"Topic10\", \"Topic10\", \"Topic10\", \"Topic10\", \"Topic10\", \"Topic10\", \"Topic10\", \"Topic10\", \"Topic10\", \"Topic10\", \"Topic10\", \"Topic10\", \"Topic10\", \"Topic10\", \"Topic10\", \"Topic10\", \"Topic10\", \"Topic10\", \"Topic10\", \"Topic10\", \"Topic10\", \"Topic10\", \"Topic10\", \"Topic10\", \"Topic10\", \"Topic10\", \"Topic10\", \"Topic10\", \"Topic10\", \"Topic10\", \"Topic10\", \"Topic10\", \"Topic10\", \"Topic10\", \"Topic10\", \"Topic10\", \"Topic10\", \"Topic10\", \"Topic10\", \"Topic10\", \"Topic10\", \"Topic10\", \"Topic10\", \"Topic10\", \"Topic10\", \"Topic10\", \"Topic10\", \"Topic11\", \"Topic11\", \"Topic11\", \"Topic11\", \"Topic11\", \"Topic11\", \"Topic11\", \"Topic11\", \"Topic11\", \"Topic11\", \"Topic11\", \"Topic11\", \"Topic11\", \"Topic11\", \"Topic11\", \"Topic11\", \"Topic11\", \"Topic11\", \"Topic11\", \"Topic11\", \"Topic11\", \"Topic11\", \"Topic11\", \"Topic11\", \"Topic11\", \"Topic11\", \"Topic11\", \"Topic11\", \"Topic11\", \"Topic11\", \"Topic11\", \"Topic11\", \"Topic11\", \"Topic11\", \"Topic11\", \"Topic11\", \"Topic11\", \"Topic11\", \"Topic11\", \"Topic11\", \"Topic11\", \"Topic11\", \"Topic11\", \"Topic11\", \"Topic11\", \"Topic11\", \"Topic11\", \"Topic11\", \"Topic11\", \"Topic12\", \"Topic12\", \"Topic12\", \"Topic12\", \"Topic12\", \"Topic12\", \"Topic12\", \"Topic12\", \"Topic12\", \"Topic12\", \"Topic12\", \"Topic12\", \"Topic12\", \"Topic12\", \"Topic12\", \"Topic12\", \"Topic12\", \"Topic12\", \"Topic12\", \"Topic12\", \"Topic12\", \"Topic12\", \"Topic12\", \"Topic12\", \"Topic12\", \"Topic12\", \"Topic12\", \"Topic12\", \"Topic12\", \"Topic12\", \"Topic12\", \"Topic12\", \"Topic12\", \"Topic12\", \"Topic12\", \"Topic12\", \"Topic12\", \"Topic12\", \"Topic12\", \"Topic12\", \"Topic12\", \"Topic12\", \"Topic12\", \"Topic12\", \"Topic12\", \"Topic12\", \"Topic12\", \"Topic12\", \"Topic12\", \"Topic13\", \"Topic13\", \"Topic13\", \"Topic13\", \"Topic13\", \"Topic13\", \"Topic13\", \"Topic13\", \"Topic13\", \"Topic13\", \"Topic13\", \"Topic13\", \"Topic13\", \"Topic13\", \"Topic13\", \"Topic13\", \"Topic13\", \"Topic13\", \"Topic13\", \"Topic13\", \"Topic13\", \"Topic13\", \"Topic13\", \"Topic13\", \"Topic13\", \"Topic13\", \"Topic13\", \"Topic13\", \"Topic13\", \"Topic13\", \"Topic13\", \"Topic13\", \"Topic13\", \"Topic13\", \"Topic13\", \"Topic13\", \"Topic13\", \"Topic13\", \"Topic13\", \"Topic13\", \"Topic13\", \"Topic13\", \"Topic13\", \"Topic13\", \"Topic13\", \"Topic13\", \"Topic13\", \"Topic13\", \"Topic13\", \"Topic13\", \"Topic13\", \"Topic13\", \"Topic13\", \"Topic13\", \"Topic14\", \"Topic14\", \"Topic14\", \"Topic14\", \"Topic14\", \"Topic14\", \"Topic14\", \"Topic14\", \"Topic14\", \"Topic14\", \"Topic14\", \"Topic14\", \"Topic14\", \"Topic14\", \"Topic14\", \"Topic14\", \"Topic14\", \"Topic14\", \"Topic14\", \"Topic14\", \"Topic14\", \"Topic14\", \"Topic14\", \"Topic14\", \"Topic14\", \"Topic14\", \"Topic14\", \"Topic14\", \"Topic14\", \"Topic14\", \"Topic14\", \"Topic14\", \"Topic14\", \"Topic14\", \"Topic14\", \"Topic14\", \"Topic14\", \"Topic14\", \"Topic14\", \"Topic14\", \"Topic14\", \"Topic14\", \"Topic14\", \"Topic14\", \"Topic14\", \"Topic14\", \"Topic14\"], \"logprob\": [30.0, 29.0, 28.0, 27.0, 26.0, 25.0, 24.0, 23.0, 22.0, 21.0, 20.0, 19.0, 18.0, 17.0, 16.0, 15.0, 14.0, 13.0, 12.0, 11.0, 10.0, 9.0, 8.0, 7.0, 6.0, 5.0, 4.0, 3.0, 2.0, 1.0, -5.4622, -6.0551, -6.1876, -6.2621, -5.3505, -5.9963, -6.5527, -5.8992, -5.0447, -6.6454, -6.767, -6.1848, -5.026, -6.6973, -6.6973, -6.3477, -5.7363, -5.7387, -6.7469, -6.7487, -6.3848, -6.4524, -6.0332, -5.4658, -6.7825, -6.4797, -5.8402, -6.7546, -6.0571, -6.782, -5.5229, -5.9614, -3.1157, -3.9288, -3.1617, -5.0412, -4.8317, -3.5216, -4.8629, -5.5859, -3.7611, -4.1143, -3.7969, -4.3969, -4.4886, -3.8941, -4.7929, -4.4009, -4.8315, -5.0273, -5.5847, -4.7419, -5.1469, -5.3215, -5.3595, -5.3412, -5.334, -5.3127, -5.2878, -5.3033, -5.406, -4.6567, -5.2817, -6.6487, -4.4191, -4.2728, -5.5562, -4.9426, -6.6558, -5.4644, -6.781, -6.7858, -6.7946, -6.4292, -5.3121, -6.7003, -3.2913, -6.2461, -6.0786, -5.2621, -6.6647, -6.0749, -4.4872, -5.8268, -5.8463, -6.1233, -4.3887, -5.5119, -5.4949, -6.9574, -4.4209, -5.2829, -2.6828, -3.0929, -4.886, -5.6489, -4.8989, -3.8519, -4.4405, -4.0138, -4.3935, -5.2264, -4.2424, -4.9681, -4.4081, -4.034, -5.2125, -4.9358, -4.9293, -4.8202, -5.1057, -4.9574, -4.9368, -4.83, -4.8584, -4.8162, -5.0739, -5.0751, -4.8842, -5.6733, -4.7615, -6.0763, -6.1642, -5.9451, -4.5117, -6.2607, -4.8298, -6.1815, -6.4794, -6.4809, -4.7078, -6.0801, -5.6512, -6.3663, -6.4798, -6.6111, -6.6111, -5.8147, -5.6445, -5.7519, -3.9372, -5.6837, -6.2263, -6.7636, -5.5411, -5.9511, -6.4254, -6.6111, -6.0133, -4.0286, -3.8613, -4.9318, -3.3716, -3.1326, -5.2455, -3.8406, -3.8136, -3.7788, -5.0463, -4.6442, -4.5552, -4.2966, -4.7116, -4.3146, -4.8702, -5.0992, -5.0372, -5.0781, -5.1178, -4.8601, -4.9042, -5.1902, -5.2201, -5.1858, -5.1371, -5.2065, -3.7809, -4.9368, -4.2656, -6.0051, -5.5082, -5.0085, -5.3239, -4.9609, -4.4736, -6.0937, -5.7539, -4.4606, -5.8592, -5.3694, -6.4584, -6.2046, -6.3004, -6.221, -5.1901, -4.8652, -6.4239, -3.895, -6.2846, -6.2161, -4.2754, -4.4297, -6.282, -4.0897, -6.5713, -4.4061, -5.158, -4.2151, -4.678, -5.2409, -4.939, -5.3761, -4.8898, -5.2615, -4.5378, -4.4978, -4.1854, -3.9631, -4.263, -4.5384, -3.6061, -4.6342, -4.8719, -4.5193, -4.8521, -4.5449, -4.4815, -4.5847, -4.5674, -4.8708, -4.8387, -5.3019, -5.9928, -5.7844, -6.4488, -5.8247, -5.4819, -5.5133, -6.221, -6.3104, -5.4958, -5.8986, -6.4289, -5.6775, -5.3364, -5.2632, -5.13, -6.6553, -6.2169, -5.4346, -5.9907, -6.4898, -6.4933, -6.1783, -6.5114, -4.909, -6.4332, -5.9274, -6.295, -6.2938, -6.4452, -4.8327, -5.3287, -5.076, -5.6051, -5.4303, -5.7619, -5.1926, -4.1131, -3.4562, -2.8353, -4.3886, -5.2485, -4.8678, -5.0554, -4.0834, -3.5845, -4.7566, -4.5417, -5.3041, -4.284, -4.6339, -4.6449, -4.9701, -4.9509, -5.0181, -5.0198, -4.8532, -4.8296, -5.0265, -5.0722, -5.0641, -5.0793, -5.0979, -5.1528, -5.1899, -4.9884, -5.176, -6.1657, -4.2302, -4.8067, -4.7708, -6.2022, -6.1649, -5.6645, -5.5941, -4.4168, -5.5232, -5.6263, -5.6683, -6.1893, -6.2962, -5.8938, -6.1553, -5.2742, -5.581, -6.4024, -5.7362, -5.958, -4.4166, -5.7781, -5.5595, -5.9985, -5.9508, -5.5588, -6.72, -5.594, -4.7101, -3.9435, -5.1073, -3.1228, -4.0118, -3.7761, -4.3327, -4.5761, -4.3237, -5.1423, -4.4006, -4.2635, -4.4393, -4.4439, -3.9741, -4.715, -4.4491, -4.7209, -4.7294, -4.8964, -5.1688, -5.0131, -4.962, -4.7835, -4.8225, -5.0804, -5.0973, -4.0433, -4.1563, -5.6426, -4.0569, -5.9339, -5.9032, -5.4397, -4.164, -5.5351, -5.6817, -5.6444, -4.4964, -6.1682, -5.7869, -6.2622, -6.5866, -6.0343, -5.4631, -5.4962, -4.694, -2.8879, -6.0576, -6.5215, -5.3207, -5.2571, -6.4007, -5.8367, -6.4484, -4.9372, -2.8147, -4.8203, -5.4778, -4.5821, -5.1191, -3.3976, -3.3446, -5.2942, -4.8775, -4.6434, -5.1755, -4.1214, -4.517, -4.588, -4.6638, -4.492, -4.9862, -4.4214, -4.7336, -4.8863, -4.6947, -4.5833, -4.893, -4.9591, -4.8001, -5.0268, -4.9592, -4.9347, -5.8858, -6.038, -5.3066, -5.1167, -4.7998, -5.3156, -4.4791, -5.436, -5.7095, -5.9959, -3.579, -6.1564, -6.0002, -5.7159, -5.9256, -3.1204, -5.8927, -6.2838, -3.133, -4.8403, -5.1934, -6.0701, -6.2449, -5.5446, -4.1994, -6.422, -5.1993, -5.3424, -6.5541, -6.0863, -5.7796, -4.6694, -3.5325, -3.7773, -4.4313, -4.2271, -4.201, -4.5633, -3.9241, -4.85, -5.4298, -4.7847, -4.5666, -4.8996, -4.9145, -5.3528, -4.5875, -5.0412, -4.9717, -5.0763, -5.263, -3.8344, -4.4281, -3.0217, -4.449, -5.129, -3.688, -5.3405, -4.5149, -4.4923, -2.8631, -6.1051, -5.5089, -5.8034, -6.0851, -6.0972, -4.8912, -5.9567, -5.8718, -6.3229, -6.1555, -5.3337, -5.9839, -5.0876, -6.4435, -6.2617, -5.661, -5.9814, -6.3903, -5.7885, -6.7822, -4.9394, -4.7715, -4.8539, -5.1245, -5.5643, -4.7344, -4.564, -4.0251, -4.3559, -5.0514, -4.6, -4.5309, -4.0361, -5.0718, -5.125, -5.1456, -4.4682, -4.6983, -4.847, -4.3504, -5.0703, -4.5761, -4.8487, -4.8649, -5.0609, -2.4247, -3.6133, -4.1826, -5.0143, -5.1817, -4.9411, -4.216, -4.4498, -5.0432, -5.1837, -4.0005, -3.8713, -5.5467, -4.8968, -5.515, -4.5281, -6.1696, -4.9194, -5.1636, -5.1845, -5.9357, -5.304, -4.6126, -5.5549, -5.6274, -6.0996, -4.3939, -4.7736, -6.5357, -6.5462, -3.881, -4.7707, -3.9202, -4.1805, -4.5372, -4.0608, -4.0075, -3.9698, -4.1665, -4.4113, -4.4012, -4.0811, -4.5357, -4.4643, -4.3853, -4.5072, -4.6819, -4.7335, -4.7252, -5.1873, -4.8233, -5.4305, -5.1983, -4.6777, -4.9162, -4.9617, -4.921, -4.3563, -5.0165, -5.292, -5.1568, -4.6574, -5.4454, -4.4713, -5.0677, -4.9377, -6.1984, -5.9742, -5.922, -3.6503, -5.8291, -3.2097, -4.8874, -4.4832, -4.6205, -5.603, -4.1384, -5.9812, -5.4213, -4.5716, -4.5431, -3.8829, -4.9704, -4.7953, -4.1306, -3.3643, -4.4472, -4.0929, -3.9618, -4.2396, -4.0128, -4.6347, -4.6869, -4.9051, -4.8398, -4.7909, -4.8832, -4.8876, -3.0937, -3.7854, -4.0993, -4.3485, -4.6231, -4.6862, -4.7522, -4.8259, -4.9919, -3.961, -4.7652, -4.4028, -4.7658, -4.9055, -4.5197, -5.1912, -4.7902, -4.218, -3.9148, -4.5984, -5.4841, -5.7727, -4.4969, -3.7433, -5.4907, -4.7723, -4.9049, -6.0655, -5.2018, -5.4995, -4.7124, -3.5984, -4.4273, -4.0885, -4.1408, -4.7764, -3.396, -4.2174, -3.7381, -3.3611, -3.9444, -4.2552, -4.2893, -4.344, -4.5151, -4.5797, -4.6539, -4.6545, -4.6219, -4.351, -4.422, -3.7693, -4.5476, -5.1452, -3.5293, -3.9652, -3.926, -5.0287, -4.1537, -5.6444, -5.4297, -5.3129, -5.9285, -5.7272, -5.805, -4.8452, -5.66, -4.5482, -5.9258, -5.8004, -6.3237, -5.955, -6.0521, -5.5902, -4.8582, -5.0399, -5.6272, -3.8892, -5.8077, -5.1698, -5.1793, -4.8595, -4.502, -4.8121, -4.6206, -5.156, -4.4096, -4.3784, -3.9783, -4.0087, -4.0833, -3.6037, -4.8996, -4.4267, -4.3638, -4.4942, -4.6211, -4.4352, -4.7646, -4.5338, -4.8129, -4.7464, -4.8459, -3.0425, -3.4368, -4.9719, -3.3137, -5.2719, -4.6647, -5.4038, -5.5067, -3.7812, -4.8066, -4.1318, -4.7456, -2.969, -4.3039, -5.6756, -5.3545, -4.5838, -5.6955, -5.4266, -5.1152, -4.9182, -5.3639, -4.2424, -5.9557, -5.4398, -4.7435, -5.5661, -6.1162, -6.3389, -4.5712, -5.5582, -3.3195, -4.8135, -4.0308, -4.0183, -3.574, -4.2391, -4.7989, -4.6589, -4.2874, -4.3938, -4.717, -4.4668, -4.3308, -4.4756, -4.6757, -4.7156], \"loglift\": [30.0, 29.0, 28.0, 27.0, 26.0, 25.0, 24.0, 23.0, 22.0, 21.0, 20.0, 19.0, 18.0, 17.0, 16.0, 15.0, 14.0, 13.0, 12.0, 11.0, 10.0, 9.0, 8.0, 7.0, 6.0, 5.0, 4.0, 3.0, 2.0, 1.0, 1.908, 1.883, 1.8756, 1.8702, 1.834, 1.8281, 1.8209, 1.781, 1.7752, 1.7263, 1.7033, 1.6987, 1.6875, 1.6782, 1.6782, 1.6539, 1.6315, 1.6309, 1.6282, 1.6239, 1.6172, 1.6094, 1.6044, 1.5931, 1.5907, 1.5871, 1.5594, 1.5327, 1.5291, 1.5005, 1.4851, 1.4719, 1.1273, 1.2241, 0.9922, 1.3212, 1.2533, 0.9253, 1.1699, 1.3576, 0.7841, 0.8945, 0.656, 0.7918, 0.7403, 0.4274, 0.7719, 0.4045, 0.6761, 0.7327, 1.2736, 0.1818, 0.6186, 0.7438, 0.7571, 0.6229, 0.4982, 0.2515, 0.1347, -0.9969, -0.1616, 1.9995, 1.9301, 1.9213, 1.8951, 1.8578, 1.844, 1.8336, 1.8119, 1.8041, 1.7893, 1.7829, 1.7773, 1.7738, 1.7691, 1.7668, 1.7536, 1.7462, 1.7421, 1.7407, 1.7023, 1.6945, 1.689, 1.6791, 1.6608, 1.6516, 1.6495, 1.643, 1.6345, 1.614, 1.5909, 1.5766, 1.2183, 1.2134, 1.4723, 1.5675, 1.2043, 0.8386, 1.0373, 0.8611, 0.993, 1.288, 0.8171, 1.081, 0.686, 0.2876, 1.1395, 0.8297, 0.6217, 0.3685, 0.9186, 0.5178, 0.4342, -0.1606, -0.0531, -0.3633, 0.5723, 0.4278, 2.1875, 2.1673, 2.1501, 2.1433, 2.1353, 2.1311, 2.1303, 2.1258, 2.1229, 2.1179, 2.1074, 2.1059, 2.0862, 2.0644, 2.0398, 2.0186, 1.998, 1.9741, 1.9735, 1.9726, 1.9534, 1.9444, 1.9272, 1.8385, 1.8362, 1.8163, 1.8056, 1.7848, 1.7829, 1.7651, 1.7181, 1.3938, 1.3586, 1.5288, 1.1736, 1.0213, 1.4877, 0.9648, 0.6334, 0.5428, 1.1939, 0.9206, 0.8312, 0.6271, 0.8584, 0.376, 0.8921, 1.0784, 0.8158, 0.8392, 0.7339, 0.1487, 0.2487, 0.7854, 0.8227, 0.6885, 0.0918, 2.3447, 2.3265, 2.307, 2.2999, 2.2796, 2.2671, 2.2348, 2.2283, 2.1997, 2.1996, 2.1929, 2.1779, 2.1521, 2.1382, 2.1371, 2.1163, 2.0822, 2.0683, 2.0647, 2.0532, 2.0522, 2.0405, 2.0026, 1.9997, 1.9855, 1.9545, 1.9477, 1.9253, 1.9154, 1.8983, 1.8569, 1.8688, 1.7315, 1.7814, 1.8213, 1.7504, 1.8312, 1.6603, 1.7715, 1.5168, 1.501, 1.3703, 1.1898, 1.3018, 1.4188, 0.6369, 1.2188, 1.4153, 0.7128, 1.2927, 0.6494, -0.0345, 0.1058, -0.0222, 1.0401, 0.5838, 2.2462, 2.2094, 2.206, 2.1212, 2.1106, 2.1058, 2.0735, 2.0615, 2.0564, 2.0498, 2.0352, 2.0332, 1.953, 1.9384, 1.9234, 1.9192, 1.9121, 1.9115, 1.8987, 1.8862, 1.8794, 1.8771, 1.8768, 1.8639, 1.8583, 1.8523, 1.8443, 1.8304, 1.8301, 1.8301, 1.788, 1.7966, 1.7769, 1.8007, 1.7551, 1.7871, 1.7148, 1.533, 1.4187, 1.0659, 1.3794, 1.6268, 1.3875, 1.4626, 0.976, 0.7219, 1.1463, 0.9659, 1.4883, 0.3854, 0.7525, 0.6159, 1.0402, 0.8812, 0.7442, 0.7402, 0.2409, -0.0242, 0.4513, 0.4307, -0.0553, -0.1555, -0.4073, 0.2047, 0.4996, 2.472, 2.3639, 2.2898, 2.2522, 2.1935, 2.1821, 2.1602, 2.1096, 2.1053, 2.0774, 2.0684, 2.0595, 2.043, 2.004, 2.004, 1.9759, 1.9677, 1.9636, 1.9629, 1.962, 1.9529, 1.9349, 1.9153, 1.913, 1.8948, 1.8735, 1.871, 1.8688, 1.8687, 1.8443, 1.7763, 1.7093, 1.6208, 1.6851, 1.1988, 1.3592, 1.1955, 1.348, 1.3864, 1.2431, 1.5827, 1.0219, 0.7453, 0.7928, 0.7505, 0.2689, 0.9744, 0.5958, 0.6367, 0.4995, 0.7831, 1.1824, 0.5379, 0.2988, -0.8823, -0.6686, 0.0136, -0.0378, 2.5378, 2.522, 2.4747, 2.3067, 2.2595, 2.2166, 2.1834, 2.1456, 2.0936, 2.0896, 2.0744, 2.0452, 2.0301, 2.0276, 2.0133, 1.9827, 1.9538, 1.8909, 1.8045, 1.8025, 1.7815, 1.7623, 1.7556, 1.7522, 1.7453, 1.7264, 1.7057, 1.6706, 1.6396, 1.6382, 1.5881, 1.622, 1.4725, 1.5471, 0.9088, 0.8092, 1.4641, 1.1653, 0.9763, 1.3389, 0.3256, 0.5455, 0.3836, 0.4303, 0.0531, 0.925, -0.0999, 0.4552, 0.6805, 0.229, -0.6821, 0.3359, 0.5672, -0.1095, 0.8005, -0.1538, 2.6211, 2.5467, 2.5036, 2.4855, 2.4835, 2.3844, 2.2923, 2.2184, 2.2167, 2.2031, 2.1897, 2.189, 2.1838, 2.1804, 2.1449, 2.1135, 2.1117, 2.083, 2.0755, 2.0614, 2.0583, 2.0533, 2.0358, 2.0228, 1.9471, 1.9454, 1.9316, 1.9198, 1.9159, 1.9018, 1.9003, 1.8805, 1.7448, 1.4391, 1.4425, 1.4555, 1.0338, 0.8616, 0.9925, 0.3188, 1.1488, 1.5684, 0.7416, 0.3571, 0.6033, 0.5607, 1.4564, -0.6863, 0.0528, -0.4265, -0.6294, -0.9414, 2.8509, 2.8251, 2.6748, 2.5905, 2.5548, 2.5546, 2.5427, 2.4111, 2.3877, 2.3812, 2.3636, 2.3231, 2.3218, 2.29, 2.2835, 2.2279, 2.181, 2.064, 2.0582, 2.0462, 2.0062, 1.9599, 1.9434, 1.9302, 1.8612, 1.8605, 1.85, 1.8181, 1.8042, 1.7913, 1.7856, 1.7608, 1.6641, 1.6925, 1.7354, 1.4432, 1.2877, 1.0375, 1.1193, 1.4566, 1.1431, 1.0249, 0.6332, 1.4361, 1.4518, 1.4682, 0.6258, 0.866, 1.0639, 0.0966, 1.3663, 0.1144, -0.0433, 0.0588, 0.1999, 3.1822, 3.175, 3.1291, 3.1235, 3.1101, 3.0629, 3.0348, 2.959, 2.8984, 2.887, 2.8431, 2.7576, 2.7422, 2.6997, 2.6964, 2.4864, 2.4065, 2.3878, 2.3874, 2.3627, 2.3525, 2.3332, 2.3104, 2.2213, 2.1976, 2.1941, 2.1865, 2.1493, 2.032, 2.031, 2.0208, 1.9906, 1.912, 1.9045, 1.7424, 1.4144, 1.2534, 1.0896, 0.8051, 0.9596, 0.8277, 0.0728, 1.0311, 0.2051, -0.1424, 0.3676, 0.9988, 1.2557, 0.6323, 3.261, 3.1566, 3.1275, 3.0731, 2.986, 2.8951, 2.8014, 2.7939, 2.7382, 2.7382, 2.6934, 2.5507, 2.4846, 2.4806, 2.4171, 2.3996, 2.3886, 2.3693, 2.366, 2.3599, 2.3527, 2.2978, 2.2681, 2.2579, 2.2507, 2.2309, 2.2173, 2.2136, 2.2031, 2.166, 2.1416, 2.1231, 2.0345, 2.0337, 1.9624, 1.7016, 0.5368, 1.2335, 0.7125, 0.4911, 0.7692, 0.2935, 1.4356, 1.1405, 1.7385, 1.2908, -0.1004, 0.8823, 0.4834, 3.3704, 3.3585, 3.3499, 3.3417, 3.3248, 3.3222, 3.3207, 3.316, 3.2252, 3.2094, 3.124, 3.1152, 3.0687, 3.0409, 3.0395, 3.0211, 2.9425, 2.9205, 2.8969, 2.7429, 2.7269, 2.7016, 2.6654, 2.6488, 2.5776, 2.5348, 2.5052, 2.4068, 2.4012, 2.3831, 2.3709, 2.3128, 2.2777, 2.2211, 2.1549, 2.2845, 1.2734, 1.8529, 1.3245, 0.5401, 1.1496, 1.391, 1.2369, 0.5308, 1.3717, 1.3232, 1.7816, 1.2198, 0.3018, 3.6619, 3.5284, 3.0417, 2.936, 2.8592, 2.8219, 2.8207, 2.7096, 2.7078, 2.6674, 2.647, 2.6402, 2.5594, 2.5275, 2.4776, 2.4627, 2.4619, 2.3374, 2.3088, 2.2896, 2.2663, 2.2579, 2.2563, 2.2416, 2.2321, 2.2222, 2.2183, 2.1992, 2.1958, 2.1943, 2.1659, 2.0744, 1.9829, 1.8436, 1.8541, 1.7675, 1.9893, 1.5078, 1.3816, 0.9455, 0.9629, 0.9792, 0.2974, 1.7013, 1.0809, 0.825, 0.8768, 1.025, 0.2553, 1.2681, -0.0869, 1.1627, 0.3477, 1.3239, 3.7288, 3.6431, 3.517, 3.4454, 3.3198, 3.2312, 3.0755, 3.0742, 3.0641, 2.9706, 2.9563, 2.942, 2.9328, 2.7863, 2.7091, 2.6444, 2.6106, 2.589, 2.5747, 2.5567, 2.4877, 2.3644, 2.3547, 2.338, 2.3316, 2.3252, 2.324, 2.2649, 2.2414, 2.1713, 2.1381, 1.7431, 1.9645, 1.5335, 1.3392, 0.8789, 1.3276, 1.8168, 1.471, 0.9415, 0.8506, 1.3534, 0.2237, -0.4297, 0.0696, 0.1991, -0.5617]}, \"token.table\": {\"Topic\": [3, 5, 6, 8, 10, 1, 2, 3, 4, 5, 6, 7, 8, 9, 10, 11, 13, 4, 8, 10, 1, 5, 2, 5, 11, 1, 3, 4, 6, 8, 9, 10, 3, 5, 1, 2, 3, 4, 5, 6, 7, 8, 9, 13, 14, 3, 7, 12, 1, 5, 7, 13, 14, 3, 4, 5, 8, 11, 13, 1, 2, 3, 5, 7, 9, 10, 11, 12, 13, 14, 1, 3, 4, 5, 6, 8, 11, 12, 13, 1, 3, 4, 5, 8, 9, 12, 1, 2, 5, 7, 11, 13, 5, 7, 9, 11, 13, 1, 5, 10, 1, 2, 3, 5, 7, 13, 2, 1, 2, 3, 5, 9, 2, 4, 1, 2, 3, 1, 2, 4, 7, 8, 11, 12, 1, 3, 5, 9, 13, 14, 3, 1, 3, 5, 8, 1, 3, 8, 10, 11, 13, 14, 1, 3, 4, 5, 1, 2, 3, 4, 5, 7, 8, 9, 14, 1, 2, 3, 4, 5, 9, 2, 7, 8, 9, 11, 12, 2, 3, 6, 7, 9, 3, 4, 8, 1, 4, 10, 12, 1, 2, 7, 8, 1, 3, 5, 6, 11, 13, 1, 2, 3, 4, 5, 7, 8, 9, 10, 11, 12, 13, 14, 1, 3, 4, 5, 7, 8, 9, 13, 14, 2, 6, 13, 3, 4, 6, 7, 8, 10, 1, 14, 1, 2, 1, 3, 7, 13, 14, 1, 3, 4, 6, 7, 8, 9, 10, 13, 1, 3, 5, 2, 6, 4, 6, 2, 7, 8, 11, 1, 3, 11, 1, 2, 3, 4, 6, 7, 8, 9, 10, 14, 1, 2, 3, 4, 7, 8, 9, 10, 1, 4, 8, 1, 13, 1, 4, 2, 8, 11, 1, 2, 3, 4, 5, 6, 7, 8, 9, 10, 11, 12, 13, 14, 1, 4, 5, 8, 10, 13, 1, 2, 5, 7, 10, 12, 13, 12, 2, 5, 10, 12, 1, 2, 5, 6, 9, 14, 1, 4, 5, 8, 9, 10, 12, 14, 2, 4, 10, 11, 1, 3, 5, 8, 1, 4, 8, 1, 3, 5, 9, 13, 12, 4, 3, 4, 8, 13, 7, 14, 2, 3, 6, 8, 9, 10, 12, 13, 3, 4, 5, 8, 10, 11, 13, 1, 3, 6, 2, 4, 5, 10, 1, 2, 3, 4, 5, 6, 7, 8, 9, 11, 14, 3, 1, 3, 8, 1, 2, 3, 5, 12, 14, 12, 1, 3, 4, 1, 4, 1, 2, 3, 5, 7, 8, 12, 13, 14, 3, 1, 2, 3, 5, 6, 7, 8, 9, 10, 11, 12, 1, 2, 4, 5, 6, 11, 12, 14, 2, 5, 9, 1, 2, 3, 5, 6, 7, 8, 9, 10, 12, 13, 14, 2, 5, 6, 11, 14, 3, 6, 7, 13, 2, 5, 7, 8, 11, 14, 2, 5, 11, 14, 1, 2, 3, 4, 5, 7, 8, 1, 4, 6, 11, 6, 8, 9, 10, 12, 13, 2, 7, 2, 5, 7, 2, 5, 9, 12, 2, 12, 14, 1, 5, 1, 2, 6, 7, 1, 2, 3, 4, 5, 6, 7, 8, 9, 10, 11, 13, 14, 3, 4, 6, 8, 10, 11, 14, 1, 4, 6, 8, 9, 10, 14, 1, 2, 3, 4, 5, 6, 7, 8, 9, 11, 13, 14, 1, 2, 3, 4, 5, 6, 7, 9, 12, 1, 2, 3, 9, 1, 2, 5, 1, 3, 4, 6, 9, 11, 13, 5, 6, 8, 9, 12, 1, 3, 5, 7, 9, 3, 9, 11, 1, 3, 14, 1, 3, 4, 6, 14, 3, 7, 9, 10, 14, 1, 8, 11, 8, 9, 10, 14, 1, 2, 3, 5, 6, 7, 8, 9, 11, 13, 14, 2, 5, 6, 14, 1, 2, 3, 5, 6, 7, 8, 9, 11, 12, 13, 14, 2, 5, 2, 5, 7, 11, 1, 2, 3, 6, 7, 1, 5, 6, 8, 9, 10, 13, 1, 3, 1, 3, 4, 6, 8, 9, 10, 13, 5, 6, 9, 12, 12, 2, 14, 4, 13, 1, 3, 12, 1, 3, 6, 7, 9, 1, 3, 6, 14, 3, 7, 1, 2, 3, 4, 5, 7, 8, 9, 10, 13, 14, 1, 10, 11, 1, 3, 11, 13, 1, 2, 3, 4, 5, 6, 8, 9, 10, 11, 12, 13, 1, 3, 4, 7, 8, 9, 12, 1, 5, 7, 9, 3, 5, 14, 3, 4, 1, 2, 3, 4, 5, 7, 8, 14, 1, 2, 3, 5, 10, 11, 12, 13, 14, 1, 2, 3, 4, 6, 7, 8, 9, 14, 1, 4, 1, 4, 6, 8, 1, 2, 3, 5, 7, 8, 14, 1, 2, 5, 7, 11, 13, 1, 2, 5, 7, 8, 11, 1, 4, 6, 8, 9, 10, 3, 14, 10, 13, 1, 5, 6, 8, 9, 10, 14, 2, 4, 5, 8, 9, 10, 3, 6, 5, 8, 6, 8, 13, 5, 6, 1, 2, 4, 5, 6, 7, 8, 9, 10, 11, 12, 13, 14, 1, 2, 3, 5, 10, 11, 1, 5, 6, 8, 10, 8, 9, 10, 14, 4, 1, 2, 6, 1, 5, 6, 10, 2, 5, 7, 1, 2, 3, 4, 5, 6, 8, 9, 14, 5, 13, 14, 4, 5, 6, 7, 8, 9, 10, 11, 14, 3, 5, 10, 13, 1, 2, 3, 5, 10, 13, 5, 7, 11, 13, 2, 5, 9, 14, 1, 5, 9, 2, 6, 8, 9, 11, 1, 4, 9, 2, 5, 2, 3, 1, 2, 4, 5, 6, 8, 9, 1, 3, 5, 10, 1, 3, 2, 6, 5, 10, 5, 6, 7, 8, 1, 2, 3, 5, 7, 11, 13, 2, 4, 5, 7, 9, 10, 11, 12, 1, 2, 7, 1, 2, 3, 4, 5, 6, 7, 9, 10, 11, 5, 6, 8, 1, 3, 4, 5, 6, 14, 4, 8, 4, 9, 1, 2, 4, 6, 8, 9, 10, 1, 2, 3, 7, 9, 2, 6, 10, 2, 3, 5, 8, 9, 1, 9, 12, 1, 6, 7, 1, 3, 6, 7, 9, 3, 4, 10, 1, 3, 5, 7, 10, 11, 14, 5, 7, 2, 3, 5, 6, 7, 9, 10, 12, 13, 14, 2, 4, 6, 7, 13, 1, 3, 7, 1, 2, 3, 5, 7, 12, 13, 2, 12, 14, 1, 1, 3, 6, 1, 3, 4, 5, 7, 9, 5, 6, 11, 4, 6, 9, 11, 1, 2, 3, 4, 5, 6, 7, 9, 10, 12, 13, 3, 8, 10, 2, 6, 9, 13, 4, 6, 11, 1, 2, 3, 4, 5, 6, 8, 9, 10, 14, 1, 2, 4, 5, 6, 9, 14, 6, 7, 10, 13, 1, 3, 4, 6, 7, 9, 10, 4, 8, 1, 2, 3, 4, 5, 6, 7, 8, 9, 10, 11, 12, 13, 14, 1, 3, 13, 2, 5, 7, 1, 2, 7, 14, 1, 2, 3, 5, 7, 8, 2, 3, 12, 1, 4, 7, 9, 10, 11, 3, 4, 9, 2, 7, 3, 8, 1, 5, 12, 3, 8, 11, 14, 3, 11, 2, 3, 6, 11, 1, 3, 6, 11, 14, 1, 3, 4, 7, 8, 9, 13, 2, 5, 11, 14, 1, 3, 5, 7, 9, 11, 14, 1, 3, 4, 8, 10, 1, 3, 4, 8, 10, 3, 5, 9, 12, 2, 3, 4, 6, 7, 8, 9, 14, 1, 3, 1, 6, 9, 3, 7, 8, 1, 2, 3, 4, 5, 6, 7, 8, 9, 10, 11, 12, 13, 14, 6, 9, 14, 1, 3, 4, 5, 8, 9, 10, 1, 5, 6, 9, 14, 1, 2, 3, 5, 6, 9, 14, 2, 5, 1, 2, 4, 5, 6, 7, 8, 11, 13, 1, 8, 3, 4, 7, 8, 12, 13, 14, 1, 1, 2, 3, 4, 5, 6, 7, 8, 9, 10, 11, 13, 14, 1, 10, 13, 1, 3, 4, 5, 6, 8, 11, 13, 1, 2, 3, 4, 6, 8, 10, 11, 2, 4, 5, 6, 8, 9, 1, 2, 5, 7, 9, 1, 3, 6, 8, 1, 2, 5, 14, 6, 8, 10, 14, 1, 2, 3, 4, 5, 6, 7, 8, 9, 10, 11, 13, 14, 1, 10, 13, 4, 8, 9, 4, 8, 9, 1, 2, 3, 6, 7, 8, 9, 10, 11, 12, 14, 5, 8, 10, 3, 11, 2, 11, 14, 1, 9, 3, 4, 8, 3, 8, 9, 1, 4, 6, 7, 8, 11, 2, 3, 9, 6, 7, 8, 11, 13, 14, 1, 2, 3, 8, 14, 2, 5, 8, 1, 5, 8, 3, 1, 5, 6, 13, 3, 4, 8, 9, 10, 2, 5, 8, 2, 4, 5, 6, 8, 5, 8, 9, 13, 4, 6, 1, 2, 3, 4, 5, 6, 9, 10, 11, 2, 3, 9, 3, 7, 10, 12, 1, 6, 11, 14, 1, 6, 7, 2, 5, 9, 11, 12, 1, 2, 3, 5, 6, 7, 9, 10, 11, 9, 10, 11, 1, 3, 4, 6, 7, 1, 2, 3, 5, 6, 7, 8, 9, 10, 11, 13, 14, 3, 5, 11, 12, 2, 5, 7, 11, 13, 2, 7, 9, 12, 5, 7, 9, 12, 13, 1, 8, 3, 1, 2, 3, 4, 5, 6, 7, 8, 9, 10, 11, 12, 13, 14, 1, 7, 12, 1, 2, 3, 5, 6, 7, 8, 9, 10, 11, 13, 14, 1, 2, 3, 4, 5, 6, 7, 8, 9, 11, 13, 14, 2, 5, 1, 2, 3, 5, 6, 7, 8, 9, 11, 12, 13, 14, 3, 5, 10, 1, 3, 6, 10, 2, 3, 6, 7, 14, 3, 5, 6, 14, 1, 2, 3, 4, 5, 7, 8, 9, 10, 11, 13, 1, 10, 2, 5, 7, 10, 9, 10, 11, 12, 5, 11, 1, 2, 5, 6, 8, 13, 1, 2, 3, 4, 5, 6, 7, 9, 11, 13, 14, 3, 4, 5, 6, 7, 8, 9, 10, 11, 13, 1, 13, 3, 5, 8, 1, 4, 6, 9, 10, 12, 1, 2, 3, 5, 6, 9, 11, 11, 10, 11, 14, 4, 6, 8, 3, 4, 1, 2, 3, 5, 7, 8, 9, 11, 13, 2, 3, 4, 6, 7, 8, 9, 10, 11, 12, 2, 6, 9, 14, 4, 9, 8, 10, 13, 14, 1, 8, 11, 13, 3, 5, 6, 10, 12, 1, 2, 3, 4, 5, 6, 7, 8, 9, 10, 1, 6, 7, 8, 13, 3, 7, 10, 14, 1, 3, 4, 6, 5, 10, 1, 10, 13, 1, 6, 1, 2, 3, 5, 6, 7, 8, 10, 11, 13, 1, 2, 3, 5, 6, 7, 8, 13, 1, 4, 6, 2, 5, 6, 1, 3, 6, 10, 14, 2, 7, 2, 5, 7, 11, 14, 3, 5, 10, 2, 5, 7, 11, 13, 1, 2, 3, 4, 5, 6, 7, 8, 9, 10, 13, 2, 5, 7, 11, 10, 11, 13, 1, 4, 6, 8, 9, 10, 3, 11, 1, 3, 6, 1, 2, 3, 5, 7, 8, 9, 10, 12, 13, 14, 5, 6, 8, 9, 10, 1, 4, 8, 11, 13, 1, 2, 3, 5, 6, 8, 9, 10, 11, 13, 14, 1, 2, 5, 7, 9, 5, 7, 1, 2, 3, 5, 7, 8, 11, 12, 14, 1, 4, 5, 8, 13, 1, 2, 3, 4, 5, 7, 8, 9, 10, 11, 12, 13, 14, 1, 5, 7, 9, 1, 3, 4, 5, 6, 7, 8, 9, 14, 2, 3, 5, 7, 8, 9, 1, 2, 3, 5, 8, 10, 12, 13, 2, 5, 8, 14, 5, 7, 14, 2, 5, 7, 8, 13, 1, 2, 3, 4, 5, 6, 7, 9, 10, 11, 13, 14, 1, 2, 3, 4, 5, 10, 11, 13, 1, 2, 3, 5, 7, 8, 9, 12, 14, 3, 3, 10, 11, 6, 7, 2, 4, 4, 5, 6, 7, 8, 9, 11, 12, 14, 1, 2, 3, 7, 9, 10, 11, 13, 1, 2, 5, 8, 3, 4, 4, 6, 9, 10, 10, 13, 2, 5, 7, 10, 12, 4, 8, 1, 4, 6, 8, 9, 10, 1, 2, 3, 4, 5, 7, 9, 12, 14, 12, 3, 1, 3, 5, 8, 10, 1, 2, 3, 4, 5, 6, 7, 8, 10, 11, 13, 14, 2, 7, 11, 14, 4, 5, 12, 13, 2, 4, 6, 7, 9, 11, 2, 4, 8, 9, 13, 14, 1, 3, 5, 7, 1, 2, 3, 4, 5, 6, 7, 8, 9, 10, 11, 12, 13, 14, 3, 5, 6, 8, 1, 3, 8, 1, 2, 3, 7, 9, 2, 3, 5, 11, 2, 6, 1, 3, 4, 5, 8, 9, 1, 3, 4, 13, 1, 2, 3, 4, 5, 6, 7, 8, 9, 10, 12, 13, 14, 1, 2, 3, 5, 6, 7, 8, 9, 10, 11, 12, 13, 1, 2, 3, 4, 5, 6, 7, 8, 10, 11, 13, 2, 5, 7, 1, 2, 3, 4, 6, 8, 9, 10, 14, 1, 5, 6, 8, 12, 5, 7, 9, 1, 2, 3, 5, 6, 8, 9, 14, 1, 9, 12, 14, 7, 12, 5, 6, 7, 1, 2, 3, 5, 6, 7, 9, 10, 12, 2, 3, 5, 6, 2, 5, 7, 11, 7, 1, 2, 3, 4, 5, 6, 7, 8, 10, 11, 13, 8, 9, 13, 1, 13, 2, 3, 2, 7, 3, 1, 2, 3, 9, 1, 2, 3, 4, 7, 9, 14, 1, 2, 3, 5, 7, 11, 12, 1, 2, 3, 4, 5, 6, 7, 8, 9, 10, 11, 13, 14, 1, 2, 3, 4, 5, 6, 7, 8, 9, 10, 11, 12, 13, 14, 1, 2, 3, 5, 6, 7, 8, 9, 10, 11, 12, 13, 1, 2, 3, 4, 5, 6, 7, 8, 9, 10, 11, 13, 1, 2, 3, 4, 5, 6, 7, 8, 9, 11, 13, 14, 3, 4, 6, 9, 1, 4, 6, 1, 6, 9, 11, 2, 9, 8, 11, 4, 8, 14, 1, 3, 4, 6, 7, 8, 9, 12, 13, 1, 2, 3, 4, 5, 6, 7, 9, 11, 12, 14, 3, 4, 1, 2, 3, 4, 5, 6, 7, 8, 9, 10, 11, 12, 13, 14, 1, 2, 3, 4, 7, 8, 9, 10, 11, 2, 7, 8, 11, 13, 1, 3, 4, 6, 7, 8, 9, 12, 1, 10, 5, 7, 12, 2, 5, 3, 5, 8, 1, 3, 6, 7, 5, 8, 9, 12, 13, 4, 7, 12, 13, 1, 2, 3, 4, 5, 9, 11, 13, 14, 1, 2, 3, 5, 8, 10, 11, 12, 13, 14, 1, 2, 5, 1, 6, 8, 10, 2, 11, 1, 2, 3, 6, 8, 9, 13, 1, 3, 8, 9, 10, 12, 1, 3, 6, 1, 4, 6, 8, 11, 1, 2, 3, 5, 6, 7, 13, 4, 13, 2, 5, 10, 3, 8, 3, 6, 7, 8, 2, 6, 1, 3, 4, 7, 2, 4, 6, 7, 10, 13, 4, 6, 9, 13, 1, 2, 3, 6, 8, 14, 3, 8, 13, 1, 3, 4, 6, 7, 8, 9, 10, 11, 13, 14, 3, 8, 3, 5, 6, 14, 1, 2, 11, 1, 4, 5, 6, 9, 10, 4, 10, 2, 3, 5, 6, 7, 8, 9, 11, 13, 1, 2, 3, 6, 7, 8, 9, 11, 13, 1, 2, 5, 9, 10, 12, 14, 12, 1, 4, 7, 12, 2, 4, 6, 7, 9, 11, 1, 4, 5, 11, 13, 4, 9, 11, 1, 2, 3, 4, 5, 6, 8, 9, 10, 13, 2, 11, 3, 9, 12, 13, 1, 2, 3, 4, 5, 6, 8, 9, 10, 11, 12, 1, 1, 6, 11, 14, 1, 6, 8, 1, 3, 6, 1, 2, 3, 5, 6, 7, 8, 9, 4, 5, 6, 8, 9, 13, 2, 5, 6, 11, 4, 7, 8, 2, 6, 7, 9, 1, 3, 5, 13, 3, 5, 7, 2, 3, 9, 11, 13, 8, 9, 13, 1, 4, 5, 6, 7, 8, 10, 11, 5, 8, 13, 14, 1, 8, 10, 1, 13, 1, 5, 6, 8, 11, 12, 13, 4, 6, 3, 4, 7, 11, 1, 6, 13, 14, 1, 3, 4, 6, 7, 9, 10, 11, 1, 3, 2, 5, 6, 9, 10, 1, 2, 3, 4, 5, 6, 7, 8, 9, 10, 13, 1, 2, 3, 14, 2, 7, 4, 8, 1, 3, 8, 10, 3, 6, 8, 11, 3, 4, 1, 2, 3, 4, 5, 6, 7, 8, 9, 10, 14, 3, 8, 14, 1, 2, 3, 4, 5, 7, 8, 9, 11, 12, 13, 14, 2, 9, 10, 12, 13], \"Freq\": [0.28733313288064716, 0.14366656644032358, 0.02394442774005393, 0.04788885548010786, 0.5028329825411325, 0.28119761675845323, 0.0689730003369791, 0.07427861574751596, 0.09550107738966336, 0.24405830888469526, 0.010611230821073708, 0.07958423115805281, 0.005305615410536854, 0.026528077052684267, 0.010611230821073708, 0.021222461642147417, 0.0689730003369791, 0.7419433327410808, 0.0927429165926351, 0.0927429165926351, 0.11342941851527935, 0.7940059296069554, 0.09256638969262007, 0.7405311175409606, 0.18513277938524014, 0.065940287598891, 0.0349095640229423, 0.17842666056170509, 0.16679013922072433, 0.4926127367681858, 0.054303766257910245, 0.007757680893987178, 0.8057099735988109, 0.11510142479983013, 0.30048946409989064, 0.06829306002270241, 0.09561028403178339, 0.1297568140431346, 0.19122056806356677, 0.013658612004540483, 0.04780514201589169, 0.034146530011351206, 0.020487918006810726, 0.09561028403178339, 0.0068293060022702416, 0.2267057440676693, 0.5667643601691733, 0.11335287203383465, 0.05392593567195076, 0.26962967835975377, 0.3235556140317046, 0.21570374268780304, 0.10785187134390152, 0.10755790260051587, 0.021511580520103175, 0.5162779324824761, 0.27965054676134127, 0.04302316104020635, 0.021511580520103175, 0.14249415810282046, 0.03166536846729343, 0.12666147386917373, 0.1899922108037606, 0.07916342116823359, 0.12666147386917373, 0.0949961054018803, 0.015832684233646716, 0.015832684233646716, 0.12666147386917373, 0.03166536846729343, 0.03470800446541328, 0.0925546785744354, 0.38178804911954606, 0.15040135268345753, 0.05784667410902213, 0.16197068750526197, 0.011569334821804425, 0.06941600893082656, 0.0462773392872177, 0.14448876460680093, 0.13135342236981903, 0.21016547579171044, 0.026270684473963805, 0.3546542403985114, 0.03940602671094571, 0.06567671118490952, 0.25591377388177355, 0.19193533041133015, 0.06397844347044339, 0.06397844347044339, 0.12795688694088678, 0.25591377388177355, 0.6238732830227329, 0.05671575300206663, 0.05671575300206663, 0.11343150600413326, 0.11343150600413326, 0.3423647512149062, 0.11412158373830208, 0.45648633495320834, 0.21757394624712154, 0.2559693485260253, 0.025596934852602535, 0.2559693485260253, 0.08958927198410886, 0.14078314168931394, 0.9074043185279832, 0.023771619599187586, 0.8795499251699407, 0.04754323919837517, 0.011885809799593793, 0.023771619599187586, 0.7942571069418871, 0.11346530099169816, 0.24628432723182656, 0.04925686544636531, 0.640339250802749, 0.3354907112058909, 0.10735702758588508, 0.08051777068941382, 0.06709814224117819, 0.05367851379294254, 0.16103554137882764, 0.20129442672353454, 0.2737071728332655, 0.1520595404629253, 0.1520595404629253, 0.06082381618517012, 0.18247144855551034, 0.1520595404629253, 0.9227544732256112, 0.19613536457558484, 0.5884060937267545, 0.04903384114389621, 0.09806768228779242, 0.14164404923404691, 0.023607341539007818, 0.01573822769267188, 0.3068954400071016, 0.023607341539007818, 0.047214683078015636, 0.4406703753948126, 0.11516012622197865, 0.8061208835538506, 0.6819525891509947, 0.255732220931623, 0.19164636027492782, 0.15057928307315757, 0.2669360018115066, 0.15742379594011927, 0.19164636027492782, 0.006844512866961708, 0.020533538600885123, 0.006844512866961708, 0.006844512866961708, 0.09945754797210028, 0.33152515990700093, 0.06630503198140018, 0.03315251599070009, 0.03315251599070009, 0.4309827078791012, 0.033621479605275555, 0.5043221940791334, 0.16810739802637778, 0.10086443881582667, 0.06724295921055111, 0.06724295921055111, 0.0405918976559954, 0.0811837953119908, 0.2841432835919678, 0.44651087421594937, 0.1217756929679862, 0.4018019858867823, 0.5775903547122495, 0.025112624117923893, 0.20604709815809913, 0.20604709815809913, 0.13736473210539943, 0.41209419631619826, 0.6785029801316066, 0.04240643625822541, 0.12721930877467624, 0.12721930877467624, 0.13874275391768331, 0.09249516927845555, 0.13874275391768331, 0.5087234310315055, 0.046247584639227776, 0.09249516927845555, 0.1716288159627486, 0.06805970288177961, 0.20417910864533884, 0.09469176053117163, 0.07989617294817607, 0.09765087804777074, 0.0887735254979734, 0.05918235033198227, 0.008877352549797341, 0.008877352549797341, 0.0443867627489867, 0.062141467848581385, 0.011836470066396454, 0.07412786028214023, 0.05559589521160518, 0.2965114411285609, 0.018531965070535058, 0.33357537126963105, 0.05559589521160518, 0.05559589521160518, 0.07412786028214023, 0.018531965070535058, 0.9040909586756384, 0.02916422447340769, 0.02916422447340769, 0.040785968463115344, 0.08157193692623069, 0.2855017792418074, 0.040785968463115344, 0.08157193692623069, 0.4486456530942688, 0.104595362062162, 0.836762896497296, 0.15718020403039126, 0.7859010201519563, 0.17700001561900644, 0.04425000390475161, 0.6195000546665225, 0.04425000390475161, 0.08850000780950322, 0.21470706478462878, 0.10305939109662181, 0.2490601951501694, 0.03435313036554061, 0.18035393441908817, 0.04294141295692575, 0.017176565182770304, 0.14600080405354757, 0.008588282591385152, 0.7143328757499655, 0.13393741420311855, 0.08929160946874569, 0.8025117213413191, 0.18519501261722748, 0.037399003999445964, 0.9349750999861491, 0.1505850852886456, 0.1505850852886456, 0.1505850852886456, 0.5521453127250339, 0.25510414415668664, 0.25510414415668664, 0.3401388588755822, 0.20957027393522729, 0.007484652640543831, 0.22453957921631493, 0.10478513696761364, 0.04490791584326299, 0.08981583168652597, 0.06736187376489448, 0.20208562129468344, 0.022453957921631493, 0.022453957921631493, 0.11405758993074365, 0.020737743623771572, 0.32143502616845937, 0.062213230871314716, 0.1555330771782868, 0.062213230871314716, 0.23848405167337308, 0.020737743623771572, 0.2032308319044522, 0.5806595197270064, 0.17419785591810188, 0.6857445458704629, 0.20572336376113887, 0.7453752845602332, 0.1863438211400583, 0.3085145943828552, 0.3085145943828552, 0.3085145943828552, 0.050229531531666434, 0.059362173628333056, 0.05479585257999975, 0.06392849467666638, 0.1141580262083328, 0.146122273546666, 0.1095917051599995, 0.04566321048333312, 0.073061136773333, 0.0776274578216663, 0.02283160524166656, 0.059362173628333056, 0.027397926289999874, 0.09132642096666624, 0.5575333408044124, 0.044602667264352996, 0.17841066905741199, 0.022301333632176498, 0.133808001793059, 0.0669040008965295, 0.05560515847422457, 0.13504109915168824, 0.18270266355816644, 0.19858985169365917, 0.06354875254197094, 0.3415745449130938, 0.015887188135492735, 0.970323172356944, 0.11375802111071243, 0.6256691161089183, 0.028439505277678107, 0.19907653694374675, 0.025824281227301096, 0.07747284368190328, 0.18076996859110767, 0.15494568736380657, 0.15494568736380657, 0.38736421840951646, 0.03207457076071941, 0.12829828304287763, 0.12829828304287763, 0.11226099766251793, 0.24055928070539556, 0.03207457076071941, 0.22452199532503586, 0.08018642690179852, 0.12039013519766067, 0.722340811185964, 0.0902926013982455, 0.03009753379941517, 0.9518078656298655, 0.11313316033433506, 0.6787989620060103, 0.11313316033433506, 0.1955508894340011, 0.7170199279246706, 0.0651836298113337, 0.20637846917758432, 0.13758564611838955, 0.20637846917758432, 0.06879282305919478, 0.34396411529597387, 0.9411899003987383, 0.9418625431002988, 0.10119965927940527, 0.10119965927940527, 0.4047986371176211, 0.3035989778382158, 0.34402903928582046, 0.4587053857144273, 0.14604438883723977, 0.024340731472873293, 0.024340731472873293, 0.17038512031011305, 0.3894517035659727, 0.07302219441861989, 0.12170365736436647, 0.024340731472873293, 0.29719715579692374, 0.042456736542417675, 0.042456736542417675, 0.12737020962725304, 0.042456736542417675, 0.29719715579692374, 0.08491347308483535, 0.8474975745843485, 0.05912773776169874, 0.07883698368226498, 0.12795967931350782, 0.767758075881047, 0.1815223399980204, 0.7260893599920816, 0.07162291795740046, 0.039790509976333585, 0.421779405749136, 0.11539247893136739, 0.011937152992900076, 0.007958101995266717, 0.003979050997633358, 0.26659641684143504, 0.02785335698343351, 0.023874305985800152, 0.003979050997633358, 0.9588078528229287, 0.042912048162576544, 0.7724168669263778, 0.12873614448772963, 0.32005061115918887, 0.035561179017687655, 0.035561179017687655, 0.10668353705306295, 0.4267341482122518, 0.07112235803537531, 0.9810200606931843, 0.16939792477226825, 0.22586389969635767, 0.5872461392105299, 0.4390209424155169, 0.5365811518411874, 0.030470817506623223, 0.23157821305033652, 0.030470817506623223, 0.4265914450927251, 0.030470817506623223, 0.02437665400529858, 0.13407159702914218, 0.06703579851457109, 0.01218832700264929, 0.9634549437860336, 0.18375207196402768, 0.24500276261870357, 0.21437741729136564, 0.03828168165917244, 0.09187603598201384, 0.030625345327337947, 0.007656336331834487, 0.007656336331834487, 0.03828168165917244, 0.015312672663668973, 0.1148450449775173, 0.07694692815639112, 0.25648976052130373, 0.02564897605213037, 0.07694692815639112, 0.07694692815639112, 0.07694692815639112, 0.35908566472982517, 0.05129795210426074, 0.6815219729010655, 0.11358699548351092, 0.11358699548351092, 0.047451380858288546, 0.2982658225378137, 0.0067787686940412204, 0.24403567298548393, 0.07456645563445342, 0.07795583998147404, 0.047451380858288546, 0.027115074776164882, 0.12201783649274196, 0.02033630608212366, 0.0067787686940412204, 0.027115074776164882, 0.6855124103364173, 0.16235820244809884, 0.027059700408016474, 0.0901990013600549, 0.01803980027201098, 0.08440755292918925, 0.675260423433514, 0.1688151058583785, 0.9097105903375009, 0.407367679172275, 0.0987558010114606, 0.02468895025286515, 0.0987558010114606, 0.320956353287247, 0.0493779005057303, 0.3631440101930258, 0.025938857870930414, 0.5447160152895387, 0.025938857870930414, 0.5363565861690711, 0.03742022694202822, 0.012473408980676073, 0.22452136165216932, 0.1372074987874368, 0.024946817961352147, 0.024946817961352147, 0.1787105991344497, 0.1787105991344497, 0.1787105991344497, 0.4169913979803826, 0.06416490014914863, 0.12832980029829727, 0.06416490014914863, 0.44915430104404047, 0.03208245007457432, 0.28874205067116887, 0.4231109937815499, 0.4231109937815499, 0.14461009267047387, 0.07230504633523693, 0.7230504633523693, 0.14730444085906386, 0.09820296057270923, 0.04910148028635462, 0.63831924372261, 0.39608343446488353, 0.5545168082508369, 0.07921668689297671, 0.07851806949904665, 0.8636987644895131, 0.09215894927102418, 0.09215894927102418, 0.6451126448971692, 0.9377716716382909, 0.22039068058513628, 0.17501612869996117, 0.18635976667125492, 0.0032410394203696512, 0.01782571681203308, 0.2592831536295721, 0.0696823475379475, 0.02430779565277238, 0.022687275942587556, 0.0016205197101848256, 0.004861559130554477, 0.0016205197101848256, 0.011343637971293778, 0.05154178337325739, 0.025770891686628696, 0.33502159192617303, 0.025770891686628696, 0.05154178337325739, 0.05154178337325739, 0.4638760503593165, 0.021850359724021606, 0.6555107917206482, 0.15295251806815124, 0.13110215834412964, 0.021850359724021606, 0.010925179862010803, 0.010925179862010803, 0.31629150544423174, 0.1890034605703336, 0.03471492132924495, 0.12343083139287092, 0.03471492132924495, 0.03857213481027216, 0.12343083139287092, 0.023143280886163298, 0.015428853924108865, 0.01928606740513608, 0.05400098873438103, 0.027000494367190514, 0.12452883461290218, 0.32911192004838435, 0.12452883461290218, 0.04447458379032221, 0.12452883461290218, 0.008894916758064442, 0.16010850164515994, 0.05336950054838665, 0.03557966703225777, 0.062124678891940704, 0.7144338072573181, 0.2070822629731357, 0.010354113148656785, 0.1531637980703353, 0.20421839742711376, 0.5616005929245629, 0.028207352056117296, 0.014103676028058648, 0.14103676028058648, 0.6205617452345805, 0.11282940822446919, 0.042311028084175945, 0.042311028084175945, 0.12031722550284406, 0.3007930637571101, 0.06015861275142203, 0.4211102892599542, 0.06015861275142203, 0.04383232797191723, 0.06574849195787585, 0.19724547587362756, 0.04383232797191723, 0.6355687555927999, 0.8834786208598608, 0.03841211395042873, 0.0576181709256431, 0.049487812262385265, 0.9072765581437299, 0.01649593742079509, 0.1656735384575022, 0.43854760179927055, 0.1656735384575022, 0.21927380089963527, 0.009745502262206012, 0.054226404095526426, 0.16267921228657928, 0.5964904450507907, 0.10845280819105285, 0.054226404095526426, 0.21392994142779886, 0.4991698633315307, 0.21392994142779886, 0.10359702222383532, 0.20719404444767064, 0.10359702222383532, 0.5179851111191767, 0.005150000490076469, 0.37080003528550576, 0.030900002940458814, 0.14420001372214114, 0.010300000980152938, 0.07725000735114704, 0.005150000490076469, 0.010300000980152938, 0.3347500318549705, 0.005150000490076469, 0.010300000980152938, 0.1342224285329628, 0.40266728559888837, 0.4218419182464545, 0.019174632647566112, 0.007017300497699922, 0.2596401184148971, 0.08420760597239905, 0.1157854582120487, 0.0806989557235491, 0.11929410846089866, 0.06666435472814926, 0.10525950746549882, 0.010525950746549882, 0.10525950746549882, 0.03508650248849961, 0.010525950746549882, 0.2783858342889589, 0.6495669466742374, 0.18085445846138112, 0.32553802523048603, 0.16276901261524301, 0.32553802523048603, 0.14192484404840894, 0.023654140674734824, 0.16557898472314375, 0.1892331253978786, 0.4494286728199616, 0.04333728521573819, 0.04333728521573819, 0.08667457043147637, 0.6067219930203347, 0.04333728521573819, 0.08667457043147637, 0.04333728521573819, 0.7470046442672046, 0.18675116106680115, 0.6422840513467025, 0.07136489459407806, 0.047576596396052044, 0.023788298198026022, 0.09515319279210409, 0.047576596396052044, 0.047576596396052044, 0.023788298198026022, 0.11103007213889106, 0.24981766231250488, 0.1387875901736138, 0.49963532462500976, 0.96602378222641, 0.8191516369242225, 0.10239395461552782, 0.12208228914266109, 0.7935348794272971, 0.17251891572345646, 0.43129728930864114, 0.38816756037777705, 0.03618468546032223, 0.07236937092064447, 0.5065855964445113, 0.28947748368257786, 0.03618468546032223, 0.09424327497652014, 0.3769730999060806, 0.1884865499530403, 0.3769730999060806, 0.6873279463948092, 0.2291093154649364, 0.1440294589094309, 0.092590366441777, 0.24690764384473865, 0.08230254794824622, 0.020575636987061555, 0.07201472945471545, 0.05143909246765389, 0.1440294589094309, 0.010287818493530778, 0.092590366441777, 0.05143909246765389, 0.2263374341271959, 0.33950615119079386, 0.33950615119079386, 0.1530944047856924, 0.2296416071785386, 0.1148208035892693, 0.4592832143570772, 0.0338863679394343, 0.1355454717577372, 0.2372045755760401, 0.1694318396971715, 0.04235795992429287, 0.059301143894010026, 0.07624432786372717, 0.1355454717577372, 0.008471591984858575, 0.01694318396971715, 0.008471591984858575, 0.07624432786372717, 0.10542293078619325, 0.01757048846436554, 0.0878524423218277, 0.15813439617928987, 0.1757048846436554, 0.10542293078619325, 0.3338392808229453, 0.11382161642838327, 0.34146484928514986, 0.11382161642838327, 0.34146484928514986, 0.34482935552285254, 0.34482935552285254, 0.22988623701523503, 0.1709068346191288, 0.7690807557860796, 0.027506964184617382, 0.1008588686769304, 0.045844940307695634, 0.42177345083079987, 0.018337976123078255, 0.3392525582769477, 0.03667595224615651, 0.009168988061539127, 0.016523678339687188, 0.34699724513343094, 0.1321894267174975, 0.049571035019061564, 0.016523678339687188, 0.19828414007624626, 0.09914207003812313, 0.08261839169843593, 0.049571035019061564, 0.13918273517657778, 0.016701928221189336, 0.03340385644237867, 0.36187511145910223, 0.03897116584944178, 0.03340385644237867, 0.16701928221189336, 0.15588466339776713, 0.050105784663568, 0.17071871511055525, 0.7682342179974987, 0.23455593371246092, 0.25587920041359374, 0.021323266701132812, 0.49043513412605466, 0.08460476007154684, 0.3525198336314451, 0.24911401576622125, 0.19741110683360927, 0.09870555341680463, 0.004700264448419269, 0.004700264448419269, 0.04074305745988797, 0.2240868160293838, 0.5500312757084875, 0.04074305745988797, 0.1222291723796639, 0.020371528729943984, 0.014264303340480037, 0.21396455010720056, 0.21396455010720056, 0.47072201023584126, 0.04279291002144011, 0.028528606680960075, 0.056393283223246306, 0.18932030796375546, 0.17320794132854223, 0.5196238239856267, 0.056393283223246306, 0.004028091658803308, 0.7575169009850237, 0.18937922524625592, 0.9346416439155909, 0.032229022203985894, 0.047209574109153114, 0.047209574109153114, 0.7081436116372967, 0.023604787054576557, 0.047209574109153114, 0.07081436116372967, 0.07081436116372967, 0.06587086003197216, 0.19761258009591648, 0.6257731703037356, 0.03293543001598608, 0.03293543001598608, 0.03293543001598608, 0.30573307026108665, 0.6624216522323545, 0.8259061852280828, 0.12706249003508965, 0.17023741553601013, 0.6809496621440405, 0.11349161035734008, 0.10115580460360535, 0.8092464368288428, 0.012416950377934062, 0.08691865264553844, 0.0031042375944835155, 0.02793813835035164, 0.2576517203421318, 0.11485679099589008, 0.2638601955310988, 0.02172966316138461, 0.09312712783450547, 0.0031042375944835155, 0.04345932632276922, 0.06208475188967031, 0.012416950377934062, 0.18520182815429007, 0.38892383912400913, 0.07408073126171603, 0.07408073126171603, 0.03704036563085802, 0.2407623766005771, 0.048845321045683045, 0.17909951050083783, 0.08140886840947174, 0.0325635473637887, 0.651270947275774, 0.5406168260501181, 0.15446195030003373, 0.15446195030003373, 0.07723097515001687, 0.9379909164991151, 0.6806803941133223, 0.08508504926416528, 0.25525514779249586, 0.24369884418791254, 0.12184942209395627, 0.5686306364384626, 0.04061647403131876, 0.19016583753405256, 0.19016583753405256, 0.5704975126021578, 0.041232811032216064, 0.027488540688144044, 0.08246562206443213, 0.5497708137628808, 0.027488540688144044, 0.013744270344072022, 0.1924197848170083, 0.041232811032216064, 0.013744270344072022, 0.11591760849023072, 0.11591760849023072, 0.6955056509413844, 0.03930389340193338, 0.13756362690676685, 0.2947792005145004, 0.03930389340193338, 0.01965194670096669, 0.31443114721546706, 0.07860778680386676, 0.01965194670096669, 0.03930389340193338, 0.22951156743363968, 0.22951156743363968, 0.22951156743363968, 0.22951156743363968, 0.051218594381887195, 0.6658417269645336, 0.10243718876377439, 0.051218594381887195, 0.051218594381887195, 0.051218594381887195, 0.18591168396002683, 0.37182336792005366, 0.2873180570291324, 0.1521095596036583, 0.7678615595577527, 0.02559538531859176, 0.12797692659295878, 0.05119077063718352, 0.17067505790046125, 0.5973627026516144, 0.17067505790046125, 0.3535796470719753, 0.027198434390151946, 0.16319060634091168, 0.027198434390151946, 0.4079765158522792, 0.03011452068515526, 0.9335501412398132, 0.03011452068515526, 0.6714815074600508, 0.29545186328242234, 0.7955336153807404, 0.11364765934010577, 0.08671235585878571, 0.008671235585878572, 0.41621930812217145, 0.07804112027290715, 0.0953835914446643, 0.19943841847520716, 0.11272606261642143, 0.14127681966133993, 0.020182402808762843, 0.12109441685257707, 0.7063840983066996, 0.7470045082101888, 0.1867511270525472, 0.7044683007644988, 0.27395989474174953, 0.2568828393015376, 0.5993932917035878, 0.21674282161797206, 0.5779808576479255, 0.14449521441198138, 0.07224760720599069, 0.020831281887545867, 0.2916379464256421, 0.08332512755018347, 0.4791194834135549, 0.020831281887545867, 0.08332512755018347, 0.020831281887545867, 0.11243496141875316, 0.006883773148086927, 0.13538087191237624, 0.46350739197118646, 0.10555118827066623, 0.0504810030859708, 0.004589182098724619, 0.12161332561620239, 0.05093678371864238, 0.7131149720609934, 0.20374713487456952, 0.08707083494684141, 0.11319208543089383, 0.15672750290431453, 0.03482833397873656, 0.07836375145215727, 0.026121250484052422, 0.01741416698936828, 0.11319208543089383, 0.00870708349468414, 0.3656975067767339, 0.18302609243944304, 0.5490782773183291, 0.18302609243944304, 0.12038015767775224, 0.06019007883887612, 0.481520630711009, 0.045142559129157094, 0.21066527593606643, 0.06019007883887612, 0.8388524473956445, 0.1198360639136635, 0.8608505329030265, 0.12297864755757522, 0.026176919292271505, 0.017451279528181003, 0.6282460630145161, 0.11343331693317653, 0.06107947834863351, 0.07853075787681452, 0.06980511811272401, 0.07955827054756796, 0.1988956763689199, 0.6762452996543277, 0.307495071616041, 0.614990143232082, 0.27652118280619575, 0.5991292294134241, 0.04608686380103262, 0.3821310443958455, 0.03184425369965379, 0.06368850739930758, 0.15922126849826895, 0.3184425369965379, 0.7466911180372556, 0.09333638975465695, 0.09333638975465695, 0.17602716519192724, 0.08801358259596362, 0.704108660767709, 0.2134287780425579, 0.08537151121702316, 0.17074302243404632, 0.12805726682553473, 0.34148604486809264, 0.8999697334323082, 0.34278627396645467, 0.5998759794412957, 0.0782244993345379, 0.026074833111512635, 0.3650476635611769, 0.39112249667268956, 0.026074833111512635, 0.0782244993345379, 0.026074833111512635, 0.5808655132606502, 0.36304094578790636, 0.05055302332434889, 0.25276511662174445, 0.10110604664869778, 0.05055302332434889, 0.025276511662174445, 0.07582953498652334, 0.05055302332434889, 0.025276511662174445, 0.10110604664869778, 0.25276511662174445, 0.06753763285576704, 0.18010035428204546, 0.6978888728429261, 0.022512544285255683, 0.022512544285255683, 0.2346390812530286, 0.07821302708434287, 0.625704216674743, 0.06416483736575579, 0.16041209341438947, 0.032082418682877895, 0.12832967473151158, 0.16041209341438947, 0.41707144287741266, 0.032082418682877895, 0.18238522792629897, 0.7295409117051959, 0.06079507597543299, 0.9647445859752419, 0.7505632172600015, 0.06823301975090923, 0.13646603950181846, 0.5119865561026464, 0.040958924488211715, 0.06143838673231758, 0.22527408468516444, 0.08191784897642343, 0.08191784897642343, 0.23346840671562288, 0.5447596156697867, 0.15564560447708192, 0.07848210552317354, 0.31392842209269417, 0.47089263313904123, 0.15696421104634709, 0.03344677661940359, 0.16723388309701795, 0.04180847077425449, 0.08361694154850897, 0.08361694154850897, 0.3093826837294832, 0.05853185908395628, 0.10034032985821077, 0.09197863570335987, 0.016723388309701794, 0.008361694154850897, 0.682788068246894, 0.2048364204740682, 0.9447167620955458, 0.1385519158377804, 0.6465756072429751, 0.1385519158377804, 0.04618397194592679, 0.7062271331580403, 0.15693936292400895, 0.07846968146200448, 0.1852980327896978, 0.09545656234620796, 0.033690551416308695, 0.011230183805436231, 0.011230183805436231, 0.3930564331902681, 0.016845275708154347, 0.13476220566523478, 0.0056150919027181155, 0.1066867461516442, 0.07214188687123493, 0.40399456647891563, 0.12985539636822288, 0.014428377374246987, 0.10099864161972891, 0.24528241536219877, 0.04328513212274096, 0.4296210067621123, 0.10740525169052807, 0.16110787753579212, 0.21481050338105614, 0.30269832039387995, 0.49532452428089446, 0.15134916019693997, 0.02751802912671636, 0.1770470371073932, 0.730319028067997, 0.0885235185536966, 0.4567845683274556, 0.4567845683274556, 0.314119291078293, 0.040531521429457165, 0.3526242364362773, 0.09119592321627862, 0.006079728214418574, 0.006079728214418574, 0.08308961893038719, 0.040531521429457165, 0.020265760714728583, 0.0020265760714728584, 0.012159456428837149, 0.004053152142945717, 0.006079728214418574, 0.024318912857674298, 0.7709780728782628, 0.06424817273985524, 0.12849634547971048, 0.152296348837232, 0.35535814728687465, 0.456889046511696, 0.04842152729901978, 0.19368610919607912, 0.6294798548872572, 0.09684305459803956, 0.0227408870979086, 0.030321182797211466, 0.7504492742309838, 0.030321182797211466, 0.08338325269233153, 0.08338325269233153, 0.11483917135481253, 0.057419585677406265, 0.7464546138062814, 0.9567727355431884, 0.2782060276585214, 0.4018531510623087, 0.24729424680757459, 0.04636767127642023, 0.015455890425473412, 0.027711280620462294, 0.8313384186138688, 0.13855640310231146, 0.7638526535115426, 0.19096316337788566, 0.9288599452087796, 0.043202788149245566, 0.12383517258252427, 0.1651135634433657, 0.7017326446343042, 0.05563958204361165, 0.1112791640872233, 0.07418610939148221, 0.741861093914822, 0.8275142411226069, 0.10343928014032586, 0.7053511739035994, 0.07837235265595548, 0.03918617632797774, 0.15674470531191095, 0.2143883085005877, 0.16079123137544077, 0.2143883085005877, 0.32158246275088154, 0.05359707712514693, 0.4874557153010742, 0.13767833180259348, 0.30140391556783974, 0.011163107983994065, 0.0037210359946646884, 0.05209450392530564, 0.0037210359946646884, 0.5377354145994216, 0.09777007538171303, 0.09777007538171303, 0.2444251884542826, 0.023696101909675586, 0.23696101909675585, 0.11848050954837792, 0.26065712100643146, 0.07108830572902676, 0.26065712100643146, 0.023696101909675586, 0.3089896159959168, 0.2752816578872713, 0.33707958108645464, 0.02247197207243031, 0.050561937162968196, 0.05064552300853111, 0.22790485353839002, 0.6457304183587717, 0.05064552300853111, 0.012661380752132778, 0.09387213449862845, 0.09387213449862845, 0.5632328069917707, 0.1877442689972569, 0.0188994199559552, 0.0755976798238208, 0.1700947796035968, 0.2645918793833728, 0.188994199559552, 0.0566982598678656, 0.0377988399119104, 0.1700947796035968, 0.8213354239831361, 0.10266692799789201, 0.04048787136094594, 0.8502452985798649, 0.08097574272189188, 0.04300944826504152, 0.1720377930601661, 0.7311606205057058, 0.44340527030051397, 0.0524296772314797, 0.02097187089259188, 0.17376693025290413, 0.011983926224338215, 0.10186337290687483, 0.007489953890211385, 0.08688346512645206, 0.02396785244867643, 0.03595177867301465, 0.004493972334126831, 0.016477898558465046, 0.008987944668253662, 0.01048593544629594, 0.1472963515023495, 0.7610311494288057, 0.07364817575117474, 0.04371924952433587, 0.04371924952433587, 0.014573083174778623, 0.3934732457190228, 0.14573083174778623, 0.29146166349557245, 0.04371924952433587, 0.09390867862075634, 0.09390867862075634, 0.09390867862075634, 0.4695433931037817, 0.1878173572415127, 0.12232927850643534, 0.07747520972074239, 0.06524228187009885, 0.016310570467524713, 0.053009354019455314, 0.6116463925321767, 0.05708699663633649, 0.9705266965749789, 0.016733218906465154, 0.006680189487126705, 0.758201506788881, 0.01670047371781676, 0.006680189487126705, 0.14028397922966082, 0.0033400947435633524, 0.006680189487126705, 0.03340094743563352, 0.02672075794850682, 0.9081800903913578, 0.08514188347418979, 0.08648814136811965, 0.5362264764823419, 0.03459525654724786, 0.13838102618899145, 0.13838102618899145, 0.01729762827362393, 0.01729762827362393, 0.9566776595000277, 0.07880767229153132, 0.005629119449395094, 0.056291194493950945, 0.03940383614576566, 0.08443679174092641, 0.27019773357096455, 0.15198622513366755, 0.056291194493950945, 0.022516477797580377, 0.11258238898790189, 0.016887358348185284, 0.011258238898790188, 0.09006591119032151, 0.5009307119017931, 0.27409416311607543, 0.21738502591964604, 0.03301050085327683, 0.26408400682621463, 0.03301050085327683, 0.13204200341310732, 0.0990315025598305, 0.13204200341310732, 0.06602100170655366, 0.198063005119661, 0.047112658338245815, 0.047112658338245815, 0.21200696252210616, 0.21200696252210616, 0.023556329169122908, 0.3062322791985978, 0.07066898750736872, 0.047112658338245815, 0.03858436167076347, 0.19292180835381736, 0.11575308501229041, 0.11575308501229041, 0.4244279783783982, 0.07716872334152694, 0.014922014360140816, 0.17906417232168978, 0.10445410052098571, 0.5968805744056327, 0.08953208616084489, 0.23510208037888342, 0.058775520094720854, 0.058775520094720854, 0.5877552009472085, 0.2579584690055483, 0.2579584690055483, 0.11464820844691036, 0.3152825732290035, 0.25668013281159713, 0.1540080796869583, 0.10267205312463887, 0.46202423906087486, 0.12602605777542988, 0.05041042311017196, 0.06301302888771494, 0.18903908666314484, 0.11342345199788689, 0.17013517799683034, 0.06301302888771494, 0.03780781733262897, 0.01260260577754299, 0.06931433177648644, 0.03150651444385747, 0.03150651444385747, 0.03780781733262897, 0.779630729880815, 0.07087552089825591, 0.14175104179651182, 0.026583332808302485, 0.42533332493283976, 0.5316666561660497, 0.7831729717994762, 0.15663459435989524, 0.03915864858997381, 0.10723848121023405, 0.05677331358188861, 0.025232583814172718, 0.3027910057700726, 0.10723848121023405, 0.05677331358188861, 0.031540729767715894, 0.11354662716377723, 0.1198547731173204, 0.04415702167480225, 0.03784887572125908, 0.3073764240086379, 0.5379087420151164, 0.07684410600215948, 0.11206631970772032, 0.7844642379540423, 0.840846005429726, 0.1285999773010169, 0.01978461189246414, 0.03039673792059926, 0.942298875538577, 0.06807605013985969, 0.8339316142132812, 0.08509506267482463, 0.5167749764974563, 0.039751921269035095, 0.35776729142131586, 0.07086017502134057, 0.33658583135136766, 0.07086017502134057, 0.08857521877667571, 0.12400530628734599, 0.3011557438406974, 0.3032091644615213, 0.24256733156921703, 0.4244928302461298, 0.6339053238194282, 0.08452070984259044, 0.08452070984259044, 0.04226035492129522, 0.12678106476388565, 0.08452070984259044, 0.04693640165426979, 0.18774560661707915, 0.18774560661707915, 0.14080920496280935, 0.4693640165426979, 0.1689428900436696, 0.5913001151528436, 0.1689428900436696, 0.1334158055955543, 0.2668316111911086, 0.5336632223822172, 0.9297463094422536, 0.1574500554355576, 0.2361750831533364, 0.2361750831533364, 0.3149001108711152, 0.163769809466087, 0.12282735709956524, 0.163769809466087, 0.0818849047330435, 0.45036697603173925, 0.31728183568812146, 0.090651953053749, 0.5892376948493685, 0.0373981164663582, 0.0186990582331791, 0.5983698634617312, 0.11219434939907459, 0.22438869879814918, 0.7214013593730413, 0.08487074816153427, 0.08487074816153427, 0.042435374080767134, 0.7144775110022373, 0.20413643171492493, 0.16729359738870536, 0.03717635497526786, 0.01858817748763393, 0.09294088743816965, 0.14870541990107145, 0.11152906492580358, 0.01858817748763393, 0.2974108398021429, 0.11152906492580358, 0.3793380080843059, 0.21676457604817478, 0.3793380080843059, 0.03319698378663904, 0.19918190271983421, 0.23237888650647326, 0.5311517405862246, 0.3748981334640593, 0.482011885882362, 0.05355687620915133, 0.05355687620915133, 0.07225299781629492, 0.43351798689776955, 0.43351798689776955, 0.0813109438815429, 0.2168291836841144, 0.0271036479605143, 0.0271036479605143, 0.6233839030918289, 0.1458926195335739, 0.3829681262756315, 0.08206459848763532, 0.10030117592933206, 0.01823657744169674, 0.10030117592933206, 0.07294630976678695, 0.01823657744169674, 0.07294630976678695, 0.342283065061089, 0.42785383132636123, 0.1711415325305445, 0.06243885160261928, 0.012487770320523856, 0.07492662192314313, 0.049951081282095425, 0.7867295301930028, 0.09934245565833072, 0.022076101257406826, 0.36425567074721266, 0.0772663544009239, 0.13245660754444097, 0.011038050628703413, 0.04415220251481365, 0.04415220251481365, 0.0883044050296273, 0.06622830377222048, 0.022076101257406826, 0.04415220251481365, 0.10872268899776208, 0.05436134449888104, 0.05436134449888104, 0.7066974784854535, 0.2289321123842886, 0.2616366998677584, 0.0654091749669396, 0.3924550498016376, 0.0327045874834698, 0.011831882812581395, 0.6625854375045581, 0.011831882812581395, 0.30762895312711624, 0.1367424512852474, 0.019534635897892484, 0.05860390769367745, 0.2734849025704948, 0.4883658974473121, 0.9148605039110171, 0.053815323759471595, 0.9440860599684221, 0.11891980946609608, 0.08108168827233823, 0.027027229424112745, 0.032432675308935295, 0.09729802592680588, 0.08648713415716079, 0.13513614712056374, 0.12973070123574118, 0.043243567078580396, 0.021621783539290198, 0.05945990473304804, 0.11891980946609608, 0.027027229424112745, 0.016216337654467648, 0.01710583666710656, 0.9750326900250739, 0.9133188696043157, 0.27718683697392416, 0.09054770007814857, 0.029566595943885245, 0.02402285920440676, 0.0332624204368709, 0.4009969574889436, 0.0036958244929856557, 0.0036958244929856557, 0.018479122464928277, 0.05728527964127766, 0.005543736739478483, 0.05728527964127766, 0.1108158434857421, 0.24379485566863263, 0.016622376522861314, 0.0997342591371679, 0.1108158434857421, 0.13297901218289052, 0.12743822000860341, 0.016622376522861314, 0.03878554522000974, 0.03878554522000974, 0.027703960871435524, 0.03878554522000974, 0.08165319365486341, 0.8573585333760658, 0.004257284011112695, 0.44382185815849845, 0.004257284011112695, 0.2682088927000998, 0.03192963008334521, 0.03937987710279243, 0.03192963008334521, 0.01170753103055991, 0.05960197615557773, 0.05853765515279956, 0.03192963008334521, 0.014900494038894433, 0.060649120049680455, 0.060649120049680455, 0.8490876806955264, 0.7008651678824995, 0.05006179770589283, 0.05006179770589283, 0.17521629197062488, 0.0640749694405777, 0.0640749694405777, 0.19222490832173308, 0.32037484720288845, 0.32037484720288845, 0.08508373071713533, 0.7657535764542179, 0.08508373071713533, 0.9762181854763263, 0.46644344560702, 0.044850331308367304, 0.008970066261673461, 0.06279046383171423, 0.15249112644844884, 0.07176053009338769, 0.035880265046693845, 0.026910198785020385, 0.017940132523346922, 0.026910198785020385, 0.08073059635506115, 0.06440256564072838, 0.9016359189701973, 0.10769858962524653, 0.37694506368836284, 0.10769858962524653, 0.37694506368836284, 0.10286763187347849, 0.30860289562043547, 0.10286763187347849, 0.41147052749391394, 0.27496163934824847, 0.6874040983706211, 0.17901471737001234, 0.05114706210571781, 0.4091764968457425, 0.025573531052858905, 0.07672059315857672, 0.23016177947573016, 0.16801503691649622, 0.16801503691649622, 0.1826250401266263, 0.007305001605065052, 0.02922000642026021, 0.021915004815195156, 0.17532003852156125, 0.10957502407597579, 0.10957502407597579, 0.021915004815195156, 0.007305001605065052, 0.1663572245432125, 0.38262161644938875, 0.041589306135803125, 0.10813219595308812, 0.05822502859012438, 0.04990716736296375, 0.11645005718024876, 0.0332714449086425, 0.01663572245432125, 0.024953583681481876, 0.7070039330352015, 0.19281925446414586, 0.632019604694323, 0.07900245058679037, 0.15800490117358074, 0.15384820501580057, 0.15384820501580057, 0.15384820501580057, 0.05128273500526686, 0.358979145036868, 0.05128273500526686, 0.032300003441292455, 0.11305001204452358, 0.032300003441292455, 0.5491000585019717, 0.08075000860323113, 0.016150001720646227, 0.1776500189271085, 0.9039365448407564, 0.025560462608622953, 0.051120925217245906, 0.8946161913018034, 0.1208067222254854, 0.36242016667645616, 0.4832268889019416, 0.04832709802644708, 0.9472111213183627, 0.061359988206871885, 0.12271997641374377, 0.12271997641374377, 0.16362663521832502, 0.10226664701145313, 0.10226664701145313, 0.020453329402290627, 0.040906658804581254, 0.24543995282748754, 0.11482549064336767, 0.1377905887720412, 0.057412745321683833, 0.0688952943860206, 0.011482549064336767, 0.1377905887720412, 0.09186039251469413, 0.22965098128673533, 0.011482549064336767, 0.11482549064336767, 0.06408441323906501, 0.07690129588687801, 0.8202804894600321, 0.038450647943439005, 0.6155688948047762, 0.20518963160159204, 0.08604634331857823, 0.3441853732743129, 0.2581390299557347, 0.2581390299557347, 0.08383242664127147, 0.5029945598476289, 0.08383242664127147, 0.25149727992381443, 0.05704127113545548, 0.34224762681273285, 0.11408254227091096, 0.05704127113545548, 0.34224762681273285, 0.16677142985613538, 0.08735646325797568, 0.1350054432168715, 0.262069389773927, 0.00794149665981597, 0.12706394655705552, 0.00794149665981597, 0.023824489979447912, 0.16677142985613538, 0.01588299331963194, 0.2822976899849514, 0.056459537996990286, 0.056459537996990286, 0.22583815198796114, 0.2822976899849514, 0.7778087314654502, 0.05185391543103001, 0.05185391543103001, 0.05185391543103001, 0.2825693679674799, 0.056513873593495974, 0.056513873593495974, 0.5086248623414638, 0.005859246513657933, 0.9902126608081907, 0.45695105376023903, 0.3427132903201793, 0.11423776344005976, 0.8372497475591563, 0.09302774972879514, 0.04933535882317052, 0.03700151911737789, 0.03700151911737789, 0.03700151911737789, 0.25901063382164524, 0.03700151911737789, 0.03700151911737789, 0.03700151911737789, 0.061669198528963146, 0.39468287058536417, 0.02887491450243694, 0.4331237175365541, 0.25024925902112016, 0.009624971500812313, 0.08662474350731082, 0.0769997720064985, 0.08662474350731082, 0.019249943001624626, 0.014064031870718493, 0.2250245099314959, 0.7453936891480801, 0.2216412820852233, 0.6649238462556699, 0.08865651283408932, 0.10252190713603948, 0.20504381427207896, 0.47843556663485093, 0.034173969045346496, 0.1708698452267325, 0.7929377025867009, 0.11327681465524299, 0.47918469168502065, 0.058082992931517655, 0.29041496465758826, 0.10164523763015589, 0.04356224469863824, 0.2800919043101392, 0.5601838086202784, 0.9739130599201404, 0.5130440207310336, 0.019732462335808987, 0.019732462335808987, 0.07892984934323595, 0.3354518597087528, 0.3023894212637576, 0.03901798984048485, 0.1560719593619394, 0.19508994920242428, 0.019508994920242426, 0.0780359796809697, 0.10729947206133335, 0.009754497460121213, 0.04877248730060607, 0.019508994920242426, 0.019508994920242426, 0.5714258450174514, 0.24844601957280496, 0.149067611743683, 0.012422300978640248, 0.6339254275335459, 0.07924067844169323, 0.2377220353250797, 0.010033694437662033, 0.3311119164428471, 0.13043802768960644, 0.4414825552571295, 0.08026955550129626, 0.010033694437662033, 0.6541214545845696, 0.2803377662505298, 0.04709836942784235, 0.8477706497011623, 0.0941967388556847, 0.011271937879356358, 0.30997829168229984, 0.025361860228551806, 0.3804279034282771, 0.04790573598726452, 0.022543875758712716, 0.042269767047586344, 0.05917767386662088, 0.056359689396781786, 0.016907906819034535, 0.028179844698390893, 0.45113425022734177, 0.45113425022734177, 0.2901190814954535, 0.3626488518693169, 0.21758931112159013, 0.18828906792614028, 0.2636046950965964, 0.03765781358522805, 0.37657813585228056, 0.11297344075568416, 0.08793294249184438, 0.20363418261269225, 0.06016464486284089, 0.04628049604833915, 0.30545127391903837, 0.05553659525800698, 0.004628049604833915, 0.10644514091118004, 0.05553659525800698, 0.05553659525800698, 0.01851219841933566, 0.10085950903608355, 0.3810248119140934, 0.369818199798973, 0.12327273326632433, 0.022413224230240787, 0.6100223587263871, 0.3389013104035484, 0.0526708443707151, 0.44211587547539644, 0.036709982440195375, 0.18993425697318475, 0.1931264293592887, 0.012768689544415781, 0.04628649959850721, 0.02234520670272762, 0.0031921723861039453, 0.6187199411032943, 0.07279058130626992, 0.07279058130626992, 0.14558116261253984, 0.03639529065313496, 0.2104961704484754, 0.026312021306059426, 0.1052480852242377, 0.0701653901494918, 0.26312021306059424, 0.0350826950747459, 0.01754134753737295, 0.026312021306059426, 0.01754134753737295, 0.01754134753737295, 0.12278943276161065, 0.0701653901494918, 0.008770673768686475, 0.3749944854453494, 0.05357064077790706, 0.4285651262232565, 0.05357064077790706, 0.0202158634348679, 0.06064759030460369, 0.0404317268697358, 0.0404317268697358, 0.0202158634348679, 0.10107931717433949, 0.14151104404407527, 0.06064759030460369, 0.5053965858716974, 0.08521742586427239, 0.19884066034996892, 0.5397103638070585, 0.08521742586427239, 0.028405808621424132, 0.028405808621424132, 0.26203429385761945, 0.06046945242868141, 0.20156484142893802, 0.16125187314315043, 0.06046945242868141, 0.06046945242868141, 0.020156484142893803, 0.18140835728604424, 0.08526028610182577, 0.3410411444073031, 0.17052057220365155, 0.3410411444073031, 0.10207227931271062, 0.6124336758762637, 0.2551806982817766, 0.6412355657077704, 0.20203312344217422, 0.10540858614374307, 0.017568097690623848, 0.017568097690623848, 0.1543149739900775, 0.22553726967780555, 0.09496306091697077, 0.17805573921932016, 0.03561114784386404, 0.03561114784386404, 0.20773169575587352, 0.005935191307310673, 0.005935191307310673, 0.029675956536553364, 0.011870382614621346, 0.005935191307310673, 0.03679277051117073, 0.09811405469645529, 0.2575493935781951, 0.3801919619487642, 0.012264256837056911, 0.024528513674113822, 0.012264256837056911, 0.14717108204468293, 0.04820864489641651, 0.3695996108725266, 0.03213909659761101, 0.06427819319522202, 0.04820864489641651, 0.016069548298805504, 0.16069548298805503, 0.11248683809163852, 0.14462593468924953, 0.9227530719115795, 0.08415074895829237, 0.08415074895829237, 0.7573567406246314, 0.5894500473555598, 0.33682859848889135, 0.8450587763846357, 0.1408431293974393, 0.18927093440621215, 0.15772577867184345, 0.09463546720310607, 0.09463546720310607, 0.015772577867184345, 0.015772577867184345, 0.11040804507029041, 0.06309031146873738, 0.2523612458749495, 0.17479761965783655, 0.08739880982891828, 0.02184970245722957, 0.0655491073716887, 0.10924851228614785, 0.41514434668736183, 0.0655491073716887, 0.04369940491445914, 0.05361616874243525, 0.7506263623940935, 0.1072323374848705, 0.05361616874243525, 0.08543322572567177, 0.8543322572567178, 0.9168848869161249, 0.03056282956387083, 0.045844244345806244, 0.9571302441880177, 0.7572610318399553, 0.20652573595635143, 0.22202081682353447, 0.15672057658131847, 0.3787413934048529, 0.19590072072664808, 0.026120096096886408, 0.4382383366198597, 0.5008438132798396, 0.1875509709819342, 0.34624794642818624, 0.08656198660704656, 0.04328099330352328, 0.2308319642854575, 0.10098898437488765, 0.04667164141514297, 0.16335074495300037, 0.04667164141514297, 0.07000746212271444, 0.12834701389164316, 0.12834701389164316, 0.08167537247650018, 0.29169775884464355, 0.023335820707571484, 0.9804415399627425, 0.8653547203773156, 0.12258292421077163, 0.1634438989476955, 0.5311926715800104, 0.08172194947384775, 0.04086097473692388, 0.055950830133138806, 0.007992975733305544, 0.24778224773247187, 0.17584546613272198, 0.047957854399833265, 0.03197190293322218, 0.023978927199916632, 0.007992975733305544, 0.007992975733305544, 0.26376819919908295, 0.10390868453297207, 0.007992975733305544, 0.21244985733613012, 0.10622492866806506, 0.6373495720083904, 0.05311246433403253, 0.10307598891590677, 0.20615197783181355, 0.5153799445795338, 0.10307598891590677, 0.02092916636287762, 0.08371666545151048, 0.04185833272575524, 0.18836249726589857, 0.6069458245234509, 0.04185833272575524, 0.13861781346456864, 0.04620593782152287, 0.369647502572183, 0.04620593782152287, 0.04620593782152287, 0.3234415647506601, 0.14569095347054994, 0.21853643020582492, 0.21853643020582492, 0.43707286041164983, 0.3618811687254777, 0.005510880742012351, 0.20573954770179442, 0.08817409187219762, 0.025717443462724303, 0.03857616519408646, 0.10838065459290956, 0.03306528445207411, 0.06245664840947331, 0.025717443462724303, 0.011021761484024702, 0.00918480123668725, 0.022043522968049404, 0.0036739204946749007, 0.05584782169269203, 0.05584782169269203, 0.5584782169269203, 0.2792391084634602, 0.16744385626673025, 0.27907309377788375, 0.5581461875557675, 0.07900423444178407, 0.15800846888356815, 0.15800846888356815, 0.15800846888356815, 0.3160169377671363, 0.6152831881204983, 0.2929919943430944, 0.029299199434309444, 0.029299199434309444, 0.7406951861013715, 0.18517379652534288, 0.0974985698372974, 0.038999427934918965, 0.3119954234793517, 0.1169982838047569, 0.2729959955444327, 0.15599771173967586, 0.23869364880587687, 0.3978227480097948, 0.07956454960195895, 0.23869364880587687, 0.30113470343009896, 0.07227232882322375, 0.12045388137203959, 0.048181552548815836, 0.028105905653475906, 0.12848414013017556, 0.10840849323483563, 0.024090776274407918, 0.004015129379067986, 0.0923479757185637, 0.004015129379067986, 0.008030258758135973, 0.060226940686019796, 0.2677871658927059, 0.30211885382766823, 0.061797038282932135, 0.07552971345691706, 0.020599012760977378, 0.02746535034796984, 0.00686633758699246, 0.02746535034796984, 0.020599012760977378, 0.08239605104390951, 0.08926238863090197, 0.020599012760977378, 0.3511769885298471, 0.08698879532390708, 0.12565048213453245, 0.022552650639531463, 0.08698879532390708, 0.1643121689451578, 0.038661686810625366, 0.006443614468437561, 0.028996265107969023, 0.07410156638703196, 0.012887228936875121, 0.08494753910413087, 0.7645278519371779, 0.1274213086561963, 0.12344925609516262, 0.01645990081268835, 0.024689851219032524, 0.518486875599683, 0.041149752031720874, 0.10698935528247427, 0.04937970243806505, 0.09052945446978593, 0.01645990081268835, 0.0727145652090278, 0.5817165216722224, 0.1454291304180556, 0.0727145652090278, 0.0727145652090278, 0.09351239052784101, 0.14026858579176152, 0.7480991242227281, 0.08449136874806594, 0.07242117321262795, 0.012070195535437991, 0.048280782141751966, 0.5310886035592717, 0.08449136874806594, 0.12070195535437991, 0.036210586606313974, 0.05596521789704822, 0.05596521789704822, 0.8394782684557233, 0.02798260894852411, 0.19806626912183375, 0.7526518226629683, 0.7128522351169989, 0.10183603358814271, 0.10183603358814271, 0.03939030203741786, 0.12604896651973715, 0.14968314774218788, 0.2914882350768922, 0.05514642285238501, 0.14180508733470432, 0.06302448325986858, 0.007878060407483572, 0.12604896651973715, 0.1458763695947681, 0.07293818479738405, 0.6564436631764565, 0.07293818479738405, 0.13373718565565018, 0.5616961797537308, 0.13373718565565018, 0.16048462278678022, 0.977853696971899, 0.3057871354843086, 0.21312436715573022, 0.09266276832857835, 0.03706510733143134, 0.027798830498573505, 0.05559766099714701, 0.1297278756600097, 0.06486393783000485, 0.046331384164289176, 0.027798830498573505, 0.009266276832857835, 0.29081921071434796, 0.5816384214286959, 0.07270480267858699, 0.6009480680825268, 0.3433988960471582, 0.818667475892233, 0.10233343448652912, 0.1556813168681647, 0.7784065843408234, 0.9520218456765259, 0.07361785659946302, 0.22085356979838905, 0.14723571319892603, 0.5153249961962411, 0.2669326881353029, 0.2076143129941245, 0.05931837514117842, 0.22738710470785062, 0.009886395856863071, 0.09886395856863071, 0.09886395856863071, 0.012849739254803361, 0.21844556733165715, 0.10279791403842689, 0.025699478509606723, 0.07709843552882018, 0.0642486962740168, 0.47544035242772437, 0.1056188762364299, 0.20067586484921682, 0.12674265148371588, 0.14786642673100187, 0.14258548291918036, 0.01056188762364299, 0.02112377524728598, 0.1161807638600729, 0.026404719059107476, 0.036966606682750466, 0.05280943811821495, 0.01056188762364299, 0.01056188762364299, 0.02379971059272016, 0.04759942118544032, 0.0339995865610288, 0.06459921446595472, 0.020399751936617277, 0.0033999586561028797, 0.1359983462441152, 0.14959818086852672, 0.15979805683683534, 0.02379971059272016, 0.013599834624411519, 0.12579847027580654, 0.06459921446595472, 0.1359983462441152, 0.05371627341908, 0.18800695696678002, 0.06714534177385001, 0.09400347848339001, 0.08057441012862, 0.12086161519293001, 0.073859875951235, 0.17457788861201, 0.047001739241695005, 0.01342906835477, 0.033572670886925005, 0.04028720506431, 0.09060237049977186, 0.21744568919945245, 0.24462640034938402, 0.018120474099954372, 0.027180711149931557, 0.018120474099954372, 0.2536866373993612, 0.009060237049977186, 0.036240948199908744, 0.036240948199908744, 0.018120474099954372, 0.036240948199908744, 0.21556721771957016, 0.12355681991243656, 0.2865466674565018, 0.04469076464917918, 0.08938152929835835, 0.007886605526325738, 0.06572171271938114, 0.023659816578977214, 0.055206238684280165, 0.07097944973693164, 0.010515474035100983, 0.007886605526325738, 0.09611946045110539, 0.8009955037592116, 0.032039820150368464, 0.06407964030073693, 0.04616759111736097, 0.36934072893888775, 0.5540110934083317, 0.18668546949954032, 0.09334273474977016, 0.5600564084986209, 0.09334273474977016, 0.01722572980638663, 0.9818665989640379, 0.5408403024379407, 0.3605602016252938, 0.8728580718399713, 0.06019710840275664, 0.06019710840275664, 0.07836117547417788, 0.015672235094835577, 0.6817422266253476, 0.08619729302159568, 0.007836117547417788, 0.10186952811643125, 0.015672235094835577, 0.007836117547417788, 0.007836117547417788, 0.03725530026126174, 0.07451060052252348, 0.06519677545720805, 0.11176590078378522, 0.09313825065315436, 0.12107972584910066, 0.009313825065315435, 0.01862765013063087, 0.14902120104504696, 0.21421797650225502, 0.09313825065315436, 0.8483837824104727, 0.09426486471227474, 0.05156047957468575, 0.30467556112314303, 0.15936875504902867, 0.1031209591493715, 0.06093511222462861, 0.05156047957468575, 0.07030974487457148, 0.018749265299885725, 0.06327877038711432, 0.018749265299885725, 0.030467556112314303, 0.009374632649942862, 0.030467556112314303, 0.030467556112314303, 0.08218259421452846, 0.22086572195154522, 0.1078646549065686, 0.08218259421452846, 0.020545648553632116, 0.1078646549065686, 0.17463801270587298, 0.16950160056746494, 0.03081847283044817, 0.10915240444241006, 0.21830480888482012, 0.1637286066636151, 0.3274572133272302, 0.1637286066636151, 0.13433962115371062, 0.13433962115371062, 0.22837735596130804, 0.1477735832690817, 0.026867924230742125, 0.1074716969229685, 0.214943393845937, 0.9614752285567784, 0.17758330523896532, 0.7813665430514474, 0.6523066011274646, 0.031062219101307843, 0.3106221910130784, 0.2401494294009018, 0.7204482882027053, 0.4430436458007204, 0.06329194940010292, 0.4430436458007204, 0.7499654263056513, 0.03408933755934779, 0.13635735023739115, 0.03408933755934779, 0.06443142730250338, 0.06443142730250338, 0.32215713651251693, 0.06443142730250338, 0.3865885638150203, 0.4764894554712205, 0.07523517717966641, 0.32601910111188775, 0.10031356957288853, 0.213100240518443, 0.03278465238745277, 0.08196163096863192, 0.04917697858117915, 0.1147462833560847, 0.06556930477490554, 0.03278465238745277, 0.36063117626198044, 0.06556930477490554, 0.07752255749260206, 0.07752255749260206, 0.17054962648372454, 0.06201804599408165, 0.2713289512241072, 0.06977030174334187, 0.09302706899112248, 0.1317883477374235, 0.04651353449556124, 0.007752255749260206, 0.7448047704979797, 0.09310059631224746, 0.09310059631224746, 0.10420891926272458, 0.05210445963136229, 0.729462434839072, 0.05210445963136229, 0.44252130172354337, 0.5057386305411924, 0.15275671061717372, 0.030551342123434747, 0.030551342123434747, 0.09165402637030425, 0.42771878972808647, 0.030551342123434747, 0.21385939486404323, 0.044629623721993354, 0.17851849488797342, 0.13388887116598006, 0.13388887116598006, 0.40166661349794014, 0.044629623721993354, 0.6839750677681531, 0.17099376694203827, 0.08549688347101914, 0.04787753199876407, 0.09575506399752814, 0.23938765999382033, 0.14363259599629222, 0.4308977879888766, 0.17145120662486152, 0.09525067034714528, 0.07620053627771622, 0.019050134069429056, 0.07620053627771622, 0.1333509384860034, 0.4000528154580102, 0.871100129719006, 0.051241184101118, 0.18581654839400058, 0.5574496451820018, 0.09290827419700029, 0.11025190635607197, 0.7717633444925038, 0.2131352739477792, 0.0532838184869448, 0.5861220033563928, 0.1065676369738896, 0.8300578979049549, 0.15091961780090088, 0.03187707955666012, 0.22313955689662085, 0.28689371600994107, 0.47815619334990184, 0.6888052205835078, 0.05510441764668063, 0.13776104411670156, 0.05510441764668063, 0.027552208823340314, 0.027552208823340314, 0.23302033628353888, 0.3764174663041782, 0.3405681837990184, 0.017924641252579913, 0.07296877927299897, 0.054726584454749226, 0.2918751170919959, 0.1276953637277482, 0.23714853263724664, 0.20066414300074717, 0.08227748002530184, 0.8639135402656694, 0.04113874001265092, 0.387805761962231, 0.3014744439282361, 0.009592368670443876, 0.03973981306326749, 0.17540331283097374, 0.008222030288951894, 0.009592368670443876, 0.043850828207743435, 0.005481353525967929, 0.004111015144475947, 0.013703383814919822, 0.9003352441902165, 0.06752514331426623, 0.06422938330774675, 0.256917533230987, 0.3211469165387337, 0.3211469165387337, 0.047329025281793176, 0.7572644045086908, 0.1893161011271727, 0.046223414147732046, 0.046223414147732046, 0.046223414147732046, 0.6009043839205166, 0.09244682829546409, 0.13867024244319615, 0.6313691304009377, 0.31568456520046884, 0.05281444515196941, 0.07922166772795412, 0.1980541693198853, 0.43571917250374764, 0.026407222575984705, 0.013203611287992353, 0.09242527901594647, 0.06601805643996177, 0.03961083386397706, 0.029566321995692937, 0.25131373696338993, 0.059132643991385875, 0.08869896598707881, 0.08869896598707881, 0.10348212698492527, 0.32522954195262227, 0.029566321995692937, 0.029566321995692937, 0.4806677676259444, 0.08739413956835353, 0.04369706978417676, 0.02184853489208838, 0.3495765582734141, 0.8766997674588761, 0.07969997885989784, 0.961038408980349, 0.07932003671906593, 0.07932003671906593, 0.07932003671906593, 0.7138803304715933, 0.29549357139671534, 0.10553341835596977, 0.12664010202716372, 0.021106683671193952, 0.06332005101358186, 0.3799203060814912, 0.8385791102755425, 0.0931754566972825, 0.7330233043955083, 0.20361758455430787, 0.040723516910861575, 0.2894060853796061, 0.14470304268980305, 0.5788121707592122, 0.1798703601556698, 0.0899351800778349, 0.24732174521404596, 0.31477313027242215, 0.04496759003891745, 0.007494598339819575, 0.037472991699097874, 0.007494598339819575, 0.0599567867185566, 0.01498919667963915, 0.12574121929536763, 0.8173179254198897, 0.1172868467155038, 0.19547807785917298, 0.6059820413634363, 0.0586434233577519, 0.07000006112900915, 0.17818197378293238, 0.12727283841638026, 0.0954546288122852, 0.15272740609965632, 0.21000018338702744, 0.07636370304982816, 0.025454567683276055, 0.012727283841638027, 0.031818209604095066, 0.01909092576245704, 0.9320364514589419, 0.2991109541168242, 0.568310812821966, 0.029911095411682423, 0.059822190823364846, 0.10462746782224906, 0.29644449216303903, 0.5754510730223699, 0.3274905524127477, 0.14555135662788787, 0.5094297481976076, 0.2168559571080656, 0.03614265951801093, 0.4879259034931476, 0.018071329759005467, 0.07228531903602187, 0.018071329759005467, 0.03614265951801093, 0.1084279785540328, 0.013768315131847045, 0.3648603509939467, 0.013768315131847045, 0.5576167628398053, 0.013768315131847045, 0.02753663026369409, 0.04957952919843425, 0.6197441149804281, 0.198318116793737, 0.0991590583968685, 0.45661501220713446, 0.09132300244142688, 0.41095351098642097, 0.11260096320318698, 0.5067043344143414, 0.22520192640637396, 0.11260096320318698, 0.1668820566032532, 0.6675282264130128, 0.13350564528260256, 0.03337641132065064, 0.12025057340724785, 0.781628727147111, 0.06012528670362392, 0.635699606991689, 0.10253219467607887, 0.20506438935215773, 0.020506438935215775, 0.020506438935215775, 0.11415566596335948, 0.7420118287618367, 0.11415566596335948, 0.23488413971326794, 0.029360517464158492, 0.2202038809811887, 0.007340129366039623, 0.007340129366039623, 0.02202038809811887, 0.2789249159095057, 0.1908433635170302, 0.5665922968009589, 0.07082403710011986, 0.03541201855005993, 0.28329614840047945, 0.6686639020640499, 0.14077134780295786, 0.17596418475369735, 0.799250424078396, 0.17126794801679915, 0.08135815303726486, 0.020339538259316215, 0.22373492085247837, 0.020339538259316215, 0.32543261214905944, 0.28475353563042705, 0.04067907651863243, 0.6060271209694781, 0.38785735742046595, 0.2913119053115782, 0.1456559526557891, 0.1456559526557891, 0.36413988163947275, 0.2312193244919581, 0.05780483112298952, 0.05780483112298952, 0.5780483112298953, 0.10858681630156208, 0.015512402328794583, 0.2637108395895079, 0.13961162095915125, 0.031024804657589167, 0.031024804657589167, 0.37229765589107, 0.04653720698638375, 0.07412279689560507, 0.8894735627472609, 0.27965142548815514, 0.09321714182938505, 0.09321714182938505, 0.3728685673175402, 0.09321714182938505, 0.09119998735940746, 0.04559999367970373, 0.04974544765058589, 0.05389090162146805, 0.16996361280616845, 0.10363634927205394, 0.07461817147587883, 0.1741090667770506, 0.07047271750499667, 0.14509088898087552, 0.01658181588352863, 0.34381211191807887, 0.2292080746120526, 0.1146040373060263, 0.2292080746120526, 0.3379644570738821, 0.5914377998792938, 0.09885590386340748, 0.7908472309072598, 0.7171601302664606, 0.10245144718092294, 0.06830096478728197, 0.06830096478728197, 0.25307656434441, 0.050615312868882, 0.050615312868882, 0.556768441557702, 0.1139714902186342, 0.7978004315304394, 0.12424774239217548, 0.12424774239217548, 0.25414310943854074, 0.08471436981284693, 0.12424774239217548, 0.06777149585027754, 0.07341912050446733, 0.07906674515865712, 0.03953337257932856, 0.01129524930837959, 0.005647624654189795, 0.2756492223271612, 0.45941537054526865, 0.18376614821810747, 0.2679975180446961, 0.11724891414455454, 0.05862445707227727, 0.15074860390014155, 0.1758733712168318, 0.008374922438896754, 0.07537430195007078, 0.06699937951117403, 0.02512476731669026, 0.02512476731669026, 0.008374922438896754, 0.016749844877793508, 0.04928663419856461, 0.24643317099282305, 0.14785990259569384, 0.14785990259569384, 0.3450064393899523], \"Term\": [\"000\", \"000\", \"000\", \"000\", \"000\", \"1\", \"1\", \"1\", \"1\", \"1\", \"1\", \"1\", \"1\", \"1\", \"1\", \"1\", \"1\", \"115\", \"115\", \"115\", \"17\", \"17\", \"1862\", \"1862\", \"1862\", \"19\", \"19\", \"19\", \"19\", \"19\", \"19\", \"19\", \"1990\", \"1990\", \"2\", \"2\", \"2\", \"2\", \"2\", \"2\", \"2\", \"2\", \"2\", \"2\", \"2\", \"2002\", \"2002\", \"2002\", \"2010\", \"2010\", \"2010\", \"2010\", \"2010\", \"2014\", \"2014\", \"2014\", \"2014\", \"2014\", \"2014\", \"2016\", \"2016\", \"2016\", \"2016\", \"2016\", \"2016\", \"2016\", \"2016\", \"2016\", \"2016\", \"2016\", \"2019\", \"2019\", \"2019\", \"2019\", \"2019\", \"2019\", \"2019\", \"2019\", \"2019\", \"2020\", \"2020\", \"2020\", \"2020\", \"2020\", \"2020\", \"2020\", \"24\", \"24\", \"24\", \"24\", \"24\", \"24\", \"25\", \"25\", \"25\", \"25\", \"25\", \"28\", \"28\", \"28\", \"3\", \"3\", \"3\", \"3\", \"3\", \"3\", \"412\", \"42\", \"42\", \"42\", \"42\", \"42\", \"423\", \"423\", \"45\", \"45\", \"45\", \"5\", \"5\", \"5\", \"5\", \"5\", \"5\", \"5\", \"50\", \"50\", \"50\", \"50\", \"50\", \"50\", \"500\", \"75\", \"75\", \"75\", \"75\", \"abuse\", \"abuse\", \"abuse\", \"abuse\", \"abuse\", \"abuse\", \"abuse\", \"accepted\", \"accepted\", \"accompany\", \"accompany\", \"accordance\", \"accordance\", \"accordance\", \"accordance\", \"accordance\", \"accordance\", \"accordance\", \"accordance\", \"accordance\", \"account\", \"account\", \"account\", \"account\", \"account\", \"account\", \"accuracy\", \"accuracy\", \"accuracy\", \"accuracy\", \"accuracy\", \"accuracy\", \"accurate\", \"accurate\", \"accurate\", \"accurate\", \"accurate\", \"acf\", \"acf\", \"acf\", \"achieve\", \"achieve\", \"achieve\", \"achieve\", \"acquisition\", \"acquisition\", \"acquisition\", \"acquisition\", \"acros\", \"acros\", \"acros\", \"acros\", \"acros\", \"acros\", \"act\", \"act\", \"act\", \"act\", \"act\", \"act\", \"act\", \"act\", \"act\", \"act\", \"act\", \"act\", \"act\", \"action\", \"action\", \"action\", \"action\", \"action\", \"action\", \"action\", \"action\", \"action\", \"acute\", \"acute\", \"acute\", \"address\", \"address\", \"address\", \"address\", \"address\", \"address\", \"adherence\", \"adherence\", \"adjusted\", \"adjusted\", \"administered\", \"administered\", \"administered\", \"administered\", \"administered\", \"administration\", \"administration\", \"administration\", \"administration\", \"administration\", \"administration\", \"administration\", \"administration\", \"administration\", \"adult\", \"adult\", \"adult\", \"advantage\", \"advantage\", \"adverse\", \"adverse\", \"affect\", \"affect\", \"affect\", \"affect\", \"age\", \"age\", \"age\", \"agenc\", \"agenc\", \"agenc\", \"agenc\", \"agenc\", \"agenc\", \"agenc\", \"agenc\", \"agenc\", \"agenc\", \"agency\", \"agency\", \"agency\", \"agency\", \"agency\", \"agency\", \"agency\", \"agency\", \"aid\", \"aid\", \"aid\", \"alaska\", \"alaska\", \"allocated\", \"allocated\", \"allowed\", \"allowed\", \"allowed\", \"also\", \"also\", \"also\", \"also\", \"also\", \"also\", \"also\", \"also\", \"also\", \"also\", \"also\", \"also\", \"also\", \"also\", \"american\", \"american\", \"american\", \"american\", \"american\", \"american\", \"amount\", \"amount\", \"amount\", \"amount\", \"amount\", \"amount\", \"amount\", \"amp\", \"analysi\", \"analysi\", \"analysi\", \"analysi\", \"analyze\", \"analyze\", \"analyze\", \"analyze\", \"analyze\", \"analyze\", \"annual\", \"annual\", \"annual\", \"annual\", \"annual\", \"annual\", \"annual\", \"annual\", \"application\", \"application\", \"application\", \"application\", \"appropriated\", \"appropriatenes\", \"appropriatenes\", \"appropriatenes\", \"appropriation\", \"appropriation\", \"appropriation\", \"april\", \"april\", \"april\", \"april\", \"april\", \"asp\", \"aspr\", \"assess\", \"assess\", \"assess\", \"assess\", \"assesse\", \"assesse\", \"assessment\", \"assessment\", \"assessment\", \"assessment\", \"assessment\", \"assessment\", \"assessment\", \"assessment\", \"assist\", \"assist\", \"assist\", \"assist\", \"assist\", \"assist\", \"assist\", \"assistance\", \"assistance\", \"assistance\", \"assistant\", \"assistant\", \"assisted\", \"assisted\", \"audit\", \"audit\", \"audit\", \"audit\", \"audit\", \"audit\", \"audit\", \"audit\", \"audit\", \"audit\", \"audit\", \"audited\", \"auditor\", \"auditor\", \"auditor\", \"authorized\", \"authorized\", \"authorized\", \"authorized\", \"authorized\", \"authorized\", \"average\", \"award\", \"award\", \"award\", \"awarded\", \"awarded\", \"b\", \"b\", \"b\", \"b\", \"b\", \"b\", \"b\", \"b\", \"b\", \"background\", \"based\", \"based\", \"based\", \"based\", \"based\", \"based\", \"based\", \"based\", \"based\", \"based\", \"based\", \"basi\", \"basi\", \"basi\", \"basi\", \"basi\", \"basi\", \"basi\", \"basi\", \"become\", \"become\", \"become\", \"beneficiar\", \"beneficiar\", \"beneficiar\", \"beneficiar\", \"beneficiar\", \"beneficiar\", \"beneficiar\", \"beneficiar\", \"beneficiar\", \"beneficiar\", \"beneficiar\", \"beneficiar\", \"beneficiary\", \"beneficiary\", \"beneficiary\", \"beneficiary\", \"beneficiary\", \"best\", \"best\", \"best\", \"bidd\", \"bill\", \"bill\", \"bill\", \"bill\", \"bill\", \"bill\", \"billed\", \"billed\", \"billed\", \"billed\", \"billion\", \"billion\", \"billion\", \"billion\", \"billion\", \"billion\", \"billion\", \"body\", \"body\", \"body\", \"body\", \"brief\", \"brief\", \"brief\", \"brief\", \"brief\", \"brief\", \"calculat\", \"calculat\", \"calculate\", \"calculate\", \"calculate\", \"calculated\", \"calculated\", \"calculated\", \"calculated\", \"calculation\", \"calculation\", \"calculation\", \"calendar\", \"calendar\", \"cannot\", \"cannot\", \"cannot\", \"capitation\", \"care\", \"care\", \"care\", \"care\", \"care\", \"care\", \"care\", \"care\", \"care\", \"care\", \"care\", \"care\", \"care\", \"case\", \"case\", \"case\", \"case\", \"case\", \"case\", \"case\", \"cdc\", \"cdc\", \"cdc\", \"cdc\", \"cdc\", \"cdc\", \"cdc\", \"center\", \"center\", \"center\", \"center\", \"center\", \"center\", \"center\", \"center\", \"center\", \"center\", \"center\", \"center\", \"certain\", \"certain\", \"certain\", \"certain\", \"certain\", \"certain\", \"certain\", \"certain\", \"certain\", \"cfr\", \"cfr\", \"cfr\", \"cfr\", \"ch\", \"ch\", \"ch\", \"challenge\", \"challenge\", \"challenge\", \"challenge\", \"challenge\", \"challenge\", \"challenge\", \"characteristic\", \"characteristic\", \"characteristic\", \"characteristic\", \"characteristic\", \"charge\", \"charge\", \"charge\", \"charge\", \"charge\", \"check\", \"check\", \"check\", \"child\", \"child\", \"child\", \"children\", \"children\", \"children\", \"children\", \"children\", \"circular\", \"circular\", \"circular\", \"circular\", \"circular\", \"citizen\", \"citizen\", \"citizen\", \"civil\", \"civil\", \"civil\", \"civil\", \"claim\", \"claim\", \"claim\", \"claim\", \"claim\", \"claim\", \"claim\", \"claim\", \"claim\", \"claim\", \"claim\", \"clinical\", \"clinical\", \"clinical\", \"clinical\", \"cm\", \"cm\", \"cm\", \"cm\", \"cm\", \"cm\", \"cm\", \"cm\", \"cm\", \"cm\", \"cm\", \"cm\", \"cod\", \"cod\", \"code\", \"code\", \"code\", \"code\", \"collect\", \"collect\", \"collect\", \"collect\", \"collect\", \"collected\", \"collected\", \"collected\", \"collected\", \"collected\", \"collected\", \"collected\", \"columbia\", \"columbia\", \"community\", \"community\", \"community\", \"community\", \"community\", \"community\", \"community\", \"community\", \"compare\", \"compare\", \"compare\", \"compare\", \"comparison\", \"compensation\", \"compensation\", \"competitive\", \"competitive\", \"complaint\", \"complaint\", \"complaint\", \"complete\", \"complete\", \"complete\", \"complete\", \"complete\", \"completed\", \"completed\", \"completed\", \"completed\", \"completion\", \"completion\", \"compliance\", \"compliance\", \"compliance\", \"compliance\", \"compliance\", \"compliance\", \"compliance\", \"compliance\", \"compliance\", \"compliance\", \"compliance\", \"complication\", \"complication\", \"complication\", \"component\", \"component\", \"component\", \"component\", \"conduct\", \"conduct\", \"conduct\", \"conduct\", \"conduct\", \"conduct\", \"conduct\", \"conduct\", \"conduct\", \"conduct\", \"conduct\", \"conduct\", \"congres\", \"congres\", \"congres\", \"congres\", \"congres\", \"congres\", \"congres\", \"congressional\", \"congressional\", \"congressional\", \"congressional\", \"consolidated\", \"consolidated\", \"consolidated\", \"continu\", \"continu\", \"contract\", \"contract\", \"contract\", \"contract\", \"contract\", \"contract\", \"contract\", \"contract\", \"contractor\", \"contractor\", \"contractor\", \"contractor\", \"contractor\", \"contractor\", \"contractor\", \"contractor\", \"contractor\", \"control\", \"control\", \"control\", \"control\", \"control\", \"control\", \"control\", \"control\", \"control\", \"cooperative\", \"cooperative\", \"coronaviru\", \"coronaviru\", \"coronaviru\", \"coronaviru\", \"cost\", \"cost\", \"cost\", \"cost\", \"cost\", \"cost\", \"cost\", \"cover\", \"cover\", \"cover\", \"cover\", \"cover\", \"cover\", \"covered\", \"covered\", \"covered\", \"covered\", \"covered\", \"covered\", \"covid\", \"covid\", \"covid\", \"covid\", \"covid\", \"covid\", \"criminal\", \"criminal\", \"crisi\", \"crisi\", \"critical\", \"critical\", \"critical\", \"critical\", \"critical\", \"critical\", \"critical\", \"current\", \"current\", \"current\", \"current\", \"current\", \"current\", \"custody\", \"custody\", \"cy\", \"cy\", \"cybersecurity\", \"cybersecurity\", \"cybersecurity\", \"daily\", \"daily\", \"data\", \"data\", \"data\", \"data\", \"data\", \"data\", \"data\", \"data\", \"data\", \"data\", \"data\", \"data\", \"data\", \"day\", \"day\", \"day\", \"day\", \"day\", \"day\", \"death\", \"death\", \"death\", \"death\", \"death\", \"december\", \"december\", \"december\", \"december\", \"defense\", \"delivered\", \"delivered\", \"delivered\", \"delivery\", \"delivery\", \"delivery\", \"delivery\", \"denied\", \"denied\", \"denied\", \"department\", \"department\", \"department\", \"department\", \"department\", \"department\", \"department\", \"department\", \"department\", \"describ\", \"describ\", \"describ\", \"describe\", \"describe\", \"describe\", \"describe\", \"describe\", \"describe\", \"describe\", \"describe\", \"describe\", \"detail\", \"detail\", \"detail\", \"detail\", \"determined\", \"determined\", \"determined\", \"determined\", \"determined\", \"determined\", \"device\", \"device\", \"device\", \"device\", \"diagnose\", \"diagnose\", \"diagnose\", \"diagnose\", \"diagnosed\", \"diagnosed\", \"diagnosed\", \"diagnosi\", \"diagnosi\", \"diagnosi\", \"diagnosi\", \"diagnosi\", \"disaster\", \"disaster\", \"disaster\", \"discharge\", \"discharge\", \"discretion\", \"discretion\", \"disease\", \"disease\", \"disease\", \"disease\", \"disease\", \"disease\", \"disease\", \"disorder\", \"disorder\", \"disorder\", \"disorder\", \"district\", \"district\", \"dmepo\", \"dmepo\", \"doctor\", \"doctor\", \"document\", \"document\", \"document\", \"document\", \"documentation\", \"documentation\", \"documentation\", \"documentation\", \"documentation\", \"documentation\", \"documentation\", \"drug\", \"drug\", \"drug\", \"drug\", \"drug\", \"drug\", \"drug\", \"drug\", \"dual\", \"dual\", \"dual\", \"e\", \"e\", \"e\", \"e\", \"e\", \"e\", \"e\", \"e\", \"e\", \"e\", \"efficient\", \"efficient\", \"efficient\", \"effort\", \"effort\", \"effort\", \"effort\", \"effort\", \"effort\", \"emerg\", \"emerg\", \"emergenc\", \"emergenc\", \"emergency\", \"emergency\", \"emergency\", \"emergency\", \"emergency\", \"emergency\", \"emergency\", \"employee\", \"employee\", \"employee\", \"enable\", \"enable\", \"encounter\", \"encounter\", \"encounter\", \"end\", \"end\", \"end\", \"end\", \"end\", \"enhance\", \"enhance\", \"enhance\", \"enrollee\", \"enrollee\", \"enrollee\", \"entit\", \"entit\", \"entit\", \"entit\", \"entit\", \"entity\", \"epidemic\", \"epidemic\", \"error\", \"error\", \"error\", \"error\", \"error\", \"error\", \"error\", \"estimated\", \"estimated\", \"evaluate\", \"evaluate\", \"evaluate\", \"evaluate\", \"evaluate\", \"evaluate\", \"evaluate\", \"evaluate\", \"evaluate\", \"evaluate\", \"event\", \"event\", \"event\", \"event\", \"event\", \"evidence\", \"evidence\", \"evidence\", \"exceed\", \"exceed\", \"exceed\", \"exceed\", \"exceed\", \"exceed\", \"exceed\", \"excessive\", \"excessive\", \"excessive\", \"expand\", \"expansion\", \"expansion\", \"expansion\", \"expenditure\", \"expenditure\", \"expenditure\", \"expenditure\", \"expenditure\", \"expenditure\", \"experience\", \"experience\", \"experience\", \"experienced\", \"experienced\", \"experienced\", \"experienced\", \"extent\", \"extent\", \"extent\", \"extent\", \"extent\", \"extent\", \"extent\", \"extent\", \"extent\", \"extent\", \"extent\", \"external\", \"external\", \"extreme\", \"face\", \"face\", \"face\", \"face\", \"faced\", \"faced\", \"faced\", \"facilit\", \"facilit\", \"facilit\", \"facilit\", \"facilit\", \"facilit\", \"facilit\", \"facilit\", \"facilit\", \"facilit\", \"facility\", \"facility\", \"facility\", \"facility\", \"facility\", \"facility\", \"facility\", \"factor\", \"factor\", \"factor\", \"factor\", \"famil\", \"famil\", \"famil\", \"famil\", \"fda\", \"fda\", \"fda\", \"february\", \"february\", \"federal\", \"federal\", \"federal\", \"federal\", \"federal\", \"federal\", \"federal\", \"federal\", \"federal\", \"federal\", \"federal\", \"federal\", \"federal\", \"federal\", \"federally\", \"federally\", \"federally\", \"fee\", \"fee\", \"fee\", \"final\", \"final\", \"final\", \"final\", \"financial\", \"financial\", \"financial\", \"financial\", \"financial\", \"financial\", \"find\", \"find\", \"find\", \"fmap\", \"food\", \"food\", \"food\", \"food\", \"food\", \"foreign\", \"foreign\", \"foreign\", \"formular\", \"formular\", \"foster\", \"foster\", \"four\", \"four\", \"four\", \"fraud\", \"fraud\", \"fraud\", \"fraud\", \"fulfill\", \"fulfill\", \"full\", \"full\", \"full\", \"full\", \"function\", \"function\", \"function\", \"function\", \"function\", \"fund\", \"fund\", \"fund\", \"fund\", \"fund\", \"fund\", \"fund\", \"furnished\", \"furnished\", \"furnished\", \"furnished\", \"generally\", \"generally\", \"generally\", \"generally\", \"generally\", \"generally\", \"generally\", \"grant\", \"grant\", \"grant\", \"grant\", \"grant\", \"grantee\", \"grantee\", \"grantee\", \"grantee\", \"grantee\", \"greater\", \"greater\", \"greater\", \"greater\", \"guidance\", \"guidance\", \"guidance\", \"guidance\", \"guidance\", \"guidance\", \"guidance\", \"guidance\", \"guide\", \"guide\", \"harm\", \"harm\", \"harm\", \"head\", \"head\", \"head\", \"health\", \"health\", \"health\", \"health\", \"health\", \"health\", \"health\", \"health\", \"health\", \"health\", \"health\", \"health\", \"health\", \"health\", \"hha\", \"hha\", \"hha\", \"high\", \"high\", \"high\", \"high\", \"high\", \"high\", \"high\", \"highlighted\", \"highlighted\", \"highlighted\", \"highlighted\", \"highlighted\", \"home\", \"home\", \"home\", \"home\", \"home\", \"home\", \"home\", \"hospice\", \"hospice\", \"hospital\", \"hospital\", \"hospital\", \"hospital\", \"hospital\", \"hospital\", \"hospital\", \"hospital\", \"hospital\", \"hrsa\", \"hrsa\", \"human\", \"human\", \"human\", \"human\", \"human\", \"human\", \"human\", \"hurricane\", \"identify\", \"identify\", \"identify\", \"identify\", \"identify\", \"identify\", \"identify\", \"identify\", \"identify\", \"identify\", \"identify\", \"identify\", \"identify\", \"ih\", \"ih\", \"ih\", \"implementation\", \"implementation\", \"implementation\", \"implementation\", \"implementation\", \"implementation\", \"implementation\", \"implementation\", \"implemented\", \"implemented\", \"implemented\", \"implemented\", \"implemented\", \"implemented\", \"implemented\", \"implemented\", \"important\", \"important\", \"important\", \"important\", \"important\", \"important\", \"improper\", \"improper\", \"improper\", \"improper\", \"improper\", \"improv\", \"improv\", \"improv\", \"improv\", \"incentive\", \"incentive\", \"incentive\", \"incentive\", \"incident\", \"incident\", \"incident\", \"incident\", \"includ\", \"includ\", \"includ\", \"includ\", \"includ\", \"includ\", \"includ\", \"includ\", \"includ\", \"includ\", \"includ\", \"includ\", \"includ\", \"indian\", \"indian\", \"indian\", \"infection\", \"infection\", \"infection\", \"infectiou\", \"infectiou\", \"infectiou\", \"information\", \"information\", \"information\", \"information\", \"information\", \"information\", \"information\", \"information\", \"information\", \"information\", \"information\", \"infrastructure\", \"infrastructure\", \"infrastructure\", \"injury\", \"injury\", \"inpatient\", \"inpatient\", \"inpatient\", \"inspection\", \"inspection\", \"institute\", \"institute\", \"institute\", \"institution\", \"institution\", \"institution\", \"integrity\", \"integrity\", \"integrity\", \"integrity\", \"integrity\", \"integrity\", \"interest\", \"interest\", \"interest\", \"interview\", \"interview\", \"interview\", \"interview\", \"interview\", \"interview\", \"investigation\", \"investigation\", \"investigation\", \"investigation\", \"investigation\", \"investment\", \"investment\", \"investment\", \"involv\", \"involv\", \"involv\", \"iv\", \"june\", \"june\", \"june\", \"june\", \"key\", \"key\", \"key\", \"key\", \"key\", \"laborator\", \"laborator\", \"laborator\", \"laboratory\", \"laboratory\", \"laboratory\", \"laboratory\", \"laboratory\", \"les\", \"les\", \"les\", \"les\", \"lesson\", \"lesson\", \"level\", \"level\", \"level\", \"level\", \"level\", \"level\", \"level\", \"level\", \"level\", \"life\", \"life\", \"life\", \"limit\", \"limit\", \"limit\", \"limit\", \"location\", \"location\", \"location\", \"location\", \"los\", \"los\", \"los\", \"lower\", \"lower\", \"lower\", \"lower\", \"lower\", \"made\", \"made\", \"made\", \"made\", \"made\", \"made\", \"made\", \"made\", \"made\", \"manag\", \"manag\", \"manag\", \"managed\", \"managed\", \"managed\", \"managed\", \"managed\", \"management\", \"management\", \"management\", \"management\", \"management\", \"management\", \"management\", \"management\", \"management\", \"management\", \"management\", \"management\", \"mandate\", \"mandate\", \"mandate\", \"mandate\", \"manual\", \"manual\", \"manual\", \"manual\", \"manual\", \"manufacturer\", \"manufacturer\", \"manufacturer\", \"manufacturer\", \"market\", \"market\", \"market\", \"market\", \"market\", \"marketplace\", \"marketplace\", \"material\", \"may\", \"may\", \"may\", \"may\", \"may\", \"may\", \"may\", \"may\", \"may\", \"may\", \"may\", \"may\", \"may\", \"may\", \"mco\", \"mco\", \"mechanism\", \"medicaid\", \"medicaid\", \"medicaid\", \"medicaid\", \"medicaid\", \"medicaid\", \"medicaid\", \"medicaid\", \"medicaid\", \"medicaid\", \"medicaid\", \"medicaid\", \"medical\", \"medical\", \"medical\", \"medical\", \"medical\", \"medical\", \"medical\", \"medical\", \"medical\", \"medical\", \"medical\", \"medical\", \"medically\", \"medically\", \"medicare\", \"medicare\", \"medicare\", \"medicare\", \"medicare\", \"medicare\", \"medicare\", \"medicare\", \"medicare\", \"medicare\", \"medicare\", \"medicare\", \"medication\", \"medication\", \"medication\", \"mental\", \"mental\", \"mental\", \"mental\", \"method\", \"method\", \"method\", \"method\", \"method\", \"methodology\", \"methodology\", \"methodology\", \"mfcu\", \"million\", \"million\", \"million\", \"million\", \"million\", \"million\", \"million\", \"million\", \"million\", \"million\", \"million\", \"misuse\", \"misuse\", \"model\", \"model\", \"model\", \"model\", \"modernization\", \"modernization\", \"modernization\", \"modernization\", \"modifier\", \"modifier\", \"month\", \"month\", \"month\", \"month\", \"month\", \"month\", \"must\", \"must\", \"must\", \"must\", \"must\", \"must\", \"must\", \"must\", \"must\", \"must\", \"must\", \"national\", \"national\", \"national\", \"national\", \"national\", \"national\", \"national\", \"national\", \"national\", \"national\", \"native\", \"native\", \"nature\", \"nature\", \"nature\", \"nearly\", \"nearly\", \"nearly\", \"nearly\", \"nearly\", \"nearly\", \"necessary\", \"necessary\", \"necessary\", \"necessary\", \"necessary\", \"necessary\", \"necessary\", \"necessity\", \"neglect\", \"neglect\", \"neglect\", \"network\", \"network\", \"network\", \"nih\", \"nih\", \"non\", \"non\", \"non\", \"non\", \"non\", \"non\", \"non\", \"non\", \"non\", \"number\", \"number\", \"number\", \"number\", \"number\", \"number\", \"number\", \"number\", \"number\", \"number\", \"nurs\", \"nurs\", \"nurs\", \"nurs\", \"obligation\", \"obligation\", \"occurred\", \"occurred\", \"occurred\", \"occurred\", \"october\", \"october\", \"october\", \"october\", \"offer\", \"offer\", \"offer\", \"offer\", \"offer\", \"office\", \"office\", \"office\", \"office\", \"office\", \"office\", \"office\", \"office\", \"office\", \"office\", \"official\", \"official\", \"official\", \"official\", \"official\", \"omb\", \"omb\", \"omb\", \"omb\", \"operated\", \"operated\", \"operated\", \"operated\", \"opioid\", \"opioid\", \"opportunit\", \"opportunit\", \"opportunit\", \"option\", \"option\", \"order\", \"order\", \"order\", \"order\", \"order\", \"order\", \"order\", \"order\", \"order\", \"order\", \"organization\", \"organization\", \"organization\", \"organization\", \"organization\", \"organization\", \"organization\", \"organization\", \"orr\", \"orr\", \"orr\", \"orthotic\", \"orthotic\", \"orthotic\", \"outcome\", \"outcome\", \"outcome\", \"outcome\", \"outcome\", \"outlined\", \"outlined\", \"outpatient\", \"outpatient\", \"outpatient\", \"outpatient\", \"outpatient\", \"outside\", \"outside\", \"overdose\", \"overpayment\", \"overpayment\", \"overpayment\", \"overpayment\", \"overpayment\", \"oversight\", \"oversight\", \"oversight\", \"oversight\", \"oversight\", \"oversight\", \"oversight\", \"oversight\", \"oversight\", \"oversight\", \"oversight\", \"paid\", \"paid\", \"paid\", \"paid\", \"pain\", \"pain\", \"pain\", \"pandemic\", \"pandemic\", \"pandemic\", \"pandemic\", \"pandemic\", \"pandemic\", \"paper\", \"paper\", \"parent\", \"parent\", \"parent\", \"part\", \"part\", \"part\", \"part\", \"part\", \"part\", \"part\", \"part\", \"part\", \"part\", \"part\", \"particular\", \"particular\", \"particularly\", \"particularly\", \"particularly\", \"partner\", \"partner\", \"partner\", \"partner\", \"partner\", \"patient\", \"patient\", \"patient\", \"patient\", \"patient\", \"patient\", \"patient\", \"patient\", \"patient\", \"patient\", \"patient\", \"pay\", \"pay\", \"pay\", \"pay\", \"pay\", \"payer\", \"payer\", \"payment\", \"payment\", \"payment\", \"payment\", \"payment\", \"payment\", \"payment\", \"payment\", \"payment\", \"people\", \"people\", \"people\", \"people\", \"people\", \"percent\", \"percent\", \"percent\", \"percent\", \"percent\", \"percent\", \"percent\", \"percent\", \"percent\", \"percent\", \"percent\", \"percent\", \"percent\", \"percentage\", \"percentage\", \"percentage\", \"percentage\", \"performance\", \"performance\", \"performance\", \"performance\", \"performance\", \"performance\", \"performance\", \"performance\", \"performance\", \"performed\", \"performed\", \"performed\", \"performed\", \"performed\", \"performed\", \"period\", \"period\", \"period\", \"period\", \"period\", \"period\", \"period\", \"period\", \"person\", \"person\", \"person\", \"person\", \"pharmac\", \"pharmac\", \"pharmac\", \"physician\", \"physician\", \"physician\", \"physician\", \"physician\", \"plan\", \"plan\", \"plan\", \"plan\", \"plan\", \"plan\", \"plan\", \"plan\", \"plan\", \"plan\", \"plan\", \"plan\", \"polic\", \"polic\", \"polic\", \"polic\", \"polic\", \"polic\", \"polic\", \"polic\", \"policy\", \"policy\", \"policy\", \"policy\", \"policy\", \"policy\", \"policy\", \"policy\", \"policy\", \"position\", \"positive\", \"positive\", \"positive\", \"possible\", \"possible\", \"post\", \"post\", \"potential\", \"potential\", \"potential\", \"potential\", \"potential\", \"potential\", \"potential\", \"potential\", \"potential\", \"practice\", \"practice\", \"practice\", \"practice\", \"practice\", \"practice\", \"practice\", \"practice\", \"practitioner\", \"practitioner\", \"practitioner\", \"practitioner\", \"prepar\", \"prepar\", \"preparednes\", \"preparednes\", \"preparednes\", \"prescrib\", \"prescriber\", \"prescriber\", \"prescription\", \"prescription\", \"prescription\", \"prescription\", \"prescription\", \"president\", \"president\", \"prevention\", \"prevention\", \"prevention\", \"prevention\", \"prevention\", \"prevention\", \"previou\", \"previou\", \"previou\", \"previou\", \"previou\", \"previou\", \"previou\", \"previou\", \"previou\", \"price\", \"principle\", \"private\", \"private\", \"private\", \"private\", \"private\", \"procedure\", \"procedure\", \"procedure\", \"procedure\", \"procedure\", \"procedure\", \"procedure\", \"procedure\", \"procedure\", \"procedure\", \"procedure\", \"procedure\", \"process\", \"process\", \"process\", \"process\", \"produced\", \"produced\", \"produced\", \"produced\", \"product\", \"product\", \"product\", \"product\", \"product\", \"product\", \"professional\", \"professional\", \"professional\", \"professional\", \"professional\", \"professional\", \"profit\", \"profit\", \"profit\", \"profit\", \"program\", \"program\", \"program\", \"program\", \"program\", \"program\", \"program\", \"program\", \"program\", \"program\", \"program\", \"program\", \"program\", \"program\", \"progres\", \"progres\", \"progres\", \"progres\", \"project\", \"project\", \"project\", \"property\", \"property\", \"property\", \"property\", \"property\", \"prospective\", \"prospective\", \"prospective\", \"prospective\", \"prosthetic\", \"prosthetic\", \"protect\", \"protect\", \"protect\", \"protect\", \"protect\", \"protect\", \"protocol\", \"protocol\", \"protocol\", \"protocol\", \"provide\", \"provide\", \"provide\", \"provide\", \"provide\", \"provide\", \"provide\", \"provide\", \"provide\", \"provide\", \"provide\", \"provide\", \"provide\", \"provided\", \"provided\", \"provided\", \"provided\", \"provided\", \"provided\", \"provided\", \"provided\", \"provided\", \"provided\", \"provided\", \"provided\", \"provider\", \"provider\", \"provider\", \"provider\", \"provider\", \"provider\", \"provider\", \"provider\", \"provider\", \"provider\", \"provider\", \"pub\", \"pub\", \"pub\", \"public\", \"public\", \"public\", \"public\", \"public\", \"public\", \"public\", \"public\", \"public\", \"publicly\", \"publicly\", \"publicly\", \"publicly\", \"publicly\", \"purchase\", \"purchase\", \"purchase\", \"quality\", \"quality\", \"quality\", \"quality\", \"quality\", \"quality\", \"quality\", \"quality\", \"quarter\", \"quarter\", \"quarter\", \"quarter\", \"quarterly\", \"quarterly\", \"questionable\", \"questionable\", \"questionable\", \"rate\", \"rate\", \"rate\", \"rate\", \"rate\", \"rate\", \"rate\", \"rate\", \"rate\", \"rather\", \"rather\", \"rather\", \"rather\", \"reasonable\", \"reasonable\", \"reasonable\", \"reasonable\", \"rebate\", \"receive\", \"receive\", \"receive\", \"receive\", \"receive\", \"receive\", \"receive\", \"receive\", \"receive\", \"receive\", \"receive\", \"recently\", \"recently\", \"recently\", \"recognized\", \"recognized\", \"reduced\", \"reduced\", \"reduction\", \"reduction\", \"reform\", \"registered\", \"registered\", \"registered\", \"registered\", \"regulation\", \"regulation\", \"regulation\", \"regulation\", \"regulation\", \"regulation\", \"regulation\", \"reimbursement\", \"reimbursement\", \"reimbursement\", \"reimbursement\", \"reimbursement\", \"reimbursement\", \"reimbursement\", \"related\", \"related\", \"related\", \"related\", \"related\", \"related\", \"related\", \"related\", \"related\", \"related\", \"related\", \"related\", \"related\", \"report\", \"report\", \"report\", \"report\", \"report\", \"report\", \"report\", \"report\", \"report\", \"report\", \"report\", \"report\", \"report\", \"report\", \"require\", \"require\", \"require\", \"require\", \"require\", \"require\", \"require\", \"require\", \"require\", \"require\", \"require\", \"require\", \"required\", \"required\", \"required\", \"required\", \"required\", \"required\", \"required\", \"required\", \"required\", \"required\", \"required\", \"required\", \"requirement\", \"requirement\", \"requirement\", \"requirement\", \"requirement\", \"requirement\", \"requirement\", \"requirement\", \"requirement\", \"requirement\", \"requirement\", \"requirement\", \"research\", \"research\", \"research\", \"research\", \"resettlement\", \"resettlement\", \"resettlement\", \"resid\", \"resid\", \"resid\", \"resid\", \"resident\", \"resident\", \"respiratory\", \"respiratory\", \"respond\", \"respond\", \"respond\", \"response\", \"response\", \"response\", \"response\", \"response\", \"response\", \"response\", \"response\", \"response\", \"result\", \"result\", \"result\", \"result\", \"result\", \"result\", \"result\", \"result\", \"result\", \"result\", \"result\", \"retain\", \"retain\", \"review\", \"review\", \"review\", \"review\", \"review\", \"review\", \"review\", \"review\", \"review\", \"review\", \"review\", \"review\", \"review\", \"review\", \"risk\", \"risk\", \"risk\", \"risk\", \"risk\", \"risk\", \"risk\", \"risk\", \"risk\", \"rule\", \"rule\", \"rule\", \"rule\", \"rule\", \"safety\", \"safety\", \"safety\", \"safety\", \"safety\", \"safety\", \"safety\", \"sale\", \"samhsa\", \"samhsa\", \"saving\", \"saving\", \"saving\", \"schedule\", \"schedule\", \"school\", \"school\", \"school\", \"screen\", \"screen\", \"screen\", \"screen\", \"second\", \"second\", \"second\", \"second\", \"second\", \"secretary\", \"secretary\", \"secretary\", \"secretary\", \"section\", \"section\", \"section\", \"section\", \"section\", \"section\", \"section\", \"section\", \"section\", \"security\", \"security\", \"security\", \"security\", \"security\", \"security\", \"security\", \"security\", \"security\", \"security\", \"seek\", \"seek\", \"seek\", \"senior\", \"senior\", \"senior\", \"senior\", \"separately\", \"separately\", \"ser\", \"ser\", \"ser\", \"ser\", \"ser\", \"ser\", \"ser\", \"seriou\", \"seriou\", \"seriou\", \"seriou\", \"seriou\", \"seriou\", \"served\", \"served\", \"served\", \"severe\", \"severe\", \"severe\", \"severe\", \"severe\", \"share\", \"share\", \"share\", \"share\", \"share\", \"share\", \"share\", \"shelter\", \"shelter\", \"show\", \"show\", \"show\", \"signed\", \"signed\", \"single\", \"single\", \"single\", \"single\", \"snf\", \"snf\", \"source\", \"source\", \"source\", \"source\", \"sponsor\", \"sponsor\", \"sponsor\", \"sponsor\", \"sponsor\", \"sponsor\", \"staff\", \"staff\", \"staff\", \"staff\", \"standard\", \"standard\", \"standard\", \"standard\", \"standard\", \"standard\", \"start\", \"start\", \"start\", \"state\", \"state\", \"state\", \"state\", \"state\", \"state\", \"state\", \"state\", \"state\", \"state\", \"state\", \"statement\", \"statement\", \"statistical\", \"statistical\", \"statistical\", \"statistical\", \"stay\", \"stay\", \"stay\", \"strateg\", \"strateg\", \"strateg\", \"strateg\", \"strateg\", \"strateg\", \"strategic\", \"strategic\", \"study\", \"study\", \"study\", \"study\", \"study\", \"study\", \"study\", \"study\", \"study\", \"submit\", \"submit\", \"submit\", \"submit\", \"submit\", \"submit\", \"submit\", \"submit\", \"submit\", \"substance\", \"substance\", \"substance\", \"substance\", \"substance\", \"substitute\", \"substitute\", \"substitution\", \"summarize\", \"summarize\", \"summarize\", \"summarize\", \"suppl\", \"suppl\", \"suppl\", \"suppl\", \"suppl\", \"suppl\", \"supplemental\", \"supplemental\", \"supplier\", \"supplier\", \"supplier\", \"supply\", \"supply\", \"supply\", \"support\", \"support\", \"support\", \"support\", \"support\", \"support\", \"support\", \"support\", \"support\", \"support\", \"surgical\", \"surgical\", \"survey\", \"survey\", \"survey\", \"survey\", \"system\", \"system\", \"system\", \"system\", \"system\", \"system\", \"system\", \"system\", \"system\", \"system\", \"system\", \"technical\", \"technology\", \"technology\", \"technology\", \"technology\", \"telehealth\", \"telehealth\", \"telehealth\", \"temporary\", \"temporary\", \"temporary\", \"term\", \"term\", \"term\", \"term\", \"term\", \"term\", \"term\", \"term\", \"test\", \"test\", \"test\", \"test\", \"test\", \"test\", \"therapy\", \"therapy\", \"therapy\", \"therapy\", \"threat\", \"threat\", \"threat\", \"timely\", \"timely\", \"timely\", \"timely\", \"title\", \"title\", \"title\", \"title\", \"top\", \"top\", \"top\", \"transfer\", \"transfer\", \"transfer\", \"transfer\", \"transfer\", \"travel\", \"travel\", \"travel\", \"treatment\", \"treatment\", \"treatment\", \"treatment\", \"treatment\", \"treatment\", \"treatment\", \"treatment\", \"trend\", \"trend\", \"trend\", \"trend\", \"tribal\", \"tribal\", \"tribal\", \"tribe\", \"tribe\", \"two\", \"two\", \"two\", \"two\", \"two\", \"two\", \"two\", \"unaccompanied\", \"unaccompanied\", \"unallowable\", \"unallowable\", \"unallowable\", \"unallowable\", \"unit\", \"unit\", \"unit\", \"unit\", \"united\", \"united\", \"united\", \"united\", \"united\", \"united\", \"united\", \"united\", \"universit\", \"universit\", \"updated\", \"updated\", \"updated\", \"updated\", \"updated\", \"use\", \"use\", \"use\", \"use\", \"use\", \"use\", \"use\", \"use\", \"use\", \"use\", \"use\", \"vary\", \"vary\", \"vary\", \"vary\", \"verify\", \"verify\", \"viru\", \"viru\", \"waiver\", \"waiver\", \"waiver\", \"waiver\", \"waste\", \"waste\", \"waste\", \"waste\", \"weaknesse\", \"weaknesse\", \"work\", \"work\", \"work\", \"work\", \"work\", \"work\", \"work\", \"work\", \"work\", \"work\", \"work\", \"world\", \"world\", \"world\", \"year\", \"year\", \"year\", \"year\", \"year\", \"year\", \"year\", \"year\", \"year\", \"year\", \"year\", \"year\", \"\\u00bd\", \"\\u00bd\", \"\\u00bd\", \"\\u00bd\", \"\\u00bd\"]}, \"R\": 30, \"lambda.step\": 0.01, \"plot.opts\": {\"xlab\": \"PC1\", \"ylab\": \"PC2\"}, \"topic.order\": [1, 5, 13, 4, 8, 14, 12, 3, 7, 9, 6, 10, 11, 2]};\n",
              "\n",
              "function LDAvis_load_lib(url, callback){\n",
              "  var s = document.createElement('script');\n",
              "  s.src = url;\n",
              "  s.async = true;\n",
              "  s.onreadystatechange = s.onload = callback;\n",
              "  s.onerror = function(){console.warn(\"failed to load library \" + url);};\n",
              "  document.getElementsByTagName(\"head\")[0].appendChild(s);\n",
              "}\n",
              "\n",
              "if(typeof(LDAvis) !== \"undefined\"){\n",
              "   // already loaded: just create the visualization\n",
              "   !function(LDAvis){\n",
              "       new LDAvis(\"#\" + \"ldavis_el611398047463651368283132491\", ldavis_el611398047463651368283132491_data);\n",
              "   }(LDAvis);\n",
              "}else if(typeof define === \"function\" && define.amd){\n",
              "   // require.js is available: use it to load d3/LDAvis\n",
              "   require.config({paths: {d3: \"https://d3js.org/d3.v5\"}});\n",
              "   require([\"d3\"], function(d3){\n",
              "      window.d3 = d3;\n",
              "      LDAvis_load_lib(\"https://cdn.jsdelivr.net/gh/bmabey/pyLDAvis@3.3.1/pyLDAvis/js/ldavis.v3.0.0.js\", function(){\n",
              "        new LDAvis(\"#\" + \"ldavis_el611398047463651368283132491\", ldavis_el611398047463651368283132491_data);\n",
              "      });\n",
              "    });\n",
              "}else{\n",
              "    // require.js not available: dynamically load d3 & LDAvis\n",
              "    LDAvis_load_lib(\"https://d3js.org/d3.v5.js\", function(){\n",
              "         LDAvis_load_lib(\"https://cdn.jsdelivr.net/gh/bmabey/pyLDAvis@3.3.1/pyLDAvis/js/ldavis.v3.0.0.js\", function(){\n",
              "                 new LDAvis(\"#\" + \"ldavis_el611398047463651368283132491\", ldavis_el611398047463651368283132491_data);\n",
              "            })\n",
              "         });\n",
              "}\n",
              "</script>"
            ]
          },
          "metadata": {},
          "execution_count": 46
        }
      ]
    },
    {
      "cell_type": "markdown",
      "source": [
        "### What is 'part' and 'b'?\n",
        "- https://www.medicare.gov/what-medicare-covers/what-part-b-covers\n",
        "\n",
        "![image.png](data:image/png;base64,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)"
      ],
      "metadata": {
        "id": "0XGSpDsowtKn"
      }
    },
    {
      "cell_type": "code",
      "source": [
        "#Topics Generated\n",
        "for idx, topic in lda_model.print_topics(-1):\n",
        "    print('Topic: {} \\nWords: {}'.format(idx, topic))"
      ],
      "metadata": {
        "colab": {
          "base_uri": "https://localhost:8080/"
        },
        "id": "H93n29w63fXx",
        "outputId": "22842a92-65a9-4acf-9667-57dba64dada2"
      },
      "execution_count": 42,
      "outputs": [
        {
          "output_type": "stream",
          "name": "stdout",
          "text": [
            "Topic: 0 \n",
            "Words: 0.039*\"drug\" + 0.030*\"price\" + 0.026*\"medicare\" + 0.024*\"amp\" + 0.021*\"report\" + 0.019*\"amount\" + 0.017*\"security\" + 0.017*\"reimbursement\" + 0.017*\"average\" + 0.014*\"test\"\n",
            "Topic: 1 \n",
            "Words: 0.052*\"part\" + 0.039*\"home\" + 0.036*\"drug\" + 0.035*\"medicare\" + 0.022*\"beneficiar\" + 0.021*\"hha\" + 0.017*\"prescription\" + 0.016*\"nurs\" + 0.015*\"resident\" + 0.015*\"cost\"\n",
            "Topic: 2 \n",
            "Words: 0.031*\"act\" + 0.025*\"program\" + 0.020*\"risk\" + 0.016*\"visit\" + 0.015*\"review\" + 0.015*\"requirement\" + 0.012*\"charge\" + 0.012*\"health\" + 0.011*\"compliance\" + 0.010*\"office\"\n",
            "Topic: 3 \n",
            "Words: 0.039*\"state\" + 0.034*\"federal\" + 0.030*\"health\" + 0.023*\"fund\" + 0.021*\"program\" + 0.020*\"grant\" + 0.016*\"nih\" + 0.016*\"requirement\" + 0.011*\"center\" + 0.010*\"care\"\n",
            "Topic: 4 \n",
            "Words: 0.039*\"data\" + 0.027*\"medicare\" + 0.027*\"opioid\" + 0.024*\"beneficiar\" + 0.019*\"cm\" + 0.018*\"risk\" + 0.015*\"identify\" + 0.014*\"part\" + 0.014*\"use\" + 0.013*\"health\"\n",
            "Topic: 5 \n",
            "Words: 0.062*\"medicare\" + 0.044*\"payment\" + 0.035*\"hospital\" + 0.027*\"claim\" + 0.017*\"inpatient\" + 0.014*\"physician\" + 0.014*\"requirement\" + 0.013*\"review\" + 0.013*\"care\" + 0.012*\"beneficiary\"\n",
            "Topic: 6 \n",
            "Words: 0.027*\"health\" + 0.024*\"children\" + 0.016*\"state\" + 0.015*\"care\" + 0.015*\"ih\" + 0.014*\"program\" + 0.012*\"facilit\" + 0.011*\"response\" + 0.011*\"emergency\" + 0.011*\"19\"\n",
            "Topic: 7 \n",
            "Words: 0.065*\"medicare\" + 0.025*\"part\" + 0.020*\"payment\" + 0.019*\"telehealth\" + 0.019*\"drug\" + 0.017*\"beneficiar\" + 0.015*\"use\" + 0.014*\"b\" + 0.010*\"review\" + 0.010*\"fee\"\n",
            "Topic: 8 \n",
            "Words: 0.077*\"medicaid\" + 0.051*\"state\" + 0.030*\"care\" + 0.030*\"payment\" + 0.021*\"amp\" + 0.021*\"drug\" + 0.019*\"medicare\" + 0.017*\"center\" + 0.016*\"program\" + 0.015*\"provider\"\n",
            "Topic: 9 \n",
            "Words: 0.033*\"financial\" + 0.030*\"audit\" + 0.029*\"medicare\" + 0.029*\"cost\" + 0.027*\"report\" + 0.027*\"payment\" + 0.018*\"hospice\" + 0.018*\"review\" + 0.014*\"federal\" + 0.014*\"statement\"\n",
            "Topic: 10 \n",
            "Words: 0.023*\"covid\" + 0.023*\"19\" + 0.020*\"health\" + 0.018*\"care\" + 0.016*\"nurs\" + 0.014*\"program\" + 0.014*\"home\" + 0.013*\"state\" + 0.013*\"fund\" + 0.013*\"control\"\n"
          ]
        }
      ]
    },
    {
      "cell_type": "code",
      "source": [
        "#Check how it classifies\n",
        "\n",
        "n = random.randint(0,len(workplan_df))\n",
        "\n",
        "print(workplan_df.iloc[n]['Summary'], end = '')\n",
        "\n",
        "for index, score in sorted(lda_model[corpus[n]], key=lambda tup: -1*tup[1]):\n",
        "\n",
        "    print(\"\\nScore: {}\\t \\nTopic: {}\".format(score, lda_model.print_topic(index, 10)))"
      ],
      "metadata": {
        "colab": {
          "base_uri": "https://localhost:8080/"
        },
        "id": "bbq_xUpK0epd",
        "outputId": "a49bdb59-746c-472c-d36c-fd965ebbe29a"
      },
      "execution_count": 25,
      "outputs": [
        {
          "output_type": "stream",
          "name": "stdout",
          "text": [
            "Centers for Medicare &amp; Medicaid Services is responsible for ensuring that appropriate security controls have been implemented over States' Medicaid information systems.  Prior OIG audits reported that States lack sufficient security features, potentially exposing Medicaid beneficiary health information to unauthorized access.  We will determine whether the States safeguarded Medicaid data and supporting systems in accordance with Federal requirements.  We will review general controls and use OIG's automated assessment tools to assess controls for their information system networks, databases, and web-facing applications.\n",
            "Score: 0.9189766049385071\t \n",
            "Topic: 0.028*\"drug\" + 0.018*\"federal\" + 0.016*\"fda\" + 0.014*\"hh\" + 0.014*\"review\" + 0.014*\"medicaid\" + 0.013*\"act\" + 0.013*\"program\" + 0.012*\"system\" + 0.011*\"amp\"\n",
            "\n",
            "Score: 0.06435280293226242\t \n",
            "Topic: 0.072*\"state\" + 0.042*\"medicaid\" + 0.031*\"care\" + 0.028*\"program\" + 0.027*\"federal\" + 0.026*\"provider\" + 0.026*\"payment\" + 0.016*\"health\" + 0.016*\"requirement\" + 0.013*\"act\"\n"
          ]
        }
      ]
    },
    {
      "cell_type": "markdown",
      "source": [
        "## Coherence Model Score\n",
        "Score Coherence of Model - u_mass coherence score"
      ],
      "metadata": {
        "id": "_s1qcC_7X0RP"
      }
    },
    {
      "cell_type": "code",
      "source": [
        "#LDA Model Coherence Score\n",
        "cm = CoherenceModel(model=lda_model, \n",
        "                    corpus=corpus, \n",
        "                    coherence=\"u_mass\")\n",
        "\n",
        "coherence = cm.get_coherence()  # get coherence value\n",
        "\n",
        "print(coherence)"
      ],
      "metadata": {
        "colab": {
          "base_uri": "https://localhost:8080/"
        },
        "id": "HiqF7G-cKHg2",
        "outputId": "f635b307-ac6d-45d2-fb65-56f79445707a"
      },
      "execution_count": 26,
      "outputs": [
        {
          "output_type": "stream",
          "name": "stdout",
          "text": [
            "-2.1752503683914077\n"
          ]
        }
      ]
    },
    {
      "cell_type": "markdown",
      "source": [
        "## Tfidf Model\n",
        "- Try a different model for calculating."
      ],
      "metadata": {
        "id": "55CAtCoxcCtM"
      }
    },
    {
      "cell_type": "code",
      "source": [
        "tfidf = models.TfidfModel(corpus)\n",
        "corpus_tfidf = tfidf[corpus]\n",
        "\n",
        "lda_model_tfidf = gensim.models.LdaMulticore(corpus_tfidf, num_topics=8, id2word=dictionary, passes=20, workers=8)"
      ],
      "metadata": {
        "id": "z-j1gAgf0Pk_"
      },
      "execution_count": 27,
      "outputs": []
    },
    {
      "cell_type": "code",
      "source": [
        "for idx, topic in lda_model_tfidf.print_topics(-1):\n",
        "    print('Topic: {} Word: {}'.format(idx, topic))"
      ],
      "metadata": {
        "colab": {
          "base_uri": "https://localhost:8080/"
        },
        "id": "P4kksEx3z8oI",
        "outputId": "70ef7234-aef6-42f3-e549-b4b421e81628"
      },
      "execution_count": 28,
      "outputs": [
        {
          "output_type": "stream",
          "name": "stdout",
          "text": [
            "Topic: 0 Word: 0.031*\"asp\" + 0.021*\"price\" + 0.014*\"mfcu\" + 0.014*\"average\" + 0.013*\"quarter\" + 0.011*\"reimbursement\" + 0.010*\"drug\" + 0.009*\"sale\" + 0.009*\"amount\" + 0.009*\"amp\"\n",
            "Topic: 1 Word: 0.012*\"hospital\" + 0.010*\"nurs\" + 0.009*\"home\" + 0.009*\"payment\" + 0.009*\"medicare\" + 0.008*\"inpatient\" + 0.008*\"hospice\" + 0.008*\"data\" + 0.008*\"fda\" + 0.007*\"care\"\n",
            "Topic: 2 Word: 0.050*\"children\" + 0.032*\"orr\" + 0.023*\"foster\" + 0.020*\"unaccompanied\" + 0.013*\"refugee\" + 0.012*\"acf\" + 0.010*\"shelter\" + 0.010*\"resettlement\" + 0.010*\"custody\" + 0.009*\"famil\"\n",
            "Topic: 3 Word: 0.022*\"financial\" + 0.021*\"statement\" + 0.018*\"dmepo\" + 0.012*\"manufacturer\" + 0.011*\"rebate\" + 0.008*\"audit\" + 0.007*\"prosthetic\" + 0.007*\"auditor\" + 0.007*\"paper\" + 0.007*\"audited\"\n",
            "Topic: 4 Word: 0.008*\"state\" + 0.007*\"medicaid\" + 0.007*\"opioid\" + 0.007*\"drug\" + 0.007*\"medicare\" + 0.006*\"payment\" + 0.006*\"program\" + 0.005*\"provider\" + 0.005*\"health\" + 0.005*\"risk\"\n",
            "Topic: 5 Word: 0.020*\"check\" + 0.019*\"background\" + 0.015*\"dual\" + 0.013*\"long\" + 0.013*\"formular\" + 0.013*\"aca\" + 0.011*\"affordable\" + 0.011*\"drug\" + 0.010*\"bidd\" + 0.010*\"sponsor\"\n",
            "Topic: 6 Word: 0.042*\"ih\" + 0.020*\"indian\" + 0.013*\"famil\" + 0.013*\"fmap\" + 0.012*\"incident\" + 0.012*\"child\" + 0.011*\"start\" + 0.010*\"head\" + 0.010*\"income\" + 0.009*\"tribe\"\n",
            "Topic: 7 Word: 0.018*\"covid\" + 0.018*\"19\" + 0.013*\"nih\" + 0.012*\"cdc\" + 0.011*\"response\" + 0.010*\"preparednes\" + 0.010*\"hh\" + 0.009*\"emergency\" + 0.008*\"control\" + 0.008*\"disease\"\n"
          ]
        }
      ]
    },
    {
      "cell_type": "code",
      "source": [
        "#corpus = random.randint(0,len(corpus))\n",
        "n = 300\n",
        "print(workplan_df.iloc[n]['Summary'], end = '')\n",
        "for index, score in sorted(lda_model_tfidf[corpus[n]], key=lambda tup: -1*tup[1]):\n",
        "    print(\"\\nScore: {}\\t \\nTopic: {}\".format(score, lda_model_tfidf.print_topic(index, 10)))"
      ],
      "metadata": {
        "colab": {
          "base_uri": "https://localhost:8080/"
        },
        "id": "lQGDVyUb0A2Q",
        "outputId": "04b330c4-46d7-4dcc-ada7-1644958d06f9"
      },
      "execution_count": 29,
      "outputs": [
        {
          "output_type": "stream",
          "name": "stdout",
          "text": [
            "Opioid abuse and overdose deaths are at crisis levels in the United States, with approximately 49,000 Americans dying from opioids in 2017, an increase from more than 42,000 in 2016.   Consistent with previous OIG work in Medicare Part D and Medicaid, we will determine the extent to which beneficiaries are receiving extreme amounts of opioids through Indian Health Service (IHS), as well as IHS-employed prescribers and IHS-run pharmacies that have questionable prescribing or dispensing patterns.  This review will also determine how IHS prevents and detects opioid misuse or abuse, as well as how it enforces its opioid-related policies.\n",
            "Score: 0.8786152005195618\t \n",
            "Topic: 0.008*\"state\" + 0.007*\"medicaid\" + 0.007*\"opioid\" + 0.007*\"drug\" + 0.007*\"medicare\" + 0.006*\"payment\" + 0.006*\"program\" + 0.005*\"provider\" + 0.005*\"health\" + 0.005*\"risk\"\n",
            "\n",
            "Score: 0.10722329467535019\t \n",
            "Topic: 0.042*\"ih\" + 0.020*\"indian\" + 0.013*\"famil\" + 0.013*\"fmap\" + 0.012*\"incident\" + 0.012*\"child\" + 0.011*\"start\" + 0.010*\"head\" + 0.010*\"income\" + 0.009*\"tribe\"\n"
          ]
        }
      ]
    },
    {
      "cell_type": "code",
      "source": [
        "from gensim import corpora, models\n",
        "tfidf = models.TfidfModel(corpus)\n",
        "corpus_tfidf = tfidf[corpus]\n",
        "from pprint import pprint\n",
        "for doc in corpus_tfidf:\n",
        "    pprint(doc)\n",
        "    break"
      ],
      "metadata": {
        "id": "LEle_jXC3njH",
        "colab": {
          "base_uri": "https://localhost:8080/"
        },
        "outputId": "609aca77-9d94-4a60-feb7-8de147e52c23"
      },
      "execution_count": 30,
      "outputs": [
        {
          "output_type": "stream",
          "name": "stdout",
          "text": [
            "[(0, 0.08032733781460998),\n",
            " (1, 0.06680720739964825),\n",
            " (2, 0.09129169023397705),\n",
            " (3, 0.3014371703370182),\n",
            " (4, 0.10750763877481936),\n",
            " (5, 0.0975324093123733),\n",
            " (6, 0.07958149937396115),\n",
            " (7, 0.14055324611860445),\n",
            " (8, 0.07958149937396115),\n",
            " (9, 0.06680720739964825),\n",
            " (10, 0.11986450085023498),\n",
            " (11, 0.09129169023397705),\n",
            " (12, 0.10207762237340029),\n",
            " (13, 0.07027662305930223),\n",
            " (14, 0.5171559088252629),\n",
            " (15, 0.14270484092135052),\n",
            " (16, 0.25582682754837544),\n",
            " (17, 0.09486684244312205),\n",
            " (18, 0.043921290159713654),\n",
            " (19, 0.07958149937396115),\n",
            " (20, 0.17840877449025908),\n",
            " (21, 0.07958149937396115),\n",
            " (22, 0.05115627371246922),\n",
            " (23, 0.11031683130214026),\n",
            " (24, 0.05036841079505216),\n",
            " (25, 0.06824174153246501),\n",
            " (26, 0.11986450085023498),\n",
            " (27, 0.07485289362938097),\n",
            " (28, 0.11986450085023498),\n",
            " (29, 0.0936236473738031),\n",
            " (30, 0.07485289362938097),\n",
            " (31, 0.07675029713657146),\n",
            " (32, 0.08714078579554667),\n",
            " (33, 0.1950648186247466),\n",
            " (34, 0.19233576186664642),\n",
            " (35, 0.05546744955815209),\n",
            " (36, 0.10750763877481936),\n",
            " (37, 0.27079844252302265),\n",
            " (38, 0.05455040727006675),\n",
            " (39, 0.11691785338360218),\n",
            " (40, 0.08438768431954065),\n",
            " (41, 0.13115676052926994),\n",
            " (42, 0.09616788093332321),\n",
            " (43, 0.10047905677900608),\n",
            " (44, 0.07548139837189315),\n",
            " (45, 0.268312412034078)]\n"
          ]
        }
      ]
    }
  ]
}