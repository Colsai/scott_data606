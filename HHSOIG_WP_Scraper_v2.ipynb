{
  "nbformat": 4,
  "nbformat_minor": 0,
  "metadata": {
    "colab": {
      "name": "HHSOIG_WP_Scraper_v2.ipynb",
      "provenance": [],
      "collapsed_sections": [],
      "authorship_tag": "ABX9TyMrpeYQlYSZT6PKkcCyUEdd",
      "include_colab_link": true
    },
    "kernelspec": {
      "name": "python3",
      "display_name": "Python 3"
    },
    "language_info": {
      "name": "python"
    }
  },
  "cells": [
    {
      "cell_type": "markdown",
      "metadata": {
        "id": "view-in-github",
        "colab_type": "text"
      },
      "source": [
        "<a href=\"https://colab.research.google.com/github/Colsai/scott_data606/blob/main/HHSOIG_WP_Scraper_v2.ipynb\" target=\"_parent\"><img src=\"https://colab.research.google.com/assets/colab-badge.svg\" alt=\"Open In Colab\"/></a>"
      ]
    },
    {
      "cell_type": "markdown",
      "source": [
        "# HHSOIG Workplan Data\n",
        "## Data Scraper for HHS data and reports"
      ],
      "metadata": {
        "id": "suWdtHP33TuB"
      }
    },
    {
      "cell_type": "code",
      "source": [
        ""
      ],
      "metadata": {
        "id": "sJATYuDUyTQ8"
      },
      "execution_count": null,
      "outputs": []
    },
    {
      "cell_type": "code",
      "source": [
        "from google.colab import drive\n",
        "drive.mount('/content/drive')"
      ],
      "metadata": {
        "colab": {
          "base_uri": "https://localhost:8080/"
        },
        "id": "e74h_Pvstr4s",
        "outputId": "1d86f0e9-8449-47d8-96b0-b141b82a3fce"
      },
      "execution_count": 36,
      "outputs": [
        {
          "output_type": "stream",
          "name": "stdout",
          "text": [
            "Drive already mounted at /content/drive; to attempt to forcibly remount, call drive.mount(\"/content/drive\", force_remount=True).\n"
          ]
        }
      ]
    },
    {
      "cell_type": "code",
      "execution_count": 71,
      "metadata": {
        "id": "hgEWlTxJtnlW"
      },
      "outputs": [],
      "source": [
        "########################################\n",
        "#Import general packages for analysis  #\n",
        "########################################\n",
        "import pandas as pd\n",
        "import numpy as np\n",
        "import os\n",
        "import time\n",
        "import requests\n",
        "from bs4 import BeautifulSoup\n",
        "from timeit import default_timer as timer\n",
        "\n",
        "#Scrape Active Table (last row is skipped- double header col)\n",
        "df_active_table = pd.read_html('https://oig.hhs.gov/reports-and-publications/workplan/active-item-table.asp')[0][0:-1]\n",
        "\n",
        "###############################\n",
        "# Summary Scraper             #\n",
        "###############################\n",
        "def scrape_all_summaries(last_scraped_page = 750, \n",
        "                         show_output = False):\n",
        "    \n",
        "    df_all_workplans = []\n",
        "\n",
        "    for summary_num in range(1,last_scraped_page):\n",
        "        #Scrapes sumamry number and fills to len(7) with 0s\n",
        "        strng_sum_num = str(summary_num)\n",
        "        summ_num = strng_sum_num.zfill(7)\n",
        "\n",
        "        try:\n",
        "            workplan_website = f\"https://oig.hhs.gov/reports-and-publications/workplan/summary/wp-summary-{summ_num}.asp\"\n",
        "            df = pd.read_html(workplan_website)[0]\n",
        "            df[\"Website_Link\"] = workplan_website\n",
        "\n",
        "            if show_output:\n",
        "                print(summ_num)\n",
        "            \n",
        "            try:\n",
        "                #Scrape work plan website with bs4\n",
        "                response = requests.get(workplan_website)\n",
        "                \n",
        "                soup = BeautifulSoup(response.text, 'html.parser')\n",
        "\n",
        "                num_para_elements = len(soup.find_all('p'))\n",
        "\n",
        "                wp_summary = ''.join(str(soup.find_all('p')[3:num_para_elements])).replace(\"<p>\", \"\").replace(\"</p>\",\"\")[1:-1]\n",
        "\n",
        "                df[\"Summary\"] = wp_summary\n",
        "\n",
        "            except Exception as e:\n",
        "                print(e)\n",
        "                df[\"Summary\"] = \"\"\n",
        "                continue\n",
        "\n",
        "            #Append df to list    \n",
        "            df_all_workplans.append(df)\n",
        "        \n",
        "        except Exception as e:\n",
        "            if show_output:\n",
        "                print(f\"{summ_num}: {e}\")\n",
        "        \n",
        "            continue\n",
        "        \n",
        "    return pd.concat(df_all_workplans)\n",
        "\n",
        "def run_scraper(last_scraped_page = 10, show_output = True, output_file = False):\n",
        "    start = timer()\n",
        "    df_all_workplans = scrape_all_summaries(last_scraped_page, show_output)\n",
        "    end = timer()\n",
        "    run_time = f\"{round((end - start)/60,2)} minutes\"\n",
        "    print(f\"Total Run Time: {run_time}\")\n",
        "\n",
        "    if output_file == True:\n",
        "        #Output to CSV\n",
        "        df_all_workplans.to_csv('/content/drive/MyDrive/DATA_606/HHS_OIG_workplans.csv', index = False)\n",
        "\n",
        "    return df_all_workplans\n",
        "\n",
        "def scrape_all_reports(df_workplans, file_output = True):\n",
        "    #String Replacement\n",
        "    workplan_ids = [elem.replace(\" \", \"\").replace(\",\",\";\") if type(elem) == str else elem for elem in df_workplans['Report Number(s)']]\n",
        "\n",
        "    #Convert to dict\n",
        "    wp_list = [elem for idx, elem in enumerate(workplan_ids)]\n",
        "\n",
        "    #String Replacement\n",
        "    all_wps = [elem.split(\";\") if type(elem) == str else elem for elem in wp_list]\n",
        "    all_wps[0:10]\n",
        "\n",
        "    #Set potential products as anything that has an 'A' or starts with 'OEI\n",
        "    all_products = []\n",
        "    potential_products = []\n",
        "\n",
        "    for wp_list in all_wps:\n",
        "        wp_item_reports = []\n",
        "        if type(wp_list) == list:\n",
        "            for item in wp_list:\n",
        "                if item.startswith('A') | item.startswith('OEI'):\n",
        "                    wp_item_reports.append(item)\n",
        "                    all_products.append(item)\n",
        "        else:\n",
        "            wp_item_reports = ''\n",
        "            \n",
        "        potential_products.append(wp_item_reports)\n",
        "\n",
        "    df_output['Potential_products'] = potential_products\n",
        "\n",
        "    #Define the list of possible regions here\n",
        "    oas_iter_list = list(pd.Series([int(prod[2:4]) for prod in all_products if prod.startswith('A-')]).unique())\n",
        "    oei_iter_list = list(pd.Series([prod[4:6] for prod in all_products if prod.startswith('OEI')]).unique())\n",
        "\n",
        "    wp_item_stats = []\n",
        "\n",
        "###############################\n",
        "# Products Scraper            #\n",
        "###############################\n",
        "    for idx, prod in enumerate(all_products):\n",
        "        if idx % 5 == 0:\n",
        "            print(idx, end = ' ')\n",
        "\n",
        "        if prod.startswith('A'):\n",
        "            wp_item_title = ''\n",
        "            wp_item_summary = ''\n",
        "            \n",
        "            #For OAS, it is difficult to tell which region\n",
        "            wp_test_num = prod.replace('-','')[-8:]\n",
        "            region_num = int(prod[2:4])\n",
        "            OAS_prod_website = f\"https://oig.hhs.gov/oas/reports/region{region_num}/{wp_test_num}.asp\"\n",
        "            response = requests.get(OAS_prod_website)\n",
        "                \n",
        "            if str(response) == '<Response [200]>':\n",
        "                soup = BeautifulSoup(response.text, 'html.parser')\n",
        "                wp_item_title = str(soup.find_all('title')[0]).replace('<title>','').replace('</title>','')\n",
        "                wp_item_summary = str(soup.find_all('p')[5::]).replace(\"[\",\"\").replace(\"]\",\"\").replace(\"<p>\",\"\").replace(\"</p>\",\"\")\n",
        "                time.sleep(1)\n",
        "            \n",
        "            wp_item_stats.append([wp_item_title,wp_item_summary])\n",
        "\n",
        "        elif prod.startswith('OEI'):\n",
        "            wp_item_title = ''\n",
        "            wp_item_summary = ''\n",
        "            OEI_prod_website = f\"https://oig.hhs.gov/oei/reports/{prod}.asp\"\n",
        "            response = requests.get(OEI_prod_website)\n",
        "\n",
        "            if str(response) == '<Response [200]>':\n",
        "                soup = BeautifulSoup(response.text, 'html.parser')\n",
        "                wp_item_title = str(soup.find_all('title')[0]).replace('<title>','').replace('</title>','')\n",
        "                wp_item_summary = str(soup.find_all('p')[5::]).replace(\"[\",\"\").replace(\"]\",\"\").replace(\"<p>\",\"\").replace(\"</p>\",\"\")\n",
        "                time.sleep(1)\n",
        "            \n",
        "            wp_item_stats.append([wp_item_title,wp_item_summary])\n",
        "\n",
        "    df_prods = pd.DataFrame(wp_item_stats)\n",
        "    df_prods.columns = ['Title', 'Summary']\n",
        "\n",
        "    df_combined = pd.DataFrame(all_products)\n",
        "    df_combined['Title'] = df_prods[\"Title\"]\n",
        "    df_combined['Summary'] = df_prods[\"Summary\"]\n",
        "    df_combined.columns = [\"Report Number(s)\",\"Workplan_Title\",\"Workplan_Summary\"].reset_index(drop = True)\n",
        "\n",
        "    if file_output == True:\n",
        "        try:\n",
        "            df_combined.to_csv('/content/drive/MyDrive/DATA_606/HHS_OIG_Reports.csv')\n",
        "        except Exception as e:\n",
        "            print(e)\n",
        "\n",
        "    return df_combined\n",
        "\n",
        "    ###############################\n",
        "    # Start from Previous         #\n",
        "    ###############################\n",
        "\n",
        "def start_from_previous_wps():\n",
        "    df = pd.read_csv('/content/drive/MyDrive/DATA_606/HHS_OIG_workplans.csv')\n",
        "    return df\n",
        "\n",
        "def start_from_previous_products():\n",
        "    df = pd.read_csv('/content/drive/MyDrive/DATA_606/HHS_OIG_Reports.csv')\n",
        "    return df   "
      ]
    },
    {
      "cell_type": "code",
      "source": [
        "df_output = start_from_previous()\n",
        "df_output.info()"
      ],
      "metadata": {
        "colab": {
          "base_uri": "https://localhost:8080/"
        },
        "id": "ryj1w3GaYXpW",
        "outputId": "82256049-1379-48b2-f7e1-016e66a23627"
      },
      "execution_count": 72,
      "outputs": [
        {
          "output_type": "stream",
          "name": "stdout",
          "text": [
            "<class 'pandas.core.frame.DataFrame'>\n",
            "RangeIndex: 654 entries, 0 to 653\n",
            "Data columns (total 9 columns):\n",
            " #   Column                                Non-Null Count  Dtype \n",
            "---  ------                                --------------  ----- \n",
            " 0   Announced or Revised                  654 non-null    object\n",
            " 1   Agency                                654 non-null    object\n",
            " 2   Title                                 654 non-null    object\n",
            " 3   Component                             653 non-null    object\n",
            " 4   Report Number(s)                      654 non-null    object\n",
            " 5   Expected Issue Date (FY)              649 non-null    object\n",
            " 6   Website_Link                          654 non-null    object\n",
            " 7   Summary                               654 non-null    object\n",
            " 8   Office of Evaluation and Inspections  1 non-null      object\n",
            "dtypes: object(9)\n",
            "memory usage: 46.1+ KB\n"
          ]
        }
      ]
    },
    {
      "cell_type": "code",
      "source": [
        "df_products = start_from_previous_products()\n",
        "df_products.info()"
      ],
      "metadata": {
        "colab": {
          "base_uri": "https://localhost:8080/"
        },
        "id": "0hXOChlutPSb",
        "outputId": "d1a54a67-516c-474b-fab4-2a576877699e"
      },
      "execution_count": 73,
      "outputs": [
        {
          "output_type": "stream",
          "name": "stdout",
          "text": [
            "<class 'pandas.core.frame.DataFrame'>\n",
            "RangeIndex: 737 entries, 0 to 736\n",
            "Data columns (total 4 columns):\n",
            " #   Column            Non-Null Count  Dtype \n",
            "---  ------            --------------  ----- \n",
            " 0   Unnamed: 0        737 non-null    int64 \n",
            " 1   Report Number(s)  737 non-null    object\n",
            " 2   Workplan_Title    599 non-null    object\n",
            " 3   Workplan_Summary  598 non-null    object\n",
            "dtypes: int64(1), object(3)\n",
            "memory usage: 23.2+ KB\n"
          ]
        }
      ]
    },
    {
      "cell_type": "code",
      "source": [
        "df_products.head().iloc[0][3]"
      ],
      "metadata": {
        "colab": {
          "base_uri": "https://localhost:8080/",
          "height": 109
        },
        "id": "niqiQnFot37g",
        "outputId": "0855e8cf-d17f-447b-802f-360d0e54ea55"
      },
      "execution_count": 69,
      "outputs": [
        {
          "output_type": "execute_result",
          "data": {
            "text/plain": [
              "'The Temporary Assistance for Needy Families (TANF) program provides grants to States to help low-income families with financial assistance and support for work-related activities, child care, and other services.  As a condition of receiving Federal TANF funds, States are required to spend a certain amount of their own funds (known as State maintenance-of-effort (MOE) funds) on TANF-allowable expenditures.  Effective fiscal year (FY) 2015, States must use a revised form to report their TANF and MOE expenditures quarterly to the Administration for Children and Families (ACF).  Therefore, we decided to review States\\' compliance with the revised TANF reporting requirements.  We audited New York\\'s compliance because a prior OIG audit of TANF Basic Assistance payments in New York identified significant areas of noncompliance with Federal requirements.  , Our objective was to determine whether New York ensured that its TANF and MOE expenditures reported to ACF met Federal requirements., Our audit covered $4.8 billion in reported TANF and MOE funds expended by New York during \\nFY 2016.  We reviewed these expenditures and traced them to summary worksheets.  We also reviewed selected expenditures from two local districts for supporting documentation for the quarter ending September 30, 2016., New York\\'s oversight did not ensure that its reported TANF and MOE expenditures met Federal requirements.  Specifically, although New York timely submitted required expenditure reports to ACF, except for certain State tax credits, it did not ensure the accuracy of the other expenditures reported to ACF.  Rather, New York relied on its local districts and TANF-funded State programs to compile and maintain supporting documentation for its reported expenditures and did not review the documentation., As a result, New York could not ensure that its reported TANF program expenditures for FY 2016, totaling $4.8 billion in TANF and MOE expenditures, met Federal requirements and were used in accordance with the intended purposes of its TANF grant.  Inaccurate reporting of TANF program expenditures could negatively impact ACF\\'s program decision making related to how States use their TANF and MOE funds. , We recommend that New York: (1) work with its local districts and TANF-funded State programs to develop financial management procedures that would enable it to determine if TANF and MOE expenditures are accurately reported to ACF, including the $4.8 billion in TANF and MOE expenditures reported for FY 2016; and (2) improve its oversight of the TANF program by providing additional guidance and training to ensure that its local districts accurately report expenditures and maintain adequate documentation to support TANF and MOE expenditures reported., New York agreed with our recommendations and stated that the recommendations are its currently established practices.  New York stated that it will continue to pursue ways to further strengthen its oversight of the TANF program.  New York also stated that the title of the report is misleading and unfairly mischaracterizes its existing oversight and monitoring policies and practices.  We maintain that our report title, findings and recommendations are valid.  We acknowledge New York\\'s comments about its robust TANF program monitoring function and efforts made to strengthen its oversight of the program.  However, we determined that New York did not have adequate oversight during our audit period to ensure that its reported TANF program expenditures met Federal requirements. , Filed under: <a href=\"/reports-and-publications/oas/acf.asp\">Administration for Children and Families</a>'"
            ],
            "application/vnd.google.colaboratory.intrinsic+json": {
              "type": "string"
            }
          },
          "metadata": {},
          "execution_count": 69
        }
      ]
    }
  ]
}